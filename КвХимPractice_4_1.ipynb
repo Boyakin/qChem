{
  "cells": [
    {
      "cell_type": "markdown",
      "metadata": {
        "id": "view-in-github",
        "colab_type": "text"
      },
      "source": [
        "<a href=\"https://colab.research.google.com/github/Boyakin/qChem/blob/main/%D0%9A%D0%B2%D0%A5%D0%B8%D0%BCPractice_4_1.ipynb\" target=\"_parent\"><img src=\"https://colab.research.google.com/assets/colab-badge.svg\" alt=\"Open In Colab\"/></a>"
      ]
    },
    {
      "cell_type": "code",
      "execution_count": null,
      "metadata": {
        "colab": {
          "base_uri": "https://localhost:8080/"
        },
        "id": "JGsZwAvt0oH0",
        "outputId": "a7981b00-b386-4b04-c21a-d0e148963fd2"
      },
      "outputs": [
        {
          "output_type": "stream",
          "name": "stdout",
          "text": [
            "Collecting pyscf\n",
            "  Downloading pyscf-2.8.0-py3-none-manylinux_2_17_x86_64.manylinux2014_x86_64.whl.metadata (6.4 kB)\n",
            "Collecting geometric\n",
            "  Downloading geometric-1.1.tar.gz (386 kB)\n",
            "\u001b[2K     \u001b[90m━━━━━━━━━━━━━━━━━━━━━━━━━━━━━━━━━━━━━━━━\u001b[0m \u001b[32m386.0/386.0 kB\u001b[0m \u001b[31m5.7 MB/s\u001b[0m eta \u001b[36m0:00:00\u001b[0m\n",
            "\u001b[?25h  Preparing metadata (setup.py) ... \u001b[?25l\u001b[?25hdone\n",
            "Requirement already satisfied: numpy!=1.16,!=1.17,>=1.13 in /usr/local/lib/python3.11/dist-packages (from pyscf) (2.0.2)\n",
            "Requirement already satisfied: scipy>=1.6.0 in /usr/local/lib/python3.11/dist-packages (from pyscf) (1.14.1)\n",
            "Requirement already satisfied: h5py>=2.7 in /usr/local/lib/python3.11/dist-packages (from pyscf) (3.13.0)\n",
            "Requirement already satisfied: setuptools in /usr/local/lib/python3.11/dist-packages (from pyscf) (75.2.0)\n",
            "Requirement already satisfied: networkx in /usr/local/lib/python3.11/dist-packages (from geometric) (3.4.2)\n",
            "Requirement already satisfied: six in /usr/local/lib/python3.11/dist-packages (from geometric) (1.17.0)\n",
            "Downloading pyscf-2.8.0-py3-none-manylinux_2_17_x86_64.manylinux2014_x86_64.whl (50.9 MB)\n",
            "\u001b[2K   \u001b[90m━━━━━━━━━━━━━━━━━━━━━━━━━━━━━━━━━━━━━━━━\u001b[0m \u001b[32m50.9/50.9 MB\u001b[0m \u001b[31m9.5 MB/s\u001b[0m eta \u001b[36m0:00:00\u001b[0m\n",
            "\u001b[?25hBuilding wheels for collected packages: geometric\n",
            "  Building wheel for geometric (setup.py) ... \u001b[?25l\u001b[?25hdone\n",
            "  Created wheel for geometric: filename=geometric-1.1-py3-none-any.whl size=402087 sha256=7c7f8627140d5140ed79a5dbd35eb44a8f807c36715a8eeb01e44c465da1b56e\n",
            "  Stored in directory: /root/.cache/pip/wheels/c5/77/0c/96a54539fe0560749fdbe283f92582d09bddb212856407a4cb\n",
            "Successfully built geometric\n",
            "Installing collected packages: pyscf, geometric\n",
            "Successfully installed geometric-1.1 pyscf-2.8.0\n"
          ]
        }
      ],
      "source": [
        "%pip install pyscf geometric"
      ]
    },
    {
      "cell_type": "code",
      "execution_count": null,
      "metadata": {
        "id": "9TMfyXQc1Txu"
      },
      "outputs": [],
      "source": [
        "import numpy as np\n",
        "from pyscf import gto, scf, dft, tddft\n",
        "from pyscf.hessian import thermo\n",
        "import time"
      ]
    },
    {
      "cell_type": "code",
      "execution_count": null,
      "metadata": {
        "id": "Fzuijcpi1xLw",
        "colab": {
          "base_uri": "https://localhost:8080/"
        },
        "outputId": "6aafeed6-23b9-4f0f-89f5-6cd4c5d13f9d"
      },
      "outputs": [
        {
          "output_type": "stream",
          "name": "stdout",
          "text": [
            "converged SCF energy = -114.544115657647\n"
          ]
        },
        {
          "output_type": "stream",
          "name": "stderr",
          "text": [
            "geometric-optimize called with the following command line:\n",
            "/usr/local/lib/python3.11/dist-packages/colab_kernel_launcher.py -f /root/.local/share/jupyter/runtime/kernel-9f96f5b5-03b1-48fb-91fd-c54cbd27413a.json\n",
            "\n",
            "                                        \u001b[91m())))))))))))))))/\u001b[0m                     \n",
            "                                    \u001b[91m())))))))))))))))))))))))),\u001b[0m                \n",
            "                                \u001b[91m*)))))))))))))))))))))))))))))))))\u001b[0m             \n",
            "                        \u001b[94m#,\u001b[0m    \u001b[91m()))))))))/\u001b[0m                \u001b[91m.)))))))))),\u001b[0m          \n",
            "                      \u001b[94m#%%%%,\u001b[0m  \u001b[91m())))))\u001b[0m                        \u001b[91m.))))))))*\u001b[0m        \n",
            "                      \u001b[94m*%%%%%%,\u001b[0m  \u001b[91m))\u001b[0m              \u001b[93m..\u001b[0m              \u001b[91m,))))))).\u001b[0m      \n",
            "                        \u001b[94m*%%%%%%,\u001b[0m         \u001b[93m***************/.\u001b[0m        \u001b[91m.)))))))\u001b[0m     \n",
            "                \u001b[94m#%%/\u001b[0m      \u001b[94m(%%%%%%,\u001b[0m    \u001b[93m/*********************.\u001b[0m       \u001b[91m)))))))\u001b[0m    \n",
            "              \u001b[94m.%%%%%%#\u001b[0m      \u001b[94m*%%%%%%,\u001b[0m  \u001b[93m*******/,\u001b[0m     \u001b[93m**********,\u001b[0m      \u001b[91m.))))))\u001b[0m   \n",
            "                \u001b[94m.%%%%%%/\u001b[0m      \u001b[94m*%%%%%%,\u001b[0m  \u001b[93m**\u001b[0m              \u001b[93m********\u001b[0m      \u001b[91m.))))))\u001b[0m  \n",
            "          \u001b[94m##\u001b[0m      \u001b[94m.%%%%%%/\u001b[0m      \u001b[94m(%%%%%%,\u001b[0m                  \u001b[93m,******\u001b[0m      \u001b[91m/)))))\u001b[0m  \n",
            "        \u001b[94m%%%%%%\u001b[0m      \u001b[94m.%%%%%%#\u001b[0m      \u001b[94m*%%%%%%,\u001b[0m    \u001b[92m,/////.\u001b[0m       \u001b[93m******\u001b[0m      \u001b[91m))))))\u001b[0m \n",
            "      \u001b[94m#%\u001b[0m      \u001b[94m%%\u001b[0m      \u001b[94m.%%%%%%/\u001b[0m      \u001b[94m*%%%%%%,\u001b[0m  \u001b[92m////////,\u001b[0m      \u001b[93m*****/\u001b[0m     \u001b[91m,)))))\u001b[0m \n",
            "    \u001b[94m#%%\u001b[0m  \u001b[94m%%%\u001b[0m  \u001b[94m%%%#\u001b[0m      \u001b[94m.%%%%%%/\u001b[0m      \u001b[94m(%%%%%%,\u001b[0m  \u001b[92m///////.\u001b[0m     \u001b[93m/*****\u001b[0m      \u001b[91m))))).\u001b[0m\n",
            "  \u001b[94m#%%%%.\u001b[0m      \u001b[94m%%%%%#\u001b[0m      \u001b[94m/%%%%%%*\u001b[0m      \u001b[94m#%%%%%%\u001b[0m   \u001b[92m/////)\u001b[0m     \u001b[93m******\u001b[0m      \u001b[91m))))),\u001b[0m\n",
            "    \u001b[94m#%%%%##%\u001b[0m  \u001b[94m%%%#\u001b[0m      \u001b[94m.%%%%%%/\u001b[0m      \u001b[94m(%%%%%%,\u001b[0m  \u001b[92m///////.\u001b[0m     \u001b[93m/*****\u001b[0m      \u001b[91m))))).\u001b[0m\n",
            "      \u001b[94m##\u001b[0m     \u001b[94m%%%\u001b[0m      \u001b[94m.%%%%%%/\u001b[0m      \u001b[94m*%%%%%%,\u001b[0m  \u001b[92m////////.\u001b[0m      \u001b[93m*****/\u001b[0m     \u001b[91m,)))))\u001b[0m \n",
            "        \u001b[94m#%%%%#\u001b[0m      \u001b[94m/%%%%%%/\u001b[0m      \u001b[94m(%%%%%%\u001b[0m      \u001b[92m/)/)//\u001b[0m       \u001b[93m******\u001b[0m      \u001b[91m))))))\u001b[0m \n",
            "          \u001b[94m##\u001b[0m      \u001b[94m.%%%%%%/\u001b[0m      \u001b[94m(%%%%%%,\u001b[0m                  \u001b[93m*******\u001b[0m      \u001b[91m))))))\u001b[0m  \n",
            "                \u001b[94m.%%%%%%/\u001b[0m      \u001b[94m*%%%%%%,\u001b[0m  \u001b[93m**.\u001b[0m             \u001b[93m/*******\u001b[0m      \u001b[91m.))))))\u001b[0m  \n",
            "              \u001b[94m*%%%%%%/\u001b[0m      \u001b[94m(%%%%%%\u001b[0m   \u001b[93m********/*..,*/*********\u001b[0m       \u001b[91m*))))))\u001b[0m   \n",
            "                \u001b[94m#%%/\u001b[0m      \u001b[94m(%%%%%%,\u001b[0m    \u001b[93m*********************/\u001b[0m        \u001b[91m)))))))\u001b[0m    \n",
            "                        \u001b[94m*%%%%%%,\u001b[0m         \u001b[93m,**************/\u001b[0m         \u001b[91m,))))))/\u001b[0m     \n",
            "                      \u001b[94m(%%%%%%\u001b[0m   \u001b[91m()\u001b[0m                              \u001b[91m))))))))\u001b[0m       \n",
            "                      \u001b[94m#%%%%,\u001b[0m  \u001b[91m())))))\u001b[0m                        \u001b[91m,)))))))),\u001b[0m        \n",
            "                        \u001b[94m#,\u001b[0m    \u001b[91m())))))))))\u001b[0m                \u001b[91m,)))))))))).\u001b[0m          \n",
            "                                 \u001b[91m()))))))))))))))))))))))))))))))/\u001b[0m             \n",
            "                                    \u001b[91m())))))))))))))))))))))))).\u001b[0m                \n",
            "                                         \u001b[91m())))))))))))))),\u001b[0m                     \n",
            "\n",
            "-=# \u001b[1;94m geomeTRIC started. Version: 1.1 \u001b[0m #=-\n",
            "Current date and time: 2025-04-10 07:42:33\n",
            "#========================================================#\n",
            "#| \u001b[92m    Arguments passed to driver run_optimizer():     \u001b[0m |#\n",
            "#========================================================#\n",
            "customengine              <pyscf.geomopt.geometric_solver.PySCFEngine object at 0x7a61647e7410> \n",
            "input                     /tmp/tmpxx5__yzz/f186d3e6-09e8-4001-85f5-fdab9afe2864 \n",
            "logIni                    /usr/local/lib/python3.11/dist-packages/pyscf/geomopt/log.ini \n",
            "----------------------------------------------------------\n",
            "Custom engine selected.\n",
            "Bonds will be generated from interatomic distances less than 1.20 times sum of covalent radii\n",
            "12 internal coordinates being used (instead of 12 Cartesians)\n",
            "Internal coordinate system (atoms numbered from 1):\n",
            "Distance 1-2\n",
            "Distance 2-3\n",
            "Distance 2-4\n",
            "Angle 1-2-4\n",
            "Angle 3-2-4\n",
            "Out-of-Plane 2-1-3-4\n",
            "Translation-X 1-4\n",
            "Translation-Y 1-4\n",
            "Translation-Z 1-4\n",
            "Rotation-A 1-4\n",
            "Rotation-B 1-4\n",
            "Rotation-C 1-4\n",
            "<class 'geometric.internal.Distance'> : 3\n",
            "<class 'geometric.internal.Angle'> : 2\n",
            "<class 'geometric.internal.OutOfPlane'> : 1\n",
            "<class 'geometric.internal.TranslationX'> : 1\n",
            "<class 'geometric.internal.TranslationY'> : 1\n",
            "<class 'geometric.internal.TranslationZ'> : 1\n",
            "<class 'geometric.internal.RotationA'> : 1\n",
            "<class 'geometric.internal.RotationB'> : 1\n",
            "<class 'geometric.internal.RotationC'> : 1\n",
            "> ===== Optimization Info: ====\n",
            "> Job type: Energy minimization\n",
            "> Maximum number of optimization cycles: 300\n",
            "> Initial / maximum trust radius (Angstrom): 0.100 / 0.300\n",
            "> Convergence Criteria:\n",
            "> Will converge when all 5 criteria are reached:\n",
            ">  |Delta-E| < 1.00e-06\n",
            ">  RMS-Grad  < 3.00e-04\n",
            ">  Max-Grad  < 4.50e-04\n",
            ">  RMS-Disp  < 1.20e-03\n",
            ">  Max-Disp  < 1.80e-03\n",
            "> === End Optimization Info ===\n"
          ]
        },
        {
          "output_type": "stream",
          "name": "stdout",
          "text": [
            "\n",
            "Geometry optimization cycle 1\n",
            "Cartesian coordinates (Angstrom)\n",
            " Atom        New coordinates             dX        dY        dZ\n",
            "   O   0.000000   0.000000   0.000000    0.000000  0.000000  0.000000\n",
            "   C   1.210000   0.000000   0.000000    0.000000  0.000000  0.000000\n",
            "   H   1.765000   0.000000   0.961288    0.000000  0.000000  0.000000\n",
            "   H   1.765000  -0.000000  -0.961288    0.000000  0.000000  0.000000\n",
            "converged SCF energy = -114.544115657605\n",
            "--------------- sfX2C1eSymAdaptedRKS_Scanner gradients ---------------\n",
            "         x                y                z\n",
            "0 O    -0.0128778521     0.0000000000    -0.0000000000\n",
            "1 C     0.0217403675     0.0000000000     0.0000000000\n",
            "2 H    -0.0045272134     0.0000000000     0.0044303528\n",
            "3 H    -0.0045272134    -0.0000000000    -0.0044303528\n",
            "----------------------------------------------\n",
            "cycle 1: E = -114.544115658  dE = -114.544  norm(grad) = 0.0268091\n"
          ]
        },
        {
          "output_type": "stream",
          "name": "stderr",
          "text": [
            "Step    0 : Gradient = 1.340e-02/2.174e-02 (rms/max) Energy = -114.5441156576\n",
            "Hessian Eigenvalues: 4.50000e-02 5.00000e-02 5.00000e-02 ... 3.26000e-01 3.26000e-01 9.99547e-01\n"
          ]
        },
        {
          "output_type": "stream",
          "name": "stdout",
          "text": [
            "\n",
            "Geometry optimization cycle 2\n",
            "Cartesian coordinates (Angstrom)\n",
            " Atom        New coordinates             dX        dY        dZ\n",
            "   O  -0.010834  -0.000000  -0.018602   -0.010834 -0.000000 -0.018602\n",
            "   C   1.191986  -0.000000   0.011942   -0.018014 -0.000000  0.011942\n",
            "   H   1.797116  -0.000000   0.939395    0.032116 -0.000000 -0.021893\n",
            "   H   1.769857  -0.000000  -0.932735    0.004857 -0.000000  0.028553\n",
            "converged SCF energy = -114.544694706535\n",
            "--------------- sfX2C1eSymAdaptedRKS_Scanner gradients ---------------\n",
            "         x                y                z\n",
            "0 O    -0.0056730572     0.0000000000    -0.0000000000\n",
            "1 C     0.0057991128     0.0000000000     0.0000000000\n",
            "2 H    -0.0001678538    -0.0000000000    -0.0016636396\n",
            "3 H    -0.0001678538     0.0000000000     0.0016636396\n",
            "----------------------------------------------\n",
            "cycle 2: E = -114.544694707  dE = -0.000579049  norm(grad) = 0.00845015\n"
          ]
        },
        {
          "output_type": "stream",
          "name": "stderr",
          "text": [
            "Step    1 : Displace = \u001b[0m2.856e-02\u001b[0m/\u001b[0m3.721e-02\u001b[0m (rms/max) Trust = 1.000e-01 (=) Grad = \u001b[0m4.225e-03\u001b[0m/\u001b[0m5.799e-03\u001b[0m (rms/max) E (change) = -114.5446947065 (\u001b[0m-5.790e-04\u001b[0m) Quality = \u001b[0m0.963\u001b[0m\n",
            "Hessian Eigenvalues: 4.50000e-02 4.98976e-02 5.00000e-02 ... 3.26000e-01 3.40522e-01 9.07787e-01\n"
          ]
        },
        {
          "output_type": "stream",
          "name": "stdout",
          "text": [
            "\n",
            "Geometry optimization cycle 3\n",
            "Cartesian coordinates (Angstrom)\n",
            " Atom        New coordinates             dX        dY        dZ\n",
            "   O  -0.005506  -0.000000  -0.020400    0.005328 -0.000000 -0.020400\n",
            "   C   1.194165  -0.000000   0.011372    0.002180 -0.000000  0.011372\n",
            "   H   1.795007  -0.000000   0.944143    0.011520 -0.000000  0.008078\n",
            "   H   1.773222  -0.000000  -0.935114   -0.010264 -0.000000  0.000951\n",
            "converged SCF energy = -114.544723154115\n",
            "--------------- sfX2C1eSymAdaptedRKS_Scanner gradients ---------------\n",
            "         x                y                z\n",
            "0 O    -0.0004969414     0.0000000000    -0.0000000000\n",
            "1 C     0.0006918224     0.0000000000     0.0000000000\n",
            "2 H    -0.0002055037    -0.0000000000    -0.0003298081\n",
            "3 H    -0.0002055037     0.0000000000     0.0003298081\n",
            "----------------------------------------------\n",
            "cycle 3: E = -114.544723154  dE = -2.84476e-05  norm(grad) = 0.0010137\n"
          ]
        },
        {
          "output_type": "stream",
          "name": "stderr",
          "text": [
            "Step    2 : Displace = \u001b[0m3.216e-03\u001b[0m/\u001b[0m4.002e-03\u001b[0m (rms/max) Trust = 1.414e-01 (\u001b[92m+\u001b[0m) Grad = \u001b[0m5.068e-04\u001b[0m/\u001b[0m6.918e-04\u001b[0m (rms/max) E (change) = -114.5447231541 (\u001b[0m-2.845e-05\u001b[0m) Quality = \u001b[0m1.015\u001b[0m\n",
            "Hessian Eigenvalues: 4.50000e-02 4.77775e-02 5.00000e-02 ... 3.09525e-01 3.26001e-01 8.95037e-01\n"
          ]
        },
        {
          "output_type": "stream",
          "name": "stdout",
          "text": [
            "\n",
            "Geometry optimization cycle 4\n",
            "Cartesian coordinates (Angstrom)\n",
            " Atom        New coordinates             dX        dY        dZ\n",
            "   O  -0.002667  -0.000000  -0.020785    0.002839 -0.000000 -0.020785\n",
            "   C   1.196617  -0.000000   0.011364    0.002452 -0.000000  0.011364\n",
            "   H   1.797389  -0.000000   0.945005    0.013274 -0.000000  0.005377\n",
            "   H   1.776251  -0.000000  -0.935584   -0.007863 -0.000000  0.004045\n",
            "converged SCF energy = -114.544723552534\n",
            "--------------- sfX2C1eSymAdaptedRKS_Scanner gradients ---------------\n",
            "         x                y                z\n",
            "0 O     0.0000565488     0.0000000000     0.0000000000\n",
            "1 C    -0.0001591180     0.0000000000    -0.0000000000\n",
            "2 H    -0.0000572634     0.0000000000     0.0000178113\n",
            "3 H    -0.0000572634    -0.0000000000    -0.0000178113\n",
            "----------------------------------------------\n",
            "cycle 4: E = -114.544723553  dE = -3.98419e-07  norm(grad) = 0.000188968\n"
          ]
        },
        {
          "output_type": "stream",
          "name": "stderr",
          "text": [
            "Step    3 : Displace = \u001b[92m4.880e-04\u001b[0m/\u001b[92m6.685e-04\u001b[0m (rms/max) Trust = 2.000e-01 (\u001b[92m+\u001b[0m) Grad = \u001b[92m9.448e-05\u001b[0m/\u001b[92m1.591e-04\u001b[0m (rms/max) E (change) = -114.5447235525 (\u001b[92m-3.984e-07\u001b[0m) Quality = \u001b[0m0.333\u001b[0m\n",
            "Hessian Eigenvalues: 4.50000e-02 4.77775e-02 5.00000e-02 ... 3.09525e-01 3.26001e-01 8.95037e-01\n",
            "Converged! =D\n",
            "\n",
            "    #==========================================================================#\n",
            "    #| If this code has benefited your research, please support us by citing: |#\n",
            "    #|                                                                        |#\n",
            "    #| Wang, L.-P.; Song, C.C. (2016) \"Geometry optimization made simple with |#\n",
            "    #| translation and rotation coordinates\", J. Chem, Phys. 144, 214108.     |#\n",
            "    #| http://dx.doi.org/10.1063/1.4952956                                    |#\n",
            "    #==========================================================================#\n",
            "    Time elapsed since start of run_optimizer: 39.109 seconds\n"
          ]
        }
      ],
      "source": [
        "rco = 1.21\n",
        "rch = 1.11\n",
        "ahch = 120.\n",
        "\n",
        "geom_zmat = f'''\n",
        "O\n",
        "C   1   {rco}\n",
        "H   2   {rch}   1   {ahch}\n",
        "H   2   {rch}   1   {ahch}  3 180.\n",
        "'''\n",
        "\n",
        "hcoh = gto.Mole(atom=geom_zmat, unit='Angstrom', basis='ccpvtz', charge=0, spin=0, symmetry=True)\n",
        "hcoh.build()\n",
        "func = 'r2SCAN'\n",
        "hcoh_x2c_calc = dft.RKS(hcoh, xc=func).x2c().run()\n",
        "hcoh_x2c_opt_geomtric = hcoh_x2c_calc.Gradients().optimizer(solver='geomeTRIC').kernel()"
      ]
    },
    {
      "cell_type": "code",
      "source": [
        "r = 1.4\n",
        "\n",
        "geom_agcl = f'''\n",
        "Ag\n",
        "Cl   1   {r}\n",
        "'''\n",
        "\n",
        "agcl = gto.Mole(atom=geom_agcl, unit='Angstrom', basis='def2-tzvp', charge=0, spin=0, symmetry=True)\n",
        "agcl.build()\n",
        "func = 'wB97xD'\n",
        "agcl_calc = dft.RKS(agcl, xc=func)\n",
        "agcl_calc.level_shift = 0.2\n",
        "agcl_calc.run()\n",
        "conv_params = { # These are the default settings\n",
        "    'convergence_energy': 1e-5,  # Eh\n",
        "    'convergence_grms': 3e-3,    # Eh/Bohr\n",
        "    'convergence_gmax': 4.5e-3,  # Eh/Bohr\n",
        "    'convergence_drms': 1.2e-3,  # Angstrom\n",
        "    'convergence_dmax': 1.8e-3,  # Angstrom\n",
        "}\n",
        "agcl_opt_geomtric = agcl_calc.Gradients().optimizer(solver='geomeTRIC').kernel(conv_params)"
      ],
      "metadata": {
        "colab": {
          "base_uri": "https://localhost:8080/"
        },
        "id": "XLLALq5bqrtr",
        "outputId": "6d7e0bdf-7c0f-4efc-e411-63399140ebf5"
      },
      "execution_count": null,
      "outputs": [
        {
          "output_type": "stream",
          "name": "stdout",
          "text": [
            "converged SCF energy = -2061.87331707648\n"
          ]
        },
        {
          "output_type": "stream",
          "name": "stderr",
          "text": [
            "geometric-optimize called with the following command line:\n",
            "/usr/local/lib/python3.11/dist-packages/colab_kernel_launcher.py -f /root/.local/share/jupyter/runtime/kernel-9f96f5b5-03b1-48fb-91fd-c54cbd27413a.json\n",
            "\n",
            "                                        \u001b[91m())))))))))))))))/\u001b[0m                     \n",
            "                                    \u001b[91m())))))))))))))))))))))))),\u001b[0m                \n",
            "                                \u001b[91m*)))))))))))))))))))))))))))))))))\u001b[0m             \n",
            "                        \u001b[94m#,\u001b[0m    \u001b[91m()))))))))/\u001b[0m                \u001b[91m.)))))))))),\u001b[0m          \n",
            "                      \u001b[94m#%%%%,\u001b[0m  \u001b[91m())))))\u001b[0m                        \u001b[91m.))))))))*\u001b[0m        \n",
            "                      \u001b[94m*%%%%%%,\u001b[0m  \u001b[91m))\u001b[0m              \u001b[93m..\u001b[0m              \u001b[91m,))))))).\u001b[0m      \n",
            "                        \u001b[94m*%%%%%%,\u001b[0m         \u001b[93m***************/.\u001b[0m        \u001b[91m.)))))))\u001b[0m     \n",
            "                \u001b[94m#%%/\u001b[0m      \u001b[94m(%%%%%%,\u001b[0m    \u001b[93m/*********************.\u001b[0m       \u001b[91m)))))))\u001b[0m    \n",
            "              \u001b[94m.%%%%%%#\u001b[0m      \u001b[94m*%%%%%%,\u001b[0m  \u001b[93m*******/,\u001b[0m     \u001b[93m**********,\u001b[0m      \u001b[91m.))))))\u001b[0m   \n",
            "                \u001b[94m.%%%%%%/\u001b[0m      \u001b[94m*%%%%%%,\u001b[0m  \u001b[93m**\u001b[0m              \u001b[93m********\u001b[0m      \u001b[91m.))))))\u001b[0m  \n",
            "          \u001b[94m##\u001b[0m      \u001b[94m.%%%%%%/\u001b[0m      \u001b[94m(%%%%%%,\u001b[0m                  \u001b[93m,******\u001b[0m      \u001b[91m/)))))\u001b[0m  \n",
            "        \u001b[94m%%%%%%\u001b[0m      \u001b[94m.%%%%%%#\u001b[0m      \u001b[94m*%%%%%%,\u001b[0m    \u001b[92m,/////.\u001b[0m       \u001b[93m******\u001b[0m      \u001b[91m))))))\u001b[0m \n",
            "      \u001b[94m#%\u001b[0m      \u001b[94m%%\u001b[0m      \u001b[94m.%%%%%%/\u001b[0m      \u001b[94m*%%%%%%,\u001b[0m  \u001b[92m////////,\u001b[0m      \u001b[93m*****/\u001b[0m     \u001b[91m,)))))\u001b[0m \n",
            "    \u001b[94m#%%\u001b[0m  \u001b[94m%%%\u001b[0m  \u001b[94m%%%#\u001b[0m      \u001b[94m.%%%%%%/\u001b[0m      \u001b[94m(%%%%%%,\u001b[0m  \u001b[92m///////.\u001b[0m     \u001b[93m/*****\u001b[0m      \u001b[91m))))).\u001b[0m\n",
            "  \u001b[94m#%%%%.\u001b[0m      \u001b[94m%%%%%#\u001b[0m      \u001b[94m/%%%%%%*\u001b[0m      \u001b[94m#%%%%%%\u001b[0m   \u001b[92m/////)\u001b[0m     \u001b[93m******\u001b[0m      \u001b[91m))))),\u001b[0m\n",
            "    \u001b[94m#%%%%##%\u001b[0m  \u001b[94m%%%#\u001b[0m      \u001b[94m.%%%%%%/\u001b[0m      \u001b[94m(%%%%%%,\u001b[0m  \u001b[92m///////.\u001b[0m     \u001b[93m/*****\u001b[0m      \u001b[91m))))).\u001b[0m\n",
            "      \u001b[94m##\u001b[0m     \u001b[94m%%%\u001b[0m      \u001b[94m.%%%%%%/\u001b[0m      \u001b[94m*%%%%%%,\u001b[0m  \u001b[92m////////.\u001b[0m      \u001b[93m*****/\u001b[0m     \u001b[91m,)))))\u001b[0m \n",
            "        \u001b[94m#%%%%#\u001b[0m      \u001b[94m/%%%%%%/\u001b[0m      \u001b[94m(%%%%%%\u001b[0m      \u001b[92m/)/)//\u001b[0m       \u001b[93m******\u001b[0m      \u001b[91m))))))\u001b[0m \n",
            "          \u001b[94m##\u001b[0m      \u001b[94m.%%%%%%/\u001b[0m      \u001b[94m(%%%%%%,\u001b[0m                  \u001b[93m*******\u001b[0m      \u001b[91m))))))\u001b[0m  \n",
            "                \u001b[94m.%%%%%%/\u001b[0m      \u001b[94m*%%%%%%,\u001b[0m  \u001b[93m**.\u001b[0m             \u001b[93m/*******\u001b[0m      \u001b[91m.))))))\u001b[0m  \n",
            "              \u001b[94m*%%%%%%/\u001b[0m      \u001b[94m(%%%%%%\u001b[0m   \u001b[93m********/*..,*/*********\u001b[0m       \u001b[91m*))))))\u001b[0m   \n",
            "                \u001b[94m#%%/\u001b[0m      \u001b[94m(%%%%%%,\u001b[0m    \u001b[93m*********************/\u001b[0m        \u001b[91m)))))))\u001b[0m    \n",
            "                        \u001b[94m*%%%%%%,\u001b[0m         \u001b[93m,**************/\u001b[0m         \u001b[91m,))))))/\u001b[0m     \n",
            "                      \u001b[94m(%%%%%%\u001b[0m   \u001b[91m()\u001b[0m                              \u001b[91m))))))))\u001b[0m       \n",
            "                      \u001b[94m#%%%%,\u001b[0m  \u001b[91m())))))\u001b[0m                        \u001b[91m,)))))))),\u001b[0m        \n",
            "                        \u001b[94m#,\u001b[0m    \u001b[91m())))))))))\u001b[0m                \u001b[91m,)))))))))).\u001b[0m          \n",
            "                                 \u001b[91m()))))))))))))))))))))))))))))))/\u001b[0m             \n",
            "                                    \u001b[91m())))))))))))))))))))))))).\u001b[0m                \n",
            "                                         \u001b[91m())))))))))))))),\u001b[0m                     \n",
            "\n",
            "-=# \u001b[1;94m geomeTRIC started. Version: 1.1 \u001b[0m #=-\n",
            "Current date and time: 2025-04-10 08:04:18\n",
            "#========================================================#\n",
            "#| \u001b[92m    Arguments passed to driver run_optimizer():     \u001b[0m |#\n",
            "#========================================================#\n",
            "convergence_dmax          0.0018 \n",
            "convergence_drms          0.0012 \n",
            "convergence_energy        1e-05 \n",
            "convergence_gmax          0.0045 \n",
            "convergence_grms          0.003 \n",
            "customengine              <pyscf.geomopt.geometric_solver.PySCFEngine object at 0x7a61a21f2bd0> \n",
            "input                     /tmp/tmpo7wzkosg/480fce13-3ffe-4a4a-9058-d03267999240 \n",
            "logIni                    /usr/local/lib/python3.11/dist-packages/pyscf/geomopt/log.ini \n",
            "----------------------------------------------------------\n",
            "Custom engine selected.\n",
            "Bonds will be generated from interatomic distances less than 1.20 times sum of covalent radii\n",
            "6 internal coordinates being used (instead of 6 Cartesians)\n",
            "Internal coordinate system (atoms numbered from 1):\n",
            "Distance 1-2\n",
            "Translation-X 1-2\n",
            "Translation-Y 1-2\n",
            "Translation-Z 1-2\n",
            "Rotation-A 1-2\n",
            "Rotation-B 1-2\n",
            "Rotation-C 1-2\n",
            "<class 'geometric.internal.Distance'> : 1\n",
            "<class 'geometric.internal.TranslationX'> : 1\n",
            "<class 'geometric.internal.TranslationY'> : 1\n",
            "<class 'geometric.internal.TranslationZ'> : 1\n",
            "<class 'geometric.internal.RotationA'> : 1\n",
            "<class 'geometric.internal.RotationB'> : 1\n",
            "<class 'geometric.internal.RotationC'> : 1\n",
            "> ===== Optimization Info: ====\n",
            "> Job type: Energy minimization\n",
            "> Maximum number of optimization cycles: 300\n",
            "> Initial / maximum trust radius (Angstrom): 0.100 / 0.300\n",
            "> Convergence Criteria:\n",
            "> Will converge when all 5 criteria are reached:\n",
            ">  |Delta-E| < 1.00e-05\n",
            ">  RMS-Grad  < 3.00e-03\n",
            ">  Max-Grad  < 4.50e-03\n",
            ">  RMS-Disp  < 1.20e-03\n",
            ">  Max-Disp  < 1.80e-03\n",
            "> === End Optimization Info ===\n"
          ]
        },
        {
          "output_type": "stream",
          "name": "stdout",
          "text": [
            "\n",
            "Geometry optimization cycle 1\n",
            "Cartesian coordinates (Angstrom)\n",
            " Atom        New coordinates             dX        dY        dZ\n",
            "  Ag   0.000000   0.000000   0.000000    0.000000  0.000000  0.000000\n",
            "  Cl   1.400000   0.000000   0.000000   -0.000000  0.000000  0.000000\n",
            "converged SCF energy = -2061.87331707603\n",
            "--------------- SymAdaptedRKS_Scanner gradients ---------------\n",
            "         x                y                z\n",
            "0 Ag     0.3243568123     0.0000000000     0.0000000000\n",
            "1 Cl    -0.3198276483     0.0000000000    -0.0000000000\n",
            "----------------------------------------------\n",
            "cycle 1: E = -2061.87331708  dE = -2061.87  norm(grad) = 0.455518\n"
          ]
        },
        {
          "output_type": "stream",
          "name": "stderr",
          "text": [
            "Step    0 : Gradient = 3.221e-01/3.244e-01 (rms/max) Energy = -2061.8733170760\n",
            "Hessian Eigenvalues: 5.00000e-02 5.00000e-02 5.00000e-02 ... 5.00000e-02 5.00000e-02 8.99767e+00\n"
          ]
        },
        {
          "output_type": "stream",
          "name": "stdout",
          "text": [
            "\n",
            "Geometry optimization cycle 2\n",
            "Cartesian coordinates (Angstrom)\n",
            " Atom        New coordinates             dX        dY        dZ\n",
            "  Ag  -0.057406   0.000000  -0.000000   -0.057406  0.000000 -0.000000\n",
            "  Cl   1.361537   0.000000   0.000000   -0.038463  0.000000  0.000000\n",
            "converged SCF energy = -2061.88049602049\n",
            "--------------- SymAdaptedRKS_Scanner gradients ---------------\n",
            "         x                y                z\n",
            "0 Ag     0.0817783248     0.0000000000     0.0000000000\n",
            "1 Cl    -0.0775171167     0.0000000000    -0.0000000000\n",
            "----------------------------------------------\n",
            "cycle 2: E = -2061.88049602  dE = -0.00717894  norm(grad) = 0.112679\n"
          ]
        },
        {
          "output_type": "stream",
          "name": "stderr",
          "text": [
            "Step    1 : Displace = \u001b[0m9.472e-03\u001b[0m/\u001b[0m9.472e-03\u001b[0m (rms/max) Trust = 1.000e-01 (=) Grad = \u001b[0m7.968e-02\u001b[0m/\u001b[0m8.178e-02\u001b[0m (rms/max) E (change) = -2061.8804960205 (\u001b[0m-7.179e-03\u001b[0m) Quality = \u001b[0m1.202\u001b[0m\n",
            "Hessian Eigenvalues: 4.64149e-02 5.00000e-02 5.00000e-02 ... 5.00000e-02 5.00000e-02 7.06485e+00\n"
          ]
        },
        {
          "output_type": "stream",
          "name": "stdout",
          "text": [
            "\n",
            "Geometry optimization cycle 3\n",
            "Cartesian coordinates (Angstrom)\n",
            " Atom        New coordinates             dX        dY        dZ\n",
            "  Ag  -0.124217   0.000000   0.000000   -0.066811  0.000000  0.000000\n",
            "  Cl   1.301721  -0.000000  -0.000000   -0.059815 -0.000000 -0.000000\n",
            "converged SCF energy = -2061.88095919795\n",
            "--------------- SymAdaptedRKS_Scanner gradients ---------------\n",
            "         x                y                z\n",
            "0 Ag    -0.0075359978     0.0000000000    -0.0000000000\n",
            "1 Cl     0.0116662612     0.0000000000     0.0000000000\n",
            "----------------------------------------------\n",
            "cycle 3: E = -2061.8809592  dE = -0.000463177  norm(grad) = 0.0138886\n"
          ]
        },
        {
          "output_type": "stream",
          "name": "stderr",
          "text": [
            "Step    2 : Displace = \u001b[0m3.498e-03\u001b[0m/\u001b[0m3.498e-03\u001b[0m (rms/max) Trust = 1.414e-01 (\u001b[92m+\u001b[0m) Grad = \u001b[0m9.821e-03\u001b[0m/\u001b[0m1.167e-02\u001b[0m (rms/max) E (change) = -2061.8809591980 (\u001b[0m-4.632e-04\u001b[0m) Quality = \u001b[0m0.593\u001b[0m\n",
            "Hessian Eigenvalues: 2.59229e-02 5.00000e-02 5.00000e-02 ... 5.00000e-02 5.00000e-02 9.67704e+00\n"
          ]
        },
        {
          "output_type": "stream",
          "name": "stdout",
          "text": [
            "\n",
            "Geometry optimization cycle 4\n",
            "Cartesian coordinates (Angstrom)\n",
            " Atom        New coordinates             dX        dY        dZ\n",
            "  Ag  -0.202944   0.000000   0.000000   -0.078727  0.000000  0.000000\n",
            "  Cl   1.225058  -0.000000  -0.000000   -0.076664 -0.000000 -0.000000\n",
            "converged SCF energy = -2061.88087122862\n",
            "--------------- SymAdaptedRKS_Scanner gradients ---------------\n",
            "         x                y                z\n",
            "0 Ag    -0.0337944102     0.0000000000    -0.0000000000\n",
            "1 Cl     0.0378635311     0.0000000000     0.0000000000\n",
            "----------------------------------------------\n",
            "cycle 4: E = -2061.88087123  dE = 8.79693e-05  norm(grad) = 0.0507514\n"
          ]
        },
        {
          "output_type": "stream",
          "name": "stderr",
          "text": [
            "Step    3 : Displace = \u001b[92m1.032e-03\u001b[0m/\u001b[92m1.032e-03\u001b[0m (rms/max) Trust = 1.414e-01 (=) Grad = \u001b[0m3.589e-02\u001b[0m/\u001b[0m3.786e-02\u001b[0m (rms/max) E (change) = -2061.8808712286 (\u001b[91m+8.797e-05\u001b[0m) Quality = \u001b[91m-0.309\u001b[0m\n",
            "Hessian Eigenvalues: 3.12583e-03 5.00000e-02 5.00000e-02 ... 5.00000e-02 5.00000e-02 1.56913e+01\n"
          ]
        },
        {
          "output_type": "stream",
          "name": "stdout",
          "text": [
            "\n",
            "Geometry optimization cycle 5\n",
            "Cartesian coordinates (Angstrom)\n",
            " Atom        New coordinates             dX        dY        dZ\n",
            "  Ag  -0.350042   0.000000   0.000000   -0.147097  0.000000  0.000000\n",
            "  Cl   1.078975  -0.000000  -0.000000   -0.146083 -0.000000 -0.000000\n",
            "converged SCF energy = -2061.88079054613\n",
            "--------------- SymAdaptedRKS_Scanner gradients ---------------\n",
            "         x                y                z\n",
            "0 Ag    -0.0466885271     0.0000000000    -0.0000000000\n",
            "1 Cl     0.0507239896     0.0000000000     0.0000000000\n",
            "----------------------------------------------\n",
            "cycle 5: E = -2061.88079055  dE = 8.06825e-05  norm(grad) = 0.0689401\n"
          ]
        },
        {
          "output_type": "stream",
          "name": "stderr",
          "text": [
            "Step    4 : Displace = \u001b[92m5.074e-04\u001b[0m/\u001b[92m5.074e-04\u001b[0m (rms/max) Trust = 5.159e-04 (\u001b[91m-\u001b[0m) Grad = \u001b[0m4.875e-02\u001b[0m/\u001b[0m5.072e-02\u001b[0m (rms/max) E (change) = -2061.8807905461 (\u001b[91m+8.068e-05\u001b[0m) Quality = \u001b[91m-0.090\u001b[0m\n",
            "Hessian Eigenvalues: 3.12872e-04 5.00000e-02 5.00000e-02 ... 5.00000e-02 5.00000e-02 1.65699e+01\n"
          ]
        },
        {
          "output_type": "stream",
          "name": "stdout",
          "text": [
            "\n",
            "Geometry optimization cycle 6\n",
            "Cartesian coordinates (Angstrom)\n",
            " Atom        New coordinates             dX        dY        dZ\n",
            "  Ag  -0.350788   0.000000   0.000000   -0.000747  0.000000  0.000000\n",
            "  Cl   1.076799  -0.000000  -0.000000   -0.002176 -0.000000 -0.000000\n",
            "converged SCF energy = -2061.88089709237\n",
            "--------------- SymAdaptedRKS_Scanner gradients ---------------\n",
            "         x                y                z\n",
            "0 Ag    -0.0285173169     0.0000000000    -0.0000000000\n",
            "1 Cl     0.0325994795     0.0000000000     0.0000000000\n",
            "----------------------------------------------\n",
            "cycle 6: E = -2061.88089709  dE = -0.000106546  norm(grad) = 0.0433124\n"
          ]
        },
        {
          "output_type": "stream",
          "name": "stderr",
          "text": [
            "Step    5 : Displace = \u001b[92m7.146e-04\u001b[0m/\u001b[92m7.146e-04\u001b[0m (rms/max) Trust = 2.537e-04 (\u001b[91m-\u001b[0m) Grad = \u001b[0m3.063e-02\u001b[0m/\u001b[0m3.260e-02\u001b[0m (rms/max) E (change) = -2061.8808970924 (\u001b[0m-1.065e-04\u001b[0m) Quality = \u001b[0m1.303\u001b[0m\n",
            "Hessian Eigenvalues: 3.08606e-04 5.00000e-02 5.00000e-02 ... 5.00000e-02 5.00000e-02 6.73732e+00\n"
          ]
        },
        {
          "output_type": "stream",
          "name": "stdout",
          "text": [
            "\n",
            "Geometry optimization cycle 7\n",
            "Cartesian coordinates (Angstrom)\n",
            " Atom        New coordinates             dX        dY        dZ\n",
            "  Ag  -0.350675   0.000000   0.000000    0.000114  0.000000  0.000000\n",
            "  Cl   1.075265  -0.000000  -0.000000   -0.001534 -0.000000 -0.000000\n",
            "converged SCF energy = -2061.8809591844\n",
            "--------------- SymAdaptedRKS_Scanner gradients ---------------\n",
            "         x                y                z\n",
            "0 Ag    -0.0075381293     0.0000000000    -0.0000000000\n",
            "1 Cl     0.0116683372     0.0000000000     0.0000000000\n",
            "----------------------------------------------\n",
            "cycle 7: E = -2061.88095918  dE = -6.2092e-05  norm(grad) = 0.0138915\n"
          ]
        },
        {
          "output_type": "stream",
          "name": "stderr",
          "text": [
            "Step    6 : Displace = \u001b[92m8.241e-04\u001b[0m/\u001b[92m8.241e-04\u001b[0m (rms/max) Trust = 3.588e-04 (\u001b[92m+\u001b[0m) Grad = \u001b[0m9.823e-03\u001b[0m/\u001b[0m1.167e-02\u001b[0m (rms/max) E (change) = -2061.8809591844 (\u001b[0m-6.209e-05\u001b[0m) Quality = \u001b[0m0.912\u001b[0m\n",
            "Hessian Eigenvalues: 3.08689e-04 5.00000e-02 5.00000e-02 ... 5.00000e-02 5.00000e-02 6.73479e+00\n"
          ]
        },
        {
          "output_type": "stream",
          "name": "stdout",
          "text": [
            "\n",
            "Geometry optimization cycle 8\n",
            "Cartesian coordinates (Angstrom)\n",
            " Atom        New coordinates             dX        dY        dZ\n",
            "  Ag  -0.494733   0.000000   0.000000   -0.144058  0.000000  0.000000\n",
            "  Cl   0.930120  -0.000000  -0.000000   -0.145145 -0.000000 -0.000000\n",
            "converged SCF energy = -2061.88096446988\n",
            "--------------- SymAdaptedRKS_Scanner gradients ---------------\n",
            "         x                y                z\n",
            "0 Ag     0.0063049845     0.0000000000     0.0000000000\n",
            "1 Cl    -0.0021467618     0.0000000000    -0.0000000000\n",
            "----------------------------------------------\n",
            "cycle 8: E = -2061.88096447  dE = -5.28549e-06  norm(grad) = 0.00666044\n"
          ]
        },
        {
          "output_type": "stream",
          "name": "stderr",
          "text": [
            "Step    7 : Displace = \u001b[92m5.433e-04\u001b[0m/\u001b[92m5.433e-04\u001b[0m (rms/max) Trust = 5.074e-04 (\u001b[92m+\u001b[0m) Grad = \u001b[0m4.710e-03\u001b[0m/\u001b[0m6.305e-03\u001b[0m (rms/max) E (change) = -2061.8809644699 (\u001b[92m-5.285e-06\u001b[0m) Quality = \u001b[0m0.005\u001b[0m\n",
            "Hessian Eigenvalues: 8.74158e-05 5.00000e-02 5.00000e-02 ... 5.00000e-02 5.00000e-02 1.34561e+01\n"
          ]
        },
        {
          "output_type": "stream",
          "name": "stdout",
          "text": [
            "\n",
            "Geometry optimization cycle 9\n",
            "Cartesian coordinates (Angstrom)\n",
            " Atom        New coordinates             dX        dY        dZ\n",
            "  Ag  -0.674067   0.000000   0.000000   -0.179334  0.000000  0.000000\n",
            "  Cl   0.750279  -0.000000  -0.000000   -0.179841 -0.000000 -0.000000\n",
            "converged SCF energy = -2061.88095722702\n",
            "--------------- SymAdaptedRKS_Scanner gradients ---------------\n",
            "         x                y                z\n",
            "0 Ag     0.0127787134     0.0000000000     0.0000000000\n",
            "1 Cl    -0.0086083950     0.0000000000    -0.0000000000\n",
            "----------------------------------------------\n",
            "cycle 9: E = -2061.88095723  dE = 7.24286e-06  norm(grad) = 0.0154078\n"
          ]
        },
        {
          "output_type": "stream",
          "name": "stderr",
          "text": [
            "Step    8 : Displace = \u001b[92m2.537e-04\u001b[0m/\u001b[92m2.537e-04\u001b[0m (rms/max) Trust = 2.537e-04 (\u001b[91m-\u001b[0m) Grad = \u001b[0m1.089e-02\u001b[0m/\u001b[0m1.278e-02\u001b[0m (rms/max) E (change) = -2061.8809572270 (\u001b[92m+7.243e-06\u001b[0m) Quality = \u001b[91m-0.005\u001b[0m\n",
            "Eigenvalues below 1.0000e-05 (6.7918e-06) - returning guess\n",
            "Hessian Eigenvalues: 5.00000e-02 5.00000e-02 5.00000e-02 ... 5.00000e-02 5.00000e-02 7.11673e+00\n"
          ]
        },
        {
          "output_type": "stream",
          "name": "stdout",
          "text": [
            "\n",
            "Geometry optimization cycle 10\n",
            "Cartesian coordinates (Angstrom)\n",
            " Atom        New coordinates             dX        dY        dZ\n",
            "  Ag  -0.674335   0.000000   0.000000   -0.000268  0.000000  0.000000\n",
            "  Cl   0.750262  -0.000000  -0.000000   -0.000017 -0.000000 -0.000000\n",
            "converged SCF energy = -2061.88096158517\n",
            "--------------- SymAdaptedRKS_Scanner gradients ---------------\n",
            "         x                y                z\n",
            "0 Ag     0.0095636592     0.0000000000     0.0000000000\n",
            "1 Cl    -0.0053992244     0.0000000000    -0.0000000000\n",
            "----------------------------------------------\n",
            "cycle 10: E = -2061.88096159  dE = -4.35815e-06  norm(grad) = 0.0109825\n"
          ]
        },
        {
          "output_type": "stream",
          "name": "stderr",
          "text": [
            "Step    9 : Displace = \u001b[92m1.256e-04\u001b[0m/\u001b[92m1.256e-04\u001b[0m (rms/max) Trust = 1.268e-04 (\u001b[91m-\u001b[0m) Grad = \u001b[0m7.766e-03\u001b[0m/\u001b[0m9.564e-03\u001b[0m (rms/max) E (change) = -2061.8809615852 (\u001b[92m-4.358e-06\u001b[0m) Quality = \u001b[0m0.808\u001b[0m\n",
            "Hessian Eigenvalues: 4.98717e-02 5.00000e-02 5.00000e-02 ... 5.00000e-02 5.00000e-02 6.77717e+00\n"
          ]
        },
        {
          "output_type": "stream",
          "name": "stdout",
          "text": [
            "\n",
            "Geometry optimization cycle 11\n",
            "Cartesian coordinates (Angstrom)\n",
            " Atom        New coordinates             dX        dY        dZ\n",
            "  Ag  -0.675139   0.000000   0.000000   -0.000804  0.000000  0.000000\n",
            "  Cl   0.749842  -0.000000  -0.000000   -0.000420 -0.000000 -0.000000\n",
            "converged SCF energy = -2061.88096531883\n",
            "--------------- SymAdaptedRKS_Scanner gradients ---------------\n",
            "         x                y                z\n",
            "0 Ag     0.0046719763     0.0000000000     0.0000000000\n",
            "1 Cl    -0.0005168486     0.0000000000    -0.0000000000\n",
            "----------------------------------------------\n",
            "cycle 11: E = -2061.88096532  dE = -3.73366e-06  norm(grad) = 0.00470048\n"
          ]
        },
        {
          "output_type": "stream",
          "name": "stderr",
          "text": [
            "Step   10 : Displace = \u001b[92m1.920e-04\u001b[0m/\u001b[92m1.920e-04\u001b[0m (rms/max) Trust = 1.794e-04 (\u001b[92m+\u001b[0m) Grad = \u001b[0m3.324e-03\u001b[0m/\u001b[0m4.672e-03\u001b[0m (rms/max) E (change) = -2061.8809653188 (\u001b[92m-3.734e-06\u001b[0m) Quality = \u001b[0m0.442\u001b[0m\n",
            "Hessian Eigenvalues: 4.87054e-02 5.00000e-02 5.00000e-02 ... 5.00000e-02 5.00000e-02 6.84188e+00\n"
          ]
        },
        {
          "output_type": "stream",
          "name": "stdout",
          "text": [
            "\n",
            "Geometry optimization cycle 12\n",
            "Cartesian coordinates (Angstrom)\n",
            " Atom        New coordinates             dX        dY        dZ\n",
            "  Ag  -0.693802   0.000000   0.000000   -0.018663  0.000000  0.000000\n",
            "  Cl   0.731553  -0.000000  -0.000000   -0.018289 -0.000000 -0.000000\n",
            "converged SCF energy = -2061.88096554969\n",
            "--------------- SymAdaptedRKS_Scanner gradients ---------------\n",
            "         x                y                z\n",
            "0 Ag    -0.0001019245     0.0000000000    -0.0000000000\n",
            "1 Cl     0.0042476048     0.0000000000     0.0000000000\n",
            "----------------------------------------------\n",
            "cycle 12: E = -2061.88096555  dE = -2.30865e-07  norm(grad) = 0.00424883\n"
          ]
        },
        {
          "output_type": "stream",
          "name": "stderr",
          "text": [
            "Step   11 : Displace = \u001b[92m1.873e-04\u001b[0m/\u001b[92m1.873e-04\u001b[0m (rms/max) Trust = 1.794e-04 (=) Grad = \u001b[0m3.004e-03\u001b[0m/\u001b[92m4.248e-03\u001b[0m (rms/max) E (change) = -2061.8809655497 (\u001b[92m-2.309e-07\u001b[0m) Quality = \u001b[0m0.002\u001b[0m\n",
            "Hessian Eigenvalues: 1.59029e-03 5.00000e-02 5.00000e-02 ... 5.00000e-02 5.00000e-02 1.28727e+01\n"
          ]
        },
        {
          "output_type": "stream",
          "name": "stdout",
          "text": [
            "\n",
            "Geometry optimization cycle 13\n",
            "Cartesian coordinates (Angstrom)\n",
            " Atom        New coordinates             dX        dY        dZ\n",
            "  Ag  -0.723964   0.000000   0.000000   -0.030161  0.000000  0.000000\n",
            "  Cl   0.701591  -0.000000  -0.000000   -0.029962 -0.000000 -0.000000\n",
            "converged SCF energy = -2061.88096429365\n",
            "--------------- SymAdaptedRKS_Scanner gradients ---------------\n",
            "         x                y                z\n",
            "0 Ag    -0.0026512055     0.0000000000    -0.0000000000\n",
            "1 Cl     0.0067916937     0.0000000000     0.0000000000\n",
            "----------------------------------------------\n",
            "cycle 13: E = -2061.88096429  dE = 1.25604e-06  norm(grad) = 0.00729082\n"
          ]
        },
        {
          "output_type": "stream",
          "name": "stderr",
          "text": [
            "Step   12 : Displace = \u001b[92m9.998e-05\u001b[0m/\u001b[92m9.998e-05\u001b[0m (rms/max) Trust = 1.000e-04 (\u001b[91m-\u001b[0m) Grad = \u001b[0m5.155e-03\u001b[0m/\u001b[0m6.792e-03\u001b[0m (rms/max) E (change) = -2061.8809642937 (\u001b[92m+1.256e-06\u001b[0m) Quality = \u001b[91m-0.005\u001b[0m\n",
            "Hessian Eigenvalues: 2.72401e-04 5.00000e-02 5.00000e-02 ... 5.00000e-02 5.00000e-02 1.71505e+01\n"
          ]
        },
        {
          "output_type": "stream",
          "name": "stdout",
          "text": [
            "\n",
            "Geometry optimization cycle 14\n",
            "Cartesian coordinates (Angstrom)\n",
            " Atom        New coordinates             dX        dY        dZ\n",
            "  Ag  -0.809742   0.000000   0.000000   -0.085778  0.000000  0.000000\n",
            "  Cl   0.616013  -0.000000  -0.000000   -0.085578 -0.000000 -0.000000\n",
            "converged SCF energy = -2061.88096207771\n",
            "--------------- SymAdaptedRKS_Scanner gradients ---------------\n",
            "         x                y                z\n",
            "0 Ag    -0.0051986000     0.0000000000    -0.0000000000\n",
            "1 Cl     0.0093338001     0.0000000000     0.0000000000\n",
            "----------------------------------------------\n",
            "cycle 14: E = -2061.88096208  dE = 2.21594e-06  norm(grad) = 0.0106839\n"
          ]
        },
        {
          "output_type": "stream",
          "name": "stderr",
          "text": [
            "Step   13 : Displace = \u001b[92m9.998e-05\u001b[0m/\u001b[92m9.998e-05\u001b[0m (rms/max) Trust = 1.000e-04 (=) Grad = \u001b[0m7.555e-03\u001b[0m/\u001b[0m9.334e-03\u001b[0m (rms/max) E (change) = -2061.8809620777 (\u001b[92m+2.216e-06\u001b[0m) Quality = \u001b[91m-0.003\u001b[0m\n",
            "Hessian Eigenvalues: 5.56657e-05 5.00000e-02 5.00000e-02 ... 5.00000e-02 5.00000e-02 1.80627e+01\n"
          ]
        },
        {
          "output_type": "stream",
          "name": "stdout",
          "text": [
            "\n",
            "Geometry optimization cycle 15\n",
            "Cartesian coordinates (Angstrom)\n",
            " Atom        New coordinates             dX        dY        dZ\n",
            "  Ag  -1.083950   0.000000   0.000000   -0.274208  0.000000  0.000000\n",
            "  Cl   0.341993  -0.000000  -0.000000   -0.274020 -0.000000 -0.000000\n",
            "converged SCF energy = -2061.88095911423\n",
            "--------------- SymAdaptedRKS_Scanner gradients ---------------\n",
            "         x                y                z\n",
            "0 Ag    -0.0075963131     0.0000000000    -0.0000000000\n",
            "1 Cl     0.0117264441     0.0000000000     0.0000000000\n",
            "----------------------------------------------\n",
            "cycle 15: E = -2061.88095911  dE = 2.96348e-06  norm(grad) = 0.0139719\n"
          ]
        },
        {
          "output_type": "stream",
          "name": "stderr",
          "text": [
            "Step   14 : Displace = \u001b[92m9.413e-05\u001b[0m/\u001b[92m9.413e-05\u001b[0m (rms/max) Trust = 1.000e-04 (=) Grad = \u001b[0m9.880e-03\u001b[0m/\u001b[0m1.173e-02\u001b[0m (rms/max) E (change) = -2061.8809591142 (\u001b[92m+2.963e-06\u001b[0m) Quality = \u001b[91m-0.001\u001b[0m\n",
            "Hessian Eigenvalues: 1.16857e-05 5.00000e-02 5.00000e-02 ... 5.00000e-02 5.00000e-02 1.67540e+01\n"
          ]
        },
        {
          "output_type": "stream",
          "name": "stdout",
          "text": [
            "\n",
            "Geometry optimization cycle 16\n",
            "Cartesian coordinates (Angstrom)\n",
            " Atom        New coordinates             dX        dY        dZ\n",
            "  Ag  -2.313720   0.000000   0.000000   -1.229769  0.000000  0.000000\n",
            "  Cl  -0.887576  -0.000000  -0.000000   -1.229569 -0.000000 -0.000000\n",
            "converged SCF energy = -2061.88095503437\n",
            "--------------- SymAdaptedRKS_Scanner gradients ---------------\n",
            "         x                y                z\n",
            "0 Ag    -0.0101437799     0.0000000000    -0.0000000000\n",
            "1 Cl     0.0142684298     0.0000000000     0.0000000000\n",
            "----------------------------------------------\n",
            "cycle 16: E = -2061.88095503  dE = 4.07986e-06  norm(grad) = 0.0175067\n"
          ]
        },
        {
          "output_type": "stream",
          "name": "stderr",
          "text": [
            "Step   15 : Displace = \u001b[92m1.000e-04\u001b[0m/\u001b[92m1.000e-04\u001b[0m (rms/max) Trust = 1.000e-04 (=) Grad = \u001b[0m1.238e-02\u001b[0m/\u001b[0m1.427e-02\u001b[0m (rms/max) E (change) = -2061.8809550344 (\u001b[92m+4.080e-06\u001b[0m) Quality = \u001b[91m-0.000\u001b[0m\n",
            "Eigenvalues below 1.0000e-05 (2.4612e-06) - returning guess\n",
            "Hessian Eigenvalues: 5.00000e-02 5.00000e-02 5.00000e-02 ... 5.00000e-02 5.00000e-02 7.04676e+00\n"
          ]
        },
        {
          "output_type": "stream",
          "name": "stdout",
          "text": [
            "\n",
            "Geometry optimization cycle 17\n",
            "Cartesian coordinates (Angstrom)\n",
            " Atom        New coordinates             dX        dY        dZ\n",
            "  Ag  -2.313706   0.000000   0.000000    0.000014  0.000000  0.000000\n",
            "  Cl  -0.887764  -0.000000  -0.000000   -0.000188 -0.000000 -0.000000\n",
            "converged SCF energy = -2061.88095914875\n",
            "--------------- SymAdaptedRKS_Scanner gradients ---------------\n",
            "         x                y                z\n",
            "0 Ag    -0.0075607776     0.0000000000    -0.0000000000\n",
            "1 Cl     0.0116909558     0.0000000000     0.0000000000\n",
            "----------------------------------------------\n",
            "cycle 17: E = -2061.88095915  dE = -4.11438e-06  norm(grad) = 0.0139228\n"
          ]
        },
        {
          "output_type": "stream",
          "name": "stderr",
          "text": [
            "Step   16 : Displace = \u001b[92m1.010e-04\u001b[0m/\u001b[92m1.010e-04\u001b[0m (rms/max) Trust = 1.000e-04 (=) Grad = \u001b[0m9.845e-03\u001b[0m/\u001b[0m1.169e-02\u001b[0m (rms/max) E (change) = -2061.8809591487 (\u001b[92m-4.114e-06\u001b[0m) Quality = \u001b[0m0.853\u001b[0m\n",
            "Hessian Eigenvalues: 4.97711e-02 5.00000e-02 5.00000e-02 ... 5.00000e-02 5.00000e-02 6.77817e+00\n"
          ]
        },
        {
          "output_type": "stream",
          "name": "stdout",
          "text": [
            "\n",
            "Geometry optimization cycle 18\n",
            "Cartesian coordinates (Angstrom)\n",
            " Atom        New coordinates             dX        dY        dZ\n",
            "  Ag  -2.313757   0.000000   0.000000   -0.000051  0.000000  0.000000\n",
            "  Cl  -0.888096  -0.000000  -0.000000   -0.000332 -0.000000 -0.000000\n",
            "converged SCF energy = -2061.88096323822\n",
            "--------------- SymAdaptedRKS_Scanner gradients ---------------\n",
            "         x                y                z\n",
            "0 Ag    -0.0039877210     0.0000000000    -0.0000000000\n",
            "1 Cl     0.0081254098     0.0000000000     0.0000000000\n",
            "----------------------------------------------\n",
            "cycle 18: E = -2061.88096324  dE = -4.08947e-06  norm(grad) = 0.0090512\n"
          ]
        },
        {
          "output_type": "stream",
          "name": "stderr",
          "text": [
            "Step   17 : Displace = \u001b[92m1.401e-04\u001b[0m/\u001b[92m1.401e-04\u001b[0m (rms/max) Trust = 1.414e-04 (\u001b[92m+\u001b[0m) Grad = \u001b[0m6.400e-03\u001b[0m/\u001b[0m8.125e-03\u001b[0m (rms/max) E (change) = -2061.8809632382 (\u001b[92m-4.089e-06\u001b[0m) Quality = \u001b[0m0.724\u001b[0m\n",
            "Hessian Eigenvalues: 4.96467e-02 5.00000e-02 5.00000e-02 ... 5.00000e-02 5.00000e-02 6.77201e+00\n"
          ]
        },
        {
          "output_type": "stream",
          "name": "stdout",
          "text": [
            "\n",
            "Geometry optimization cycle 19\n",
            "Cartesian coordinates (Angstrom)\n",
            " Atom        New coordinates             dX        dY        dZ\n",
            "  Ag  -2.314031   0.000000   0.000000   -0.000274  0.000000  0.000000\n",
            "  Cl  -0.888636  -0.000000  -0.000000   -0.000540 -0.000000 -0.000000\n",
            "converged SCF energy = -2061.88096537423\n",
            "--------------- SymAdaptedRKS_Scanner gradients ---------------\n",
            "         x                y                z\n",
            "0 Ag    -0.0006016591     0.0000000000    -0.0000000000\n",
            "1 Cl     0.0047462913     0.0000000000     0.0000000000\n",
            "----------------------------------------------\n",
            "cycle 19: E = -2061.88096537  dE = -2.13601e-06  norm(grad) = 0.00478427\n"
          ]
        },
        {
          "output_type": "stream",
          "name": "stderr",
          "text": [
            "Step   18 : Displace = \u001b[92m1.329e-04\u001b[0m/\u001b[92m1.329e-04\u001b[0m (rms/max) Trust = 1.414e-04 (=) Grad = \u001b[0m3.383e-03\u001b[0m/\u001b[0m4.746e-03\u001b[0m (rms/max) E (change) = -2061.8809653742 (\u001b[92m-2.136e-06\u001b[0m) Quality = \u001b[0m0.397\u001b[0m\n",
            "Hessian Eigenvalues: 4.87107e-02 5.00000e-02 5.00000e-02 ... 5.00000e-02 5.00000e-02 6.87409e+00\n"
          ]
        },
        {
          "output_type": "stream",
          "name": "stdout",
          "text": [
            "\n",
            "Geometry optimization cycle 20\n",
            "Cartesian coordinates (Angstrom)\n",
            " Atom        New coordinates             dX        dY        dZ\n",
            "  Ag  -2.321253   0.000000   0.000000   -0.007222  0.000000  0.000000\n",
            "  Cl  -0.896149  -0.000000  -0.000000   -0.007514 -0.000000 -0.000000\n",
            "converged SCF energy = -2061.88096576569\n",
            "--------------- SymAdaptedRKS_Scanner gradients ---------------\n",
            "         x                y                z\n",
            "0 Ag     0.0031142197     0.0000000000     0.0000000000\n",
            "1 Cl     0.0010378328     0.0000000000     0.0000000000\n",
            "----------------------------------------------\n",
            "cycle 20: E = -2061.88096577  dE = -3.91459e-07  norm(grad) = 0.0032826\n"
          ]
        },
        {
          "output_type": "stream",
          "name": "stderr",
          "text": [
            "Step   19 : Displace = \u001b[92m1.460e-04\u001b[0m/\u001b[92m1.460e-04\u001b[0m (rms/max) Trust = 1.414e-04 (=) Grad = \u001b[92m2.321e-03\u001b[0m/\u001b[92m3.114e-03\u001b[0m (rms/max) E (change) = -2061.8809657657 (\u001b[92m-3.915e-07\u001b[0m) Quality = \u001b[0m0.007\u001b[0m\n",
            "Hessian Eigenvalues: 4.87107e-02 5.00000e-02 5.00000e-02 ... 5.00000e-02 5.00000e-02 6.87409e+00\n",
            "Converged! =D\n",
            "\n",
            "    #==========================================================================#\n",
            "    #| If this code has benefited your research, please support us by citing: |#\n",
            "    #|                                                                        |#\n",
            "    #| Wang, L.-P.; Song, C.C. (2016) \"Geometry optimization made simple with |#\n",
            "    #| translation and rotation coordinates\", J. Chem, Phys. 144, 214108.     |#\n",
            "    #| http://dx.doi.org/10.1063/1.4952956                                    |#\n",
            "    #==========================================================================#\n",
            "    Time elapsed since start of run_optimizer: 316.083 seconds\n"
          ]
        }
      ]
    },
    {
      "cell_type": "code",
      "source": [
        "print(agcl_opt_geomtric.tostring())"
      ],
      "metadata": {
        "colab": {
          "base_uri": "https://localhost:8080/"
        },
        "id": "i7igxOryweLa",
        "outputId": "135cefa0-2804-49ca-a3bd-cbc7ca412492"
      },
      "execution_count": null,
      "outputs": [
        {
          "output_type": "stream",
          "name": "stdout",
          "text": [
            "Ag         -2.32125        0.00000       -0.00000\n",
            "Cl         -0.89615        0.00000       -0.00000\n"
          ]
        }
      ]
    },
    {
      "cell_type": "code",
      "source": [
        "hcoh_dirac_calc = scf.DHF(hcoh).run()\n",
        "hcoh_dirac_opt_geomtric = hcoh_dirac_calc.Gradients().optimizer(solver='geomeTRIC').kernel()"
      ],
      "metadata": {
        "colab": {
          "base_uri": "https://localhost:8080/"
        },
        "id": "kDLHpunGxYMs",
        "outputId": "457c98e9-b81f-4532-d058-30d44a19d577"
      },
      "execution_count": null,
      "outputs": [
        {
          "output_type": "stream",
          "name": "stdout",
          "text": [
            "converged SCF energy = -113.981633623566\n"
          ]
        },
        {
          "output_type": "stream",
          "name": "stderr",
          "text": [
            "geometric-optimize called with the following command line:\n",
            "/usr/local/lib/python3.11/dist-packages/colab_kernel_launcher.py -f /root/.local/share/jupyter/runtime/kernel-9f96f5b5-03b1-48fb-91fd-c54cbd27413a.json\n",
            "\n",
            "                                        \u001b[91m())))))))))))))))/\u001b[0m                     \n",
            "                                    \u001b[91m())))))))))))))))))))))))),\u001b[0m                \n",
            "                                \u001b[91m*)))))))))))))))))))))))))))))))))\u001b[0m             \n",
            "                        \u001b[94m#,\u001b[0m    \u001b[91m()))))))))/\u001b[0m                \u001b[91m.)))))))))),\u001b[0m          \n",
            "                      \u001b[94m#%%%%,\u001b[0m  \u001b[91m())))))\u001b[0m                        \u001b[91m.))))))))*\u001b[0m        \n",
            "                      \u001b[94m*%%%%%%,\u001b[0m  \u001b[91m))\u001b[0m              \u001b[93m..\u001b[0m              \u001b[91m,))))))).\u001b[0m      \n",
            "                        \u001b[94m*%%%%%%,\u001b[0m         \u001b[93m***************/.\u001b[0m        \u001b[91m.)))))))\u001b[0m     \n",
            "                \u001b[94m#%%/\u001b[0m      \u001b[94m(%%%%%%,\u001b[0m    \u001b[93m/*********************.\u001b[0m       \u001b[91m)))))))\u001b[0m    \n",
            "              \u001b[94m.%%%%%%#\u001b[0m      \u001b[94m*%%%%%%,\u001b[0m  \u001b[93m*******/,\u001b[0m     \u001b[93m**********,\u001b[0m      \u001b[91m.))))))\u001b[0m   \n",
            "                \u001b[94m.%%%%%%/\u001b[0m      \u001b[94m*%%%%%%,\u001b[0m  \u001b[93m**\u001b[0m              \u001b[93m********\u001b[0m      \u001b[91m.))))))\u001b[0m  \n",
            "          \u001b[94m##\u001b[0m      \u001b[94m.%%%%%%/\u001b[0m      \u001b[94m(%%%%%%,\u001b[0m                  \u001b[93m,******\u001b[0m      \u001b[91m/)))))\u001b[0m  \n",
            "        \u001b[94m%%%%%%\u001b[0m      \u001b[94m.%%%%%%#\u001b[0m      \u001b[94m*%%%%%%,\u001b[0m    \u001b[92m,/////.\u001b[0m       \u001b[93m******\u001b[0m      \u001b[91m))))))\u001b[0m \n",
            "      \u001b[94m#%\u001b[0m      \u001b[94m%%\u001b[0m      \u001b[94m.%%%%%%/\u001b[0m      \u001b[94m*%%%%%%,\u001b[0m  \u001b[92m////////,\u001b[0m      \u001b[93m*****/\u001b[0m     \u001b[91m,)))))\u001b[0m \n",
            "    \u001b[94m#%%\u001b[0m  \u001b[94m%%%\u001b[0m  \u001b[94m%%%#\u001b[0m      \u001b[94m.%%%%%%/\u001b[0m      \u001b[94m(%%%%%%,\u001b[0m  \u001b[92m///////.\u001b[0m     \u001b[93m/*****\u001b[0m      \u001b[91m))))).\u001b[0m\n",
            "  \u001b[94m#%%%%.\u001b[0m      \u001b[94m%%%%%#\u001b[0m      \u001b[94m/%%%%%%*\u001b[0m      \u001b[94m#%%%%%%\u001b[0m   \u001b[92m/////)\u001b[0m     \u001b[93m******\u001b[0m      \u001b[91m))))),\u001b[0m\n",
            "    \u001b[94m#%%%%##%\u001b[0m  \u001b[94m%%%#\u001b[0m      \u001b[94m.%%%%%%/\u001b[0m      \u001b[94m(%%%%%%,\u001b[0m  \u001b[92m///////.\u001b[0m     \u001b[93m/*****\u001b[0m      \u001b[91m))))).\u001b[0m\n",
            "      \u001b[94m##\u001b[0m     \u001b[94m%%%\u001b[0m      \u001b[94m.%%%%%%/\u001b[0m      \u001b[94m*%%%%%%,\u001b[0m  \u001b[92m////////.\u001b[0m      \u001b[93m*****/\u001b[0m     \u001b[91m,)))))\u001b[0m \n",
            "        \u001b[94m#%%%%#\u001b[0m      \u001b[94m/%%%%%%/\u001b[0m      \u001b[94m(%%%%%%\u001b[0m      \u001b[92m/)/)//\u001b[0m       \u001b[93m******\u001b[0m      \u001b[91m))))))\u001b[0m \n",
            "          \u001b[94m##\u001b[0m      \u001b[94m.%%%%%%/\u001b[0m      \u001b[94m(%%%%%%,\u001b[0m                  \u001b[93m*******\u001b[0m      \u001b[91m))))))\u001b[0m  \n",
            "                \u001b[94m.%%%%%%/\u001b[0m      \u001b[94m*%%%%%%,\u001b[0m  \u001b[93m**.\u001b[0m             \u001b[93m/*******\u001b[0m      \u001b[91m.))))))\u001b[0m  \n",
            "              \u001b[94m*%%%%%%/\u001b[0m      \u001b[94m(%%%%%%\u001b[0m   \u001b[93m********/*..,*/*********\u001b[0m       \u001b[91m*))))))\u001b[0m   \n",
            "                \u001b[94m#%%/\u001b[0m      \u001b[94m(%%%%%%,\u001b[0m    \u001b[93m*********************/\u001b[0m        \u001b[91m)))))))\u001b[0m    \n",
            "                        \u001b[94m*%%%%%%,\u001b[0m         \u001b[93m,**************/\u001b[0m         \u001b[91m,))))))/\u001b[0m     \n",
            "                      \u001b[94m(%%%%%%\u001b[0m   \u001b[91m()\u001b[0m                              \u001b[91m))))))))\u001b[0m       \n",
            "                      \u001b[94m#%%%%,\u001b[0m  \u001b[91m())))))\u001b[0m                        \u001b[91m,)))))))),\u001b[0m        \n",
            "                        \u001b[94m#,\u001b[0m    \u001b[91m())))))))))\u001b[0m                \u001b[91m,)))))))))).\u001b[0m          \n",
            "                                 \u001b[91m()))))))))))))))))))))))))))))))/\u001b[0m             \n",
            "                                    \u001b[91m())))))))))))))))))))))))).\u001b[0m                \n",
            "                                         \u001b[91m())))))))))))))),\u001b[0m                     \n",
            "\n",
            "-=# \u001b[1;94m geomeTRIC started. Version: 1.1 \u001b[0m #=-\n",
            "Current date and time: 2025-04-10 08:20:31\n",
            "#========================================================#\n",
            "#| \u001b[92m    Arguments passed to driver run_optimizer():     \u001b[0m |#\n",
            "#========================================================#\n",
            "customengine              <pyscf.geomopt.geometric_solver.PySCFEngine object at 0x7a615bcefc90> \n",
            "input                     /tmp/tmp34yarf3_/73def9eb-b843-480b-bf29-e054641d20e1 \n",
            "logIni                    /usr/local/lib/python3.11/dist-packages/pyscf/geomopt/log.ini \n",
            "----------------------------------------------------------\n",
            "Custom engine selected.\n",
            "Bonds will be generated from interatomic distances less than 1.20 times sum of covalent radii\n",
            "12 internal coordinates being used (instead of 12 Cartesians)\n",
            "Internal coordinate system (atoms numbered from 1):\n",
            "Distance 1-2\n",
            "Distance 2-3\n",
            "Distance 2-4\n",
            "Angle 1-2-4\n",
            "Angle 3-2-4\n",
            "Out-of-Plane 2-1-3-4\n",
            "Translation-X 1-4\n",
            "Translation-Y 1-4\n",
            "Translation-Z 1-4\n",
            "Rotation-A 1-4\n",
            "Rotation-B 1-4\n",
            "Rotation-C 1-4\n",
            "<class 'geometric.internal.Distance'> : 3\n",
            "<class 'geometric.internal.Angle'> : 2\n",
            "<class 'geometric.internal.OutOfPlane'> : 1\n",
            "<class 'geometric.internal.TranslationX'> : 1\n",
            "<class 'geometric.internal.TranslationY'> : 1\n",
            "<class 'geometric.internal.TranslationZ'> : 1\n",
            "<class 'geometric.internal.RotationA'> : 1\n",
            "<class 'geometric.internal.RotationB'> : 1\n",
            "<class 'geometric.internal.RotationC'> : 1\n",
            "> ===== Optimization Info: ====\n",
            "> Job type: Energy minimization\n",
            "> Maximum number of optimization cycles: 300\n",
            "> Initial / maximum trust radius (Angstrom): 0.100 / 0.300\n",
            "> Convergence Criteria:\n",
            "> Will converge when all 5 criteria are reached:\n",
            ">  |Delta-E| < 1.00e-06\n",
            ">  RMS-Grad  < 3.00e-04\n",
            ">  Max-Grad  < 4.50e-04\n",
            ">  RMS-Disp  < 1.20e-03\n",
            ">  Max-Disp  < 1.80e-03\n",
            "> === End Optimization Info ===\n"
          ]
        },
        {
          "output_type": "stream",
          "name": "stdout",
          "text": [
            "\n",
            "Geometry optimization cycle 1\n",
            "Cartesian coordinates (Angstrom)\n",
            " Atom        New coordinates             dX        dY        dZ\n",
            "   O   0.000000   0.000000   0.000000    0.000000  0.000000  0.000000\n",
            "   C   1.210000   0.000000   0.000000    0.000000  0.000000  0.000000\n",
            "   H   1.765000   0.000000   0.961288    0.000000  0.000000  0.000000\n",
            "   H   1.765000  -0.000000  -0.961288    0.000000  0.000000  0.000000\n",
            "converged SCF energy = -113.981633623754\n",
            "--------------- DHF_Scanner gradients ---------------\n",
            "         x                y                z\n",
            "0 O    -0.0564929456     0.0000000000    -0.0000000000\n",
            "1 C     0.0521201542     0.0000000000     0.0000000000\n",
            "2 H     0.0021863957     0.0000000000     0.0149307726\n",
            "3 H     0.0021863957    -0.0000000000    -0.0149307726\n",
            "----------------------------------------------\n",
            "cycle 1: E = -113.981633624  dE = -113.982  norm(grad) = 0.0797708\n"
          ]
        },
        {
          "output_type": "stream",
          "name": "stderr",
          "text": [
            "Step    0 : Gradient = 3.989e-02/5.649e-02 (rms/max) Energy = -113.9816336238\n",
            "Hessian Eigenvalues: 4.50000e-02 5.00000e-02 5.00000e-02 ... 3.26000e-01 3.26000e-01 9.99547e-01\n"
          ]
        },
        {
          "output_type": "stream",
          "name": "stdout",
          "text": [
            "\n",
            "Geometry optimization cycle 2\n",
            "Cartesian coordinates (Angstrom)\n",
            " Atom        New coordinates             dX        dY        dZ\n",
            "   O   0.011376   0.000000  -0.016709    0.011376  0.000000 -0.016709\n",
            "   C   1.191150  -0.000000   0.010692   -0.018850 -0.000000  0.010692\n",
            "   H   1.780989   0.000000   0.924022    0.015989  0.000000 -0.037266\n",
            "   H   1.756484   0.000000  -0.918006   -0.008516  0.000000  0.043282\n",
            "converged SCF energy = -113.984255306915\n",
            "--------------- DHF_Scanner gradients ---------------\n",
            "         x                y                z\n",
            "0 O    -0.0033431525     0.0000000000    -0.0000000000\n",
            "1 C     0.0064389868     0.0000000000     0.0000000000\n",
            "2 H    -0.0015479171    -0.0000000000    -0.0034046721\n",
            "3 H    -0.0015479171     0.0000000000     0.0034046721\n",
            "----------------------------------------------\n",
            "cycle 2: E = -113.984255307  dE = -0.00262168  norm(grad) = 0.00897847\n"
          ]
        },
        {
          "output_type": "stream",
          "name": "stderr",
          "text": [
            "Step    1 : Displace = \u001b[0m3.342e-02\u001b[0m/\u001b[0m4.411e-02\u001b[0m (rms/max) Trust = 1.000e-01 (=) Grad = \u001b[0m4.489e-03\u001b[0m/\u001b[0m6.439e-03\u001b[0m (rms/max) E (change) = -113.9842553069 (\u001b[0m-2.622e-03\u001b[0m) Quality = \u001b[0m0.998\u001b[0m\n",
            "Hessian Eigenvalues: 4.50000e-02 4.99990e-02 5.00000e-02 ... 3.26000e-01 3.65614e-01 9.11490e-01\n"
          ]
        },
        {
          "output_type": "stream",
          "name": "stdout",
          "text": [
            "\n",
            "Geometry optimization cycle 3\n",
            "Cartesian coordinates (Angstrom)\n",
            " Atom        New coordinates             dX        dY        dZ\n",
            "   O   0.012713   0.000000  -0.018146    0.001336  0.000000 -0.018146\n",
            "   C   1.190262  -0.000000   0.010058   -0.000888 -0.000000  0.010058\n",
            "   H   1.778136   0.000000   0.931072    0.009399  0.000000  0.010058\n",
            "   H   1.758889   0.000000  -0.922984   -0.009848  0.000000 -0.001969\n",
            "converged SCF energy = -113.984301514605\n",
            "--------------- DHF_Scanner gradients ---------------\n",
            "         x                y                z\n",
            "0 O     0.0005982878     0.0000000000     0.0000000000\n",
            "1 C     0.0000131036     0.0000000000     0.0000000000\n",
            "2 H    -0.0003056957     0.0000000000     0.0000350648\n",
            "3 H    -0.0003056957    -0.0000000000    -0.0000350648\n",
            "----------------------------------------------\n",
            "cycle 3: E = -113.984301515  dE = -4.62077e-05  norm(grad) = 0.000739918\n"
          ]
        },
        {
          "output_type": "stream",
          "name": "stderr",
          "text": [
            "Step    2 : Displace = \u001b[0m4.382e-03\u001b[0m/\u001b[0m6.199e-03\u001b[0m (rms/max) Trust = 1.414e-01 (\u001b[92m+\u001b[0m) Grad = \u001b[0m3.700e-04\u001b[0m/\u001b[0m5.983e-04\u001b[0m (rms/max) E (change) = -113.9843015146 (\u001b[0m-4.621e-05\u001b[0m) Quality = \u001b[0m0.969\u001b[0m\n",
            "Hessian Eigenvalues: 4.50000e-02 5.00000e-02 5.00000e-02 ... 3.25998e-01 3.48517e-01 9.52461e-01\n"
          ]
        },
        {
          "output_type": "stream",
          "name": "stdout",
          "text": [
            "\n",
            "Geometry optimization cycle 4\n",
            "Cartesian coordinates (Angstrom)\n",
            " Atom        New coordinates             dX        dY        dZ\n",
            "   O   0.011678   0.000000  -0.018720   -0.001034  0.000000 -0.018720\n",
            "   C   1.189476  -0.000000   0.010507   -0.000787 -0.000000  0.010507\n",
            "   H   1.779639   0.000000   0.930470    0.011127  0.000000  0.003442\n",
            "   H   1.759207   0.000000  -0.922258   -0.009306  0.000000  0.004770\n",
            "converged SCF energy = -113.98430236352\n",
            "--------------- DHF_Scanner gradients ---------------\n",
            "         x                y                z\n",
            "0 O    -0.0001616967     0.0000000000    -0.0000000000\n",
            "1 C    -0.0000261509     0.0000000000    -0.0000000000\n",
            "2 H     0.0000939238     0.0000000000     0.0000168878\n",
            "3 H     0.0000939238    -0.0000000000    -0.0000168878\n",
            "----------------------------------------------\n",
            "cycle 4: E = -113.984302364  dE = -8.48915e-07  norm(grad) = 0.000212234\n"
          ]
        },
        {
          "output_type": "stream",
          "name": "stderr",
          "text": [
            "Step    3 : Displace = \u001b[92m1.165e-03\u001b[0m/\u001b[92m1.509e-03\u001b[0m (rms/max) Trust = 2.000e-01 (\u001b[92m+\u001b[0m) Grad = \u001b[92m1.061e-04\u001b[0m/\u001b[92m1.617e-04\u001b[0m (rms/max) E (change) = -113.9843023635 (\u001b[92m-8.489e-07\u001b[0m) Quality = \u001b[0m0.729\u001b[0m\n",
            "Hessian Eigenvalues: 4.50000e-02 5.00000e-02 5.00000e-02 ... 3.25998e-01 3.48517e-01 9.52461e-01\n",
            "Converged! =D\n",
            "\n",
            "    #==========================================================================#\n",
            "    #| If this code has benefited your research, please support us by citing: |#\n",
            "    #|                                                                        |#\n",
            "    #| Wang, L.-P.; Song, C.C. (2016) \"Geometry optimization made simple with |#\n",
            "    #| translation and rotation coordinates\", J. Chem, Phys. 144, 214108.     |#\n",
            "    #| http://dx.doi.org/10.1063/1.4952956                                    |#\n",
            "    #==========================================================================#\n",
            "    Time elapsed since start of run_optimizer: 2682.129 seconds\n"
          ]
        }
      ]
    },
    {
      "cell_type": "code",
      "source": [
        "hcoh = gto.Mole(atom=geom_zmat, unit='Angstrom', basis='ccpvtz', charge=0, spin=0, symmetry=True)\n",
        "hcoh.build()\n",
        "func = 'r2SCAN'\n",
        "hcoh_cpcm_water_calc = dft.RKS(hcoh, xc=func).SMD()\n",
        "hcoh_cpcm_water_calc.with_solvent.method = 'C-PCM'\n",
        "hcoh_cpcm_water_calc.with_solvent.eps = 24.852\n",
        "hcoh_cpcm_opt_geomtric = hcoh_cpcm_water_calc.Gradients().optimizer(solver='geomeTRIC').kernel()"
      ],
      "metadata": {
        "colab": {
          "base_uri": "https://localhost:8080/"
        },
        "id": "BAvD6zDGEov4",
        "outputId": "17e86214-31ec-443b-ccbe-3da7050ae12e"
      },
      "execution_count": null,
      "outputs": [
        {
          "output_type": "stream",
          "name": "stderr",
          "text": [
            "geometric-optimize called with the following command line:\n",
            "/usr/local/lib/python3.11/dist-packages/colab_kernel_launcher.py -f /root/.local/share/jupyter/runtime/kernel-9f96f5b5-03b1-48fb-91fd-c54cbd27413a.json\n",
            "\n",
            "                                        \u001b[91m())))))))))))))))/\u001b[0m                     \n",
            "                                    \u001b[91m())))))))))))))))))))))))),\u001b[0m                \n",
            "                                \u001b[91m*)))))))))))))))))))))))))))))))))\u001b[0m             \n",
            "                        \u001b[94m#,\u001b[0m    \u001b[91m()))))))))/\u001b[0m                \u001b[91m.)))))))))),\u001b[0m          \n",
            "                      \u001b[94m#%%%%,\u001b[0m  \u001b[91m())))))\u001b[0m                        \u001b[91m.))))))))*\u001b[0m        \n",
            "                      \u001b[94m*%%%%%%,\u001b[0m  \u001b[91m))\u001b[0m              \u001b[93m..\u001b[0m              \u001b[91m,))))))).\u001b[0m      \n",
            "                        \u001b[94m*%%%%%%,\u001b[0m         \u001b[93m***************/.\u001b[0m        \u001b[91m.)))))))\u001b[0m     \n",
            "                \u001b[94m#%%/\u001b[0m      \u001b[94m(%%%%%%,\u001b[0m    \u001b[93m/*********************.\u001b[0m       \u001b[91m)))))))\u001b[0m    \n",
            "              \u001b[94m.%%%%%%#\u001b[0m      \u001b[94m*%%%%%%,\u001b[0m  \u001b[93m*******/,\u001b[0m     \u001b[93m**********,\u001b[0m      \u001b[91m.))))))\u001b[0m   \n",
            "                \u001b[94m.%%%%%%/\u001b[0m      \u001b[94m*%%%%%%,\u001b[0m  \u001b[93m**\u001b[0m              \u001b[93m********\u001b[0m      \u001b[91m.))))))\u001b[0m  \n",
            "          \u001b[94m##\u001b[0m      \u001b[94m.%%%%%%/\u001b[0m      \u001b[94m(%%%%%%,\u001b[0m                  \u001b[93m,******\u001b[0m      \u001b[91m/)))))\u001b[0m  \n",
            "        \u001b[94m%%%%%%\u001b[0m      \u001b[94m.%%%%%%#\u001b[0m      \u001b[94m*%%%%%%,\u001b[0m    \u001b[92m,/////.\u001b[0m       \u001b[93m******\u001b[0m      \u001b[91m))))))\u001b[0m \n",
            "      \u001b[94m#%\u001b[0m      \u001b[94m%%\u001b[0m      \u001b[94m.%%%%%%/\u001b[0m      \u001b[94m*%%%%%%,\u001b[0m  \u001b[92m////////,\u001b[0m      \u001b[93m*****/\u001b[0m     \u001b[91m,)))))\u001b[0m \n",
            "    \u001b[94m#%%\u001b[0m  \u001b[94m%%%\u001b[0m  \u001b[94m%%%#\u001b[0m      \u001b[94m.%%%%%%/\u001b[0m      \u001b[94m(%%%%%%,\u001b[0m  \u001b[92m///////.\u001b[0m     \u001b[93m/*****\u001b[0m      \u001b[91m))))).\u001b[0m\n",
            "  \u001b[94m#%%%%.\u001b[0m      \u001b[94m%%%%%#\u001b[0m      \u001b[94m/%%%%%%*\u001b[0m      \u001b[94m#%%%%%%\u001b[0m   \u001b[92m/////)\u001b[0m     \u001b[93m******\u001b[0m      \u001b[91m))))),\u001b[0m\n",
            "    \u001b[94m#%%%%##%\u001b[0m  \u001b[94m%%%#\u001b[0m      \u001b[94m.%%%%%%/\u001b[0m      \u001b[94m(%%%%%%,\u001b[0m  \u001b[92m///////.\u001b[0m     \u001b[93m/*****\u001b[0m      \u001b[91m))))).\u001b[0m\n",
            "      \u001b[94m##\u001b[0m     \u001b[94m%%%\u001b[0m      \u001b[94m.%%%%%%/\u001b[0m      \u001b[94m*%%%%%%,\u001b[0m  \u001b[92m////////.\u001b[0m      \u001b[93m*****/\u001b[0m     \u001b[91m,)))))\u001b[0m \n",
            "        \u001b[94m#%%%%#\u001b[0m      \u001b[94m/%%%%%%/\u001b[0m      \u001b[94m(%%%%%%\u001b[0m      \u001b[92m/)/)//\u001b[0m       \u001b[93m******\u001b[0m      \u001b[91m))))))\u001b[0m \n",
            "          \u001b[94m##\u001b[0m      \u001b[94m.%%%%%%/\u001b[0m      \u001b[94m(%%%%%%,\u001b[0m                  \u001b[93m*******\u001b[0m      \u001b[91m))))))\u001b[0m  \n",
            "                \u001b[94m.%%%%%%/\u001b[0m      \u001b[94m*%%%%%%,\u001b[0m  \u001b[93m**.\u001b[0m             \u001b[93m/*******\u001b[0m      \u001b[91m.))))))\u001b[0m  \n",
            "              \u001b[94m*%%%%%%/\u001b[0m      \u001b[94m(%%%%%%\u001b[0m   \u001b[93m********/*..,*/*********\u001b[0m       \u001b[91m*))))))\u001b[0m   \n",
            "                \u001b[94m#%%/\u001b[0m      \u001b[94m(%%%%%%,\u001b[0m    \u001b[93m*********************/\u001b[0m        \u001b[91m)))))))\u001b[0m    \n",
            "                        \u001b[94m*%%%%%%,\u001b[0m         \u001b[93m,**************/\u001b[0m         \u001b[91m,))))))/\u001b[0m     \n",
            "                      \u001b[94m(%%%%%%\u001b[0m   \u001b[91m()\u001b[0m                              \u001b[91m))))))))\u001b[0m       \n",
            "                      \u001b[94m#%%%%,\u001b[0m  \u001b[91m())))))\u001b[0m                        \u001b[91m,)))))))),\u001b[0m        \n",
            "                        \u001b[94m#,\u001b[0m    \u001b[91m())))))))))\u001b[0m                \u001b[91m,)))))))))).\u001b[0m          \n",
            "                                 \u001b[91m()))))))))))))))))))))))))))))))/\u001b[0m             \n",
            "                                    \u001b[91m())))))))))))))))))))))))).\u001b[0m                \n",
            "                                         \u001b[91m())))))))))))))),\u001b[0m                     \n",
            "\n",
            "-=# \u001b[1;94m geomeTRIC started. Version: 1.1 \u001b[0m #=-\n",
            "Current date and time: 2025-04-10 10:01:24\n",
            "#========================================================#\n",
            "#| \u001b[92m    Arguments passed to driver run_optimizer():     \u001b[0m |#\n",
            "#========================================================#\n",
            "customengine              <pyscf.geomopt.geometric_solver.PySCFEngine object at 0x7a615b779890> \n",
            "input                     /tmp/tmpa3puliny/a3c6c40d-0154-4ca8-b387-541af3ba66e1 \n",
            "logIni                    /usr/local/lib/python3.11/dist-packages/pyscf/geomopt/log.ini \n",
            "----------------------------------------------------------\n",
            "Custom engine selected.\n",
            "Bonds will be generated from interatomic distances less than 1.20 times sum of covalent radii\n",
            "12 internal coordinates being used (instead of 12 Cartesians)\n",
            "Internal coordinate system (atoms numbered from 1):\n",
            "Distance 1-2\n",
            "Distance 2-3\n",
            "Distance 2-4\n",
            "Angle 1-2-4\n",
            "Angle 3-2-4\n",
            "Out-of-Plane 2-1-3-4\n",
            "Translation-X 1-4\n",
            "Translation-Y 1-4\n",
            "Translation-Z 1-4\n",
            "Rotation-A 1-4\n",
            "Rotation-B 1-4\n",
            "Rotation-C 1-4\n",
            "<class 'geometric.internal.Distance'> : 3\n",
            "<class 'geometric.internal.Angle'> : 2\n",
            "<class 'geometric.internal.OutOfPlane'> : 1\n",
            "<class 'geometric.internal.TranslationX'> : 1\n",
            "<class 'geometric.internal.TranslationY'> : 1\n",
            "<class 'geometric.internal.TranslationZ'> : 1\n",
            "<class 'geometric.internal.RotationA'> : 1\n",
            "<class 'geometric.internal.RotationB'> : 1\n",
            "<class 'geometric.internal.RotationC'> : 1\n",
            "> ===== Optimization Info: ====\n",
            "> Job type: Energy minimization\n",
            "> Maximum number of optimization cycles: 300\n",
            "> Initial / maximum trust radius (Angstrom): 0.100 / 0.300\n",
            "> Convergence Criteria:\n",
            "> Will converge when all 5 criteria are reached:\n",
            ">  |Delta-E| < 1.00e-06\n",
            ">  RMS-Grad  < 3.00e-04\n",
            ">  Max-Grad  < 4.50e-04\n",
            ">  RMS-Disp  < 1.20e-03\n",
            ">  Max-Disp  < 1.80e-03\n",
            "> === End Optimization Info ===\n"
          ]
        },
        {
          "output_type": "stream",
          "name": "stdout",
          "text": [
            "\n",
            "Geometry optimization cycle 1\n",
            "Cartesian coordinates (Angstrom)\n",
            " Atom        New coordinates             dX        dY        dZ\n",
            "   O   0.000000   0.000000   0.000000    0.000000  0.000000  0.000000\n",
            "   C   1.210000   0.000000   0.000000    0.000000  0.000000  0.000000\n",
            "   H   1.765000   0.000000   0.961288    0.000000  0.000000  0.000000\n",
            "   H   1.765000  -0.000000  -0.961288    0.000000  0.000000  0.000000\n",
            "\n",
            "WARN: PCM is an experimental feature. It is still in testing.\n",
            "Features and APIs may be changed in the future.\n",
            "\n",
            "converged SCF energy = -114.486917779476\n",
            "--------------- PCMSymAdaptedRKS_Scanner (+PCM) gradients ---------------\n",
            "         x                y                z\n",
            "0 O    -0.0024795615     0.0000000000     0.0000000000\n",
            "1 C     0.0091306610    -0.0000000000    -0.0000000000\n",
            "2 H    -0.0034014351     0.0000000000     0.0056160177\n",
            "3 H    -0.0034014351     0.0000000000    -0.0056160177\n",
            "----------------------------------------------\n",
            "cycle 1: E = -114.486917779  dE = -114.487  norm(grad) = 0.0132565\n"
          ]
        },
        {
          "output_type": "stream",
          "name": "stderr",
          "text": [
            "Step    0 : Gradient = 6.628e-03/9.131e-03 (rms/max) Energy = -114.4869177795\n",
            "Hessian Eigenvalues: 4.50000e-02 5.00000e-02 5.00000e-02 ... 3.26000e-01 3.26000e-01 9.99547e-01\n"
          ]
        },
        {
          "output_type": "stream",
          "name": "stdout",
          "text": [
            "\n",
            "Geometry optimization cycle 2\n",
            "Cartesian coordinates (Angstrom)\n",
            " Atom        New coordinates             dX        dY        dZ\n",
            "   O  -0.013591  -0.000000  -0.017514   -0.013591 -0.000000 -0.017514\n",
            "   C   1.194775  -0.000000   0.011218   -0.015225 -0.000000  0.011218\n",
            "   H   1.795461  -0.000000   0.938492    0.030461 -0.000000 -0.022797\n",
            "   H   1.769780  -0.000000  -0.932195    0.004780 -0.000000  0.029093\n",
            "\n",
            "WARN: PCM is an experimental feature. It is still in testing.\n",
            "Features and APIs may be changed in the future.\n",
            "\n",
            "converged SCF energy = -114.487329144644\n",
            "--------------- PCMSymAdaptedRKS_Scanner (+PCM) gradients ---------------\n",
            "         x                y                z\n",
            "0 O    -0.0035058954     0.0000000000     0.0000000000\n",
            "1 C     0.0026428806     0.0000000000    -0.0000000000\n",
            "2 H     0.0003519985    -0.0000000000    -0.0012666217\n",
            "3 H     0.0003519985     0.0000000000     0.0012666217\n",
            "----------------------------------------------\n",
            "cycle 2: E = -114.487329145  dE = -0.000411365  norm(grad) = 0.00476787\n"
          ]
        },
        {
          "output_type": "stream",
          "name": "stderr",
          "text": [
            "Step    1 : Displace = \u001b[0m2.809e-02\u001b[0m/\u001b[0m3.677e-02\u001b[0m (rms/max) Trust = 1.000e-01 (=) Grad = \u001b[0m2.384e-03\u001b[0m/\u001b[0m3.506e-03\u001b[0m (rms/max) E (change) = -114.4873291446 (\u001b[0m-4.114e-04\u001b[0m) Quality = \u001b[0m0.849\u001b[0m\n",
            "Hessian Eigenvalues: 4.50000e-02 4.99364e-02 5.00000e-02 ... 3.25999e-01 3.35010e-01 9.97053e-01\n"
          ]
        },
        {
          "output_type": "stream",
          "name": "stdout",
          "text": [
            "\n",
            "Geometry optimization cycle 3\n",
            "Cartesian coordinates (Angstrom)\n",
            " Atom        New coordinates             dX        dY        dZ\n",
            "   O  -0.008934  -0.000000  -0.016833    0.004657 -0.000000 -0.016833\n",
            "   C   1.197889  -0.000000   0.009868    0.003114 -0.000000  0.009868\n",
            "   H   1.791900  -0.000000   0.942758    0.009279 -0.000000  0.007414\n",
            "   H   1.771422  -0.000000  -0.935792   -0.011199 -0.000000 -0.000449\n",
            "\n",
            "WARN: PCM is an experimental feature. It is still in testing.\n",
            "Features and APIs may be changed in the future.\n",
            "\n",
            "converged SCF energy = -114.487346213874\n",
            "--------------- PCMSymAdaptedRKS_Scanner (+PCM) gradients ---------------\n",
            "         x                y                z\n",
            "0 O    -0.0006702524    -0.0000000000    -0.0000000000\n",
            "1 C     0.0007733662     0.0000000000    -0.0000000000\n",
            "2 H    -0.0001310728     0.0000000000    -0.0001214292\n",
            "3 H    -0.0001310728    -0.0000000000     0.0001214292\n",
            "----------------------------------------------\n",
            "cycle 3: E = -114.487346214  dE = -1.70692e-05  norm(grad) = 0.00105413\n"
          ]
        },
        {
          "output_type": "stream",
          "name": "stderr",
          "text": [
            "Step    2 : Displace = \u001b[0m4.069e-03\u001b[0m/\u001b[0m5.289e-03\u001b[0m (rms/max) Trust = 1.414e-01 (\u001b[92m+\u001b[0m) Grad = \u001b[0m5.271e-04\u001b[0m/\u001b[0m7.734e-04\u001b[0m (rms/max) E (change) = -114.4873462139 (\u001b[0m-1.707e-05\u001b[0m) Quality = \u001b[0m0.964\u001b[0m\n",
            "Hessian Eigenvalues: 4.50000e-02 4.83526e-02 5.00000e-02 ... 3.23339e-01 3.26004e-01 9.02146e-01\n"
          ]
        },
        {
          "output_type": "stream",
          "name": "stdout",
          "text": [
            "\n",
            "Geometry optimization cycle 4\n",
            "Cartesian coordinates (Angstrom)\n",
            " Atom        New coordinates             dX        dY        dZ\n",
            "   O  -0.006864  -0.000000  -0.017266    0.002071 -0.000000 -0.017266\n",
            "   C   1.199534  -0.000000   0.009938    0.001645 -0.000000  0.009938\n",
            "   H   1.793601  -0.000000   0.943129    0.011940 -0.000000  0.003854\n",
            "   H   1.773487  -0.000000  -0.935801   -0.008174 -0.000000  0.003475\n",
            "\n",
            "WARN: PCM is an experimental feature. It is still in testing.\n",
            "Features and APIs may be changed in the future.\n",
            "\n",
            "converged SCF energy = -114.487346332173\n",
            "--------------- PCMSymAdaptedRKS_Scanner (+PCM) gradients ---------------\n",
            "         x                y                z\n",
            "0 O    -0.0000420221    -0.0000000000    -0.0000000000\n",
            "1 C     0.0000205255     0.0000000000     0.0000000000\n",
            "2 H    -0.0000689450     0.0000000000    -0.0000000585\n",
            "3 H    -0.0000689450    -0.0000000000     0.0000000585\n",
            "----------------------------------------------\n",
            "cycle 4: E = -114.487346332  dE = -1.18299e-07  norm(grad) = 0.000108139\n"
          ]
        },
        {
          "output_type": "stream",
          "name": "stderr",
          "text": [
            "Step    3 : Displace = \u001b[92m2.153e-04\u001b[0m/\u001b[92m2.323e-04\u001b[0m (rms/max) Trust = 2.000e-01 (\u001b[92m+\u001b[0m) Grad = \u001b[92m5.407e-05\u001b[0m/\u001b[92m6.895e-05\u001b[0m (rms/max) E (change) = -114.4873463322 (\u001b[92m-1.183e-07\u001b[0m) Quality = \u001b[0m0.191\u001b[0m\n",
            "Hessian Eigenvalues: 4.50000e-02 4.83526e-02 5.00000e-02 ... 3.23339e-01 3.26004e-01 9.02146e-01\n",
            "Converged! =D\n",
            "\n",
            "    #==========================================================================#\n",
            "    #| If this code has benefited your research, please support us by citing: |#\n",
            "    #|                                                                        |#\n",
            "    #| Wang, L.-P.; Song, C.C. (2016) \"Geometry optimization made simple with |#\n",
            "    #| translation and rotation coordinates\", J. Chem, Phys. 144, 214108.     |#\n",
            "    #| http://dx.doi.org/10.1063/1.4952956                                    |#\n",
            "    #==========================================================================#\n",
            "    Time elapsed since start of run_optimizer: 60.412 seconds\n"
          ]
        }
      ]
    },
    {
      "cell_type": "code",
      "source": [
        "hcoh.set(atom=hcoh_cpcm_opt_geomtric.tostring())\n",
        "hcoh.build()\n",
        "hcoh_cpcm_opt = dft.RKS(hcoh, xc=func).PCM()\n",
        "hcoh_cpcm_opt.with_solvent.method = 'C-PCM'\n",
        "hcoh_cpcm_opt.with_solvent.eps = 24.852\n",
        "hcoh_cpcm_opt.run()\n",
        "hess = hcoh_cpcm_opt.Hessian().kernel()\n",
        "freq_info = thermo.harmonic_analysis(hcoh, hess)\n",
        "thermo_info = thermo.thermo(hcoh_cpcm_opt, freq_info['freq_au'], 298.15, 101325)"
      ],
      "metadata": {
        "colab": {
          "base_uri": "https://localhost:8080/"
        },
        "id": "53Qs5lB8FpFa",
        "outputId": "8701b8e9-c94e-47e8-ef27-d2a44ab3d479"
      },
      "execution_count": null,
      "outputs": [
        {
          "output_type": "stream",
          "name": "stdout",
          "text": [
            "\n",
            "WARN: PCM is an experimental feature. It is still in testing.\n",
            "Features and APIs may be changed in the future.\n",
            "\n",
            "converged SCF energy = -114.487346327281\n",
            "\n",
            "WARN: Using finite difference scheme for electrostatic contribution\n",
            "\n",
            "\n",
            "WARN: MGGA Hessian is sensitive to dft grids. grids.level 3 may not be dense enough.\n",
            "\n"
          ]
        }
      ]
    },
    {
      "cell_type": "code",
      "source": [
        "freq_info"
      ],
      "metadata": {
        "colab": {
          "base_uri": "https://localhost:8080/"
        },
        "id": "yXgIlHr2HR-w",
        "outputId": "3f39e3b4-6d16-4ac1-d7e6-449ede6b5148"
      },
      "execution_count": null,
      "outputs": [
        {
          "output_type": "execute_result",
          "data": {
            "text/plain": [
              "{'freq_error': 0,\n",
              " 'freq_au': array([0.23493296, 0.2450703 , 0.29610399, 0.34173914, 0.56236698,\n",
              "        0.57472671]),\n",
              " 'freq_wavenumber': array([1207.66983523, 1259.78072671, 1522.11876024, 1756.70564303,\n",
              "        2890.84023675, 2954.37527359]),\n",
              " 'norm_mode': array([[[-1.48230903e-08, -3.63196960e-02, -6.05849365e-08],\n",
              "         [ 1.26722577e-08,  1.48315200e-01,  1.11876301e-07],\n",
              "         [ 5.44087882e-07, -5.95404291e-01, -2.03816881e-07],\n",
              "         [-4.59813939e-07, -5.95404291e-01, -1.67659157e-07]],\n",
              " \n",
              "        [[ 5.39398642e-09, -3.22092706e-08,  6.83223092e-02],\n",
              "         [-1.91343054e-08,  1.31529857e-07, -1.27160545e-01],\n",
              "         [-5.62365282e-01, -5.28020331e-07,  2.15395161e-01],\n",
              "         [ 5.62365425e-01, -5.28020331e-07,  2.15395192e-01]],\n",
              " \n",
              "        [[-8.85422553e-02,  3.07480646e-09, -5.42370234e-09],\n",
              "         [ 2.15367170e-02, -1.25562873e-08,  5.04803457e-09],\n",
              "         [ 5.74360200e-01,  5.04066162e-08, -3.18060605e-01],\n",
              "         [ 5.74360073e-01,  5.04066162e-08,  3.18060631e-01]],\n",
              " \n",
              "        [[-1.46138623e-01,  1.82133962e-09,  5.86836098e-09],\n",
              "         [ 2.15523465e-01, -7.43762693e-09, -1.21191349e-08],\n",
              "         [-1.24295933e-01,  2.98579983e-08,  1.85346059e-01],\n",
              "         [-1.24295845e-01,  2.98579983e-08, -1.85346008e-01]],\n",
              " \n",
              "        [[-1.79136721e-03, -2.70183891e-11, -3.28008630e-09],\n",
              "         [-5.51212374e-02,  1.10332295e-10,  6.68935312e-08],\n",
              "         [ 3.42619478e-01, -4.42923683e-10,  6.00429505e-01],\n",
              "         [ 3.42619874e-01, -4.42923738e-10, -6.00430250e-01]],\n",
              " \n",
              "        [[-5.40863287e-09, -3.38422943e-10, -5.47459998e-04],\n",
              "         [ 3.92037055e-08,  1.38198482e-09,  9.58420611e-02],\n",
              "         [-3.46686278e-01, -5.54791197e-09, -5.66667157e-01],\n",
              "         [ 3.46685897e-01, -5.54791217e-09, -5.66666358e-01]]]),\n",
              " 'reduced_mass': array([1.36550638, 1.34023557, 1.14888675, 5.97328385, 1.04291586,\n",
              "        1.12133908]),\n",
              " 'vib_temperature': array([1737.56800983, 1812.54398038, 2189.99000208, 2527.50829654,\n",
              "        4159.27546617, 4250.68823835]),\n",
              " 'force_const_au': array([0.05519349, 0.06005945, 0.08767757, 0.11678564, 0.31625662,\n",
              "        0.33031079]),\n",
              " 'force_const_dyne': array([ 1.17338465,  1.25320261,  1.56828335, 10.86078906,  5.13508561,\n",
              "         5.76658249])}"
            ]
          },
          "metadata": {},
          "execution_count": 27
        }
      ]
    },
    {
      "cell_type": "code",
      "source": [
        "thermo_info"
      ],
      "metadata": {
        "colab": {
          "base_uri": "https://localhost:8080/"
        },
        "id": "GEtSRjBFHoMP",
        "outputId": "324ef45b-b66c-4939-f25a-14c3670cdfda"
      },
      "execution_count": null,
      "outputs": [
        {
          "output_type": "execute_result",
          "data": {
            "text/plain": [
              "{'temperature': (298.15, 'K'),\n",
              " 'pressure': (101325, 'Pa'),\n",
              " 'E0': (np.float64(-114.48734632728106), 'Eh'),\n",
              " 'S_elec': (np.float64(0.0), 'Eh/K'),\n",
              " 'Cv_elec': (0, 'Eh/K'),\n",
              " 'Cp_elec': (0, 'Eh/K'),\n",
              " 'E_elec': (np.float64(-114.48734632728106), 'Eh'),\n",
              " 'H_elec': (np.float64(-114.48734632728106), 'Eh'),\n",
              " 'S_trans': (np.float64(5.757963266472306e-05), 'Eh/K'),\n",
              " 'Cv_trans': (4.750215777928532e-06, 'Eh/K'),\n",
              " 'Cp_trans': (7.917026296547553e-06, 'Eh/K'),\n",
              " 'E_trans': (0.0014162768341893916, 'Eh'),\n",
              " 'H_trans': (0.0023604613903156525, 'Eh'),\n",
              " 'rot_const': (array([284.03383933,  38.77766597,  34.11950679]), 'GHz'),\n",
              " 'sym_number': (2, ''),\n",
              " 'S_rot': (np.float64(2.553170279443589e-05), 'Eh/K'),\n",
              " 'Cv_rot': (4.750215777928532e-06, 'Eh/K'),\n",
              " 'Cp_rot': (4.750215777928532e-06, 'Eh/K'),\n",
              " 'E_rot': (0.0014162768341893916, 'Eh'),\n",
              " 'H_rot': (0.0014162768341893916, 'Eh'),\n",
              " 'ZPE': (np.float64(0.02640735837356711), 'Eh'),\n",
              " 'S_vib': (np.float64(1.3867791396863376e-07), 'Eh/K'),\n",
              " 'Cv_vib': (np.float64(7.465890834873857e-07), 'Eh/K'),\n",
              " 'Cp_vib': (np.float64(7.465890834873857e-07), 'Eh/K'),\n",
              " 'E_vib': (np.float64(0.026442948757716606), 'Eh'),\n",
              " 'H_vib': (np.float64(0.026442948757716606), 'Eh'),\n",
              " 'G_elec': (np.float64(-114.48734632728106), 'Eh'),\n",
              " 'G_trans': (np.float64(-0.014806906088671527), 'Eh'),\n",
              " 'G_rot': (np.float64(-0.006196000353971669), 'Eh'),\n",
              " 'G_vib': (np.float64(0.026401601937666858), 'Eh'),\n",
              " 'S_tot': (np.float64(8.325001337312759e-05), 'Eh/K'),\n",
              " 'Cv_tot': (np.float64(1.024702063934445e-05), 'Eh/K'),\n",
              " 'Cp_tot': (np.float64(1.341383115796347e-05), 'Eh/K'),\n",
              " 'E_0K': (np.float64(-114.4609389689075), 'Eh'),\n",
              " 'E_tot': (np.float64(-114.45807082485496), 'Eh'),\n",
              " 'H_tot': (np.float64(-114.45712664029884), 'Eh'),\n",
              " 'G_tot': (np.float64(-114.48194763178603), 'Eh')}"
            ]
          },
          "metadata": {},
          "execution_count": 28
        }
      ]
    },
    {
      "cell_type": "code",
      "source": [
        "print(thermo_info['Cp_tot'][0]*2625.5*1e3)\n",
        "print(thermo_info['S_tot'][0]*2625.5*1e3)\n",
        "print(thermo_info['rot_const'][0]/29.9792458)"
      ],
      "metadata": {
        "colab": {
          "base_uri": "https://localhost:8080/"
        },
        "id": "I8GgtpAjH9tK",
        "outputId": "0a64b42b-ac2e-4b59-f0f2-c53155d63348"
      },
      "execution_count": null,
      "outputs": [
        {
          "output_type": "stream",
          "name": "stdout",
          "text": [
            "35.21801370523309\n",
            "218.57291011114648\n",
            "[9.47434906 1.29348371 1.13810424]\n"
          ]
        }
      ]
    },
    {
      "cell_type": "code",
      "source": [
        "hcoh = gto.Mole(atom=geom_zmat, unit='Angstrom', basis='ccpvtz', charge=0, spin=0, symmetry=True)\n",
        "hcoh.build()\n",
        "func = 'r2SCAN'\n",
        "hcoh_smd_benzene_calc = dft.RKS(hcoh, xc=func).SMD()\n",
        "hcoh_smd_benzene_calc.with_solvent.solvent = 'benzene'\n",
        "hcoh_smd_opt_geomtric = hcoh_smd_benzene_calc.Gradients().optimizer(solver='geomeTRIC').kernel()\n",
        "hcoh.set(atom=hcoh_smd_opt_geomtric.tostring())\n",
        "hcoh.build()\n",
        "hcoh_smd_opt = dft.RKS(hcoh, xc=func).SMD()\n",
        "hcoh_smd_opt.with_solvent.solvent = 'benzene'\n",
        "hcoh_smd_opt.run()\n",
        "hess = hcoh_smd_opt.Hessian().kernel()\n",
        "freq_info = thermo.harmonic_analysis(hcoh, hess)\n",
        "thermo_info = thermo.thermo(hcoh_smd_opt, freq_info['freq_au'], 298.15, 101325)"
      ],
      "metadata": {
        "colab": {
          "base_uri": "https://localhost:8080/"
        },
        "id": "GhDKZDd5KpW_",
        "outputId": "07a2e7fd-0e93-4755-f30d-da2881d17ae2"
      },
      "execution_count": null,
      "outputs": [
        {
          "output_type": "stream",
          "name": "stderr",
          "text": [
            "geometric-optimize called with the following command line:\n",
            "/usr/local/lib/python3.11/dist-packages/colab_kernel_launcher.py -f /root/.local/share/jupyter/runtime/kernel-9f96f5b5-03b1-48fb-91fd-c54cbd27413a.json\n",
            "\n",
            "                                        \u001b[91m())))))))))))))))/\u001b[0m                     \n",
            "                                    \u001b[91m())))))))))))))))))))))))),\u001b[0m                \n",
            "                                \u001b[91m*)))))))))))))))))))))))))))))))))\u001b[0m             \n",
            "                        \u001b[94m#,\u001b[0m    \u001b[91m()))))))))/\u001b[0m                \u001b[91m.)))))))))),\u001b[0m          \n",
            "                      \u001b[94m#%%%%,\u001b[0m  \u001b[91m())))))\u001b[0m                        \u001b[91m.))))))))*\u001b[0m        \n",
            "                      \u001b[94m*%%%%%%,\u001b[0m  \u001b[91m))\u001b[0m              \u001b[93m..\u001b[0m              \u001b[91m,))))))).\u001b[0m      \n",
            "                        \u001b[94m*%%%%%%,\u001b[0m         \u001b[93m***************/.\u001b[0m        \u001b[91m.)))))))\u001b[0m     \n",
            "                \u001b[94m#%%/\u001b[0m      \u001b[94m(%%%%%%,\u001b[0m    \u001b[93m/*********************.\u001b[0m       \u001b[91m)))))))\u001b[0m    \n",
            "              \u001b[94m.%%%%%%#\u001b[0m      \u001b[94m*%%%%%%,\u001b[0m  \u001b[93m*******/,\u001b[0m     \u001b[93m**********,\u001b[0m      \u001b[91m.))))))\u001b[0m   \n",
            "                \u001b[94m.%%%%%%/\u001b[0m      \u001b[94m*%%%%%%,\u001b[0m  \u001b[93m**\u001b[0m              \u001b[93m********\u001b[0m      \u001b[91m.))))))\u001b[0m  \n",
            "          \u001b[94m##\u001b[0m      \u001b[94m.%%%%%%/\u001b[0m      \u001b[94m(%%%%%%,\u001b[0m                  \u001b[93m,******\u001b[0m      \u001b[91m/)))))\u001b[0m  \n",
            "        \u001b[94m%%%%%%\u001b[0m      \u001b[94m.%%%%%%#\u001b[0m      \u001b[94m*%%%%%%,\u001b[0m    \u001b[92m,/////.\u001b[0m       \u001b[93m******\u001b[0m      \u001b[91m))))))\u001b[0m \n",
            "      \u001b[94m#%\u001b[0m      \u001b[94m%%\u001b[0m      \u001b[94m.%%%%%%/\u001b[0m      \u001b[94m*%%%%%%,\u001b[0m  \u001b[92m////////,\u001b[0m      \u001b[93m*****/\u001b[0m     \u001b[91m,)))))\u001b[0m \n",
            "    \u001b[94m#%%\u001b[0m  \u001b[94m%%%\u001b[0m  \u001b[94m%%%#\u001b[0m      \u001b[94m.%%%%%%/\u001b[0m      \u001b[94m(%%%%%%,\u001b[0m  \u001b[92m///////.\u001b[0m     \u001b[93m/*****\u001b[0m      \u001b[91m))))).\u001b[0m\n",
            "  \u001b[94m#%%%%.\u001b[0m      \u001b[94m%%%%%#\u001b[0m      \u001b[94m/%%%%%%*\u001b[0m      \u001b[94m#%%%%%%\u001b[0m   \u001b[92m/////)\u001b[0m     \u001b[93m******\u001b[0m      \u001b[91m))))),\u001b[0m\n",
            "    \u001b[94m#%%%%##%\u001b[0m  \u001b[94m%%%#\u001b[0m      \u001b[94m.%%%%%%/\u001b[0m      \u001b[94m(%%%%%%,\u001b[0m  \u001b[92m///////.\u001b[0m     \u001b[93m/*****\u001b[0m      \u001b[91m))))).\u001b[0m\n",
            "      \u001b[94m##\u001b[0m     \u001b[94m%%%\u001b[0m      \u001b[94m.%%%%%%/\u001b[0m      \u001b[94m*%%%%%%,\u001b[0m  \u001b[92m////////.\u001b[0m      \u001b[93m*****/\u001b[0m     \u001b[91m,)))))\u001b[0m \n",
            "        \u001b[94m#%%%%#\u001b[0m      \u001b[94m/%%%%%%/\u001b[0m      \u001b[94m(%%%%%%\u001b[0m      \u001b[92m/)/)//\u001b[0m       \u001b[93m******\u001b[0m      \u001b[91m))))))\u001b[0m \n",
            "          \u001b[94m##\u001b[0m      \u001b[94m.%%%%%%/\u001b[0m      \u001b[94m(%%%%%%,\u001b[0m                  \u001b[93m*******\u001b[0m      \u001b[91m))))))\u001b[0m  \n",
            "                \u001b[94m.%%%%%%/\u001b[0m      \u001b[94m*%%%%%%,\u001b[0m  \u001b[93m**.\u001b[0m             \u001b[93m/*******\u001b[0m      \u001b[91m.))))))\u001b[0m  \n",
            "              \u001b[94m*%%%%%%/\u001b[0m      \u001b[94m(%%%%%%\u001b[0m   \u001b[93m********/*..,*/*********\u001b[0m       \u001b[91m*))))))\u001b[0m   \n",
            "                \u001b[94m#%%/\u001b[0m      \u001b[94m(%%%%%%,\u001b[0m    \u001b[93m*********************/\u001b[0m        \u001b[91m)))))))\u001b[0m    \n",
            "                        \u001b[94m*%%%%%%,\u001b[0m         \u001b[93m,**************/\u001b[0m         \u001b[91m,))))))/\u001b[0m     \n",
            "                      \u001b[94m(%%%%%%\u001b[0m   \u001b[91m()\u001b[0m                              \u001b[91m))))))))\u001b[0m       \n",
            "                      \u001b[94m#%%%%,\u001b[0m  \u001b[91m())))))\u001b[0m                        \u001b[91m,)))))))),\u001b[0m        \n",
            "                        \u001b[94m#,\u001b[0m    \u001b[91m())))))))))\u001b[0m                \u001b[91m,)))))))))).\u001b[0m          \n",
            "                                 \u001b[91m()))))))))))))))))))))))))))))))/\u001b[0m             \n",
            "                                    \u001b[91m())))))))))))))))))))))))).\u001b[0m                \n",
            "                                         \u001b[91m())))))))))))))),\u001b[0m                     \n",
            "\n",
            "-=# \u001b[1;94m geomeTRIC started. Version: 1.1 \u001b[0m #=-\n",
            "Current date and time: 2025-04-10 10:09:28\n",
            "#========================================================#\n",
            "#| \u001b[92m    Arguments passed to driver run_optimizer():     \u001b[0m |#\n",
            "#========================================================#\n",
            "customengine              <pyscf.geomopt.geometric_solver.PySCFEngine object at 0x7a615b713690> \n",
            "input                     /tmp/tmp3bmk1qh4/653abbfc-8b4b-41ec-a614-cea7ee91cc49 \n",
            "logIni                    /usr/local/lib/python3.11/dist-packages/pyscf/geomopt/log.ini \n",
            "----------------------------------------------------------\n",
            "Custom engine selected.\n",
            "Bonds will be generated from interatomic distances less than 1.20 times sum of covalent radii\n",
            "12 internal coordinates being used (instead of 12 Cartesians)\n",
            "Internal coordinate system (atoms numbered from 1):\n",
            "Distance 1-2\n",
            "Distance 2-3\n",
            "Distance 2-4\n",
            "Angle 1-2-4\n",
            "Angle 3-2-4\n",
            "Out-of-Plane 2-1-3-4\n",
            "Translation-X 1-4\n",
            "Translation-Y 1-4\n",
            "Translation-Z 1-4\n",
            "Rotation-A 1-4\n",
            "Rotation-B 1-4\n",
            "Rotation-C 1-4\n",
            "<class 'geometric.internal.Distance'> : 3\n",
            "<class 'geometric.internal.Angle'> : 2\n",
            "<class 'geometric.internal.OutOfPlane'> : 1\n",
            "<class 'geometric.internal.TranslationX'> : 1\n",
            "<class 'geometric.internal.TranslationY'> : 1\n",
            "<class 'geometric.internal.TranslationZ'> : 1\n",
            "<class 'geometric.internal.RotationA'> : 1\n",
            "<class 'geometric.internal.RotationB'> : 1\n",
            "<class 'geometric.internal.RotationC'> : 1\n",
            "> ===== Optimization Info: ====\n",
            "> Job type: Energy minimization\n",
            "> Maximum number of optimization cycles: 300\n",
            "> Initial / maximum trust radius (Angstrom): 0.100 / 0.300\n",
            "> Convergence Criteria:\n",
            "> Will converge when all 5 criteria are reached:\n",
            ">  |Delta-E| < 1.00e-06\n",
            ">  RMS-Grad  < 3.00e-04\n",
            ">  Max-Grad  < 4.50e-04\n",
            ">  RMS-Disp  < 1.20e-03\n",
            ">  Max-Disp  < 1.80e-03\n",
            "> === End Optimization Info ===\n"
          ]
        },
        {
          "output_type": "stream",
          "name": "stdout",
          "text": [
            "\n",
            "Geometry optimization cycle 1\n",
            "Cartesian coordinates (Angstrom)\n",
            " Atom        New coordinates             dX        dY        dZ\n",
            "   O   0.000000   0.000000   0.000000    0.000000  0.000000  0.000000\n",
            "   C   1.210000   0.000000   0.000000    0.000000  0.000000  0.000000\n",
            "   H   1.765000   0.000000   0.961288    0.000000  0.000000  0.000000\n",
            "   H   1.765000  -0.000000  -0.961288    0.000000  0.000000  0.000000\n",
            "converged SCF energy = -114.482789951011\n",
            "--------------- SMDSymAdaptedRKS_Scanner (+SMD) gradients ---------------\n",
            "         x                y                z\n",
            "0 O    -0.0087427226    -0.0000000000     0.0000000000\n",
            "1 C     0.0174353254    -0.0000000000    -0.0000000000\n",
            "2 H    -0.0044287904     0.0000000000     0.0045183975\n",
            "3 H    -0.0044287904    -0.0000000000    -0.0045183975\n",
            "----------------------------------------------\n",
            "cycle 1: E = -114.482789951  dE = -114.483  norm(grad) = 0.0214589\n"
          ]
        },
        {
          "output_type": "stream",
          "name": "stderr",
          "text": [
            "Step    0 : Gradient = 1.073e-02/1.744e-02 (rms/max) Energy = -114.4827899510\n",
            "Hessian Eigenvalues: 4.50000e-02 5.00000e-02 5.00000e-02 ... 3.26000e-01 3.26000e-01 9.99547e-01\n"
          ]
        },
        {
          "output_type": "stream",
          "name": "stdout",
          "text": [
            "\n",
            "Geometry optimization cycle 2\n",
            "Cartesian coordinates (Angstrom)\n",
            " Atom        New coordinates             dX        dY        dZ\n",
            "   O  -0.012601  -0.000000  -0.018516   -0.012601 -0.000000 -0.018516\n",
            "   C   1.192409  -0.000000   0.011884   -0.017591 -0.000000  0.011884\n",
            "   H   1.797155  -0.000000   0.939351    0.032155 -0.000000 -0.021937\n",
            "   H   1.770020  -0.000000  -0.932720    0.005020  0.000000  0.028568\n",
            "converged SCF energy = -114.483295233281\n"
          ]
        },
        {
          "output_type": "stream",
          "name": "stderr",
          "text": [
            "<class 'pyscf.grad.rhf.SMDGradients_Scanner'> does not have attributes  de_cds\n"
          ]
        },
        {
          "output_type": "stream",
          "name": "stdout",
          "text": [
            "--------------- SMDSymAdaptedRKS_Scanner (+SMD) gradients ---------------\n",
            "         x                y                z\n",
            "0 O    -0.0049687518     0.0000000000     0.0000000000\n",
            "1 C     0.0047240829     0.0000000000    -0.0000000000\n",
            "2 H     0.0000341087    -0.0000000000    -0.0015404651\n",
            "3 H     0.0000341087     0.0000000000     0.0015404651\n",
            "----------------------------------------------\n",
            "cycle 2: E = -114.483295233  dE = -0.000505282  norm(grad) = 0.00719401\n"
          ]
        },
        {
          "output_type": "stream",
          "name": "stderr",
          "text": [
            "Step    1 : Displace = \u001b[0m2.871e-02\u001b[0m/\u001b[0m3.750e-02\u001b[0m (rms/max) Trust = 1.000e-01 (=) Grad = \u001b[0m3.597e-03\u001b[0m/\u001b[0m4.969e-03\u001b[0m (rms/max) E (change) = -114.4832952333 (\u001b[0m-5.053e-04\u001b[0m) Quality = \u001b[0m0.915\u001b[0m\n",
            "Hessian Eigenvalues: 4.50000e-02 4.99206e-02 5.00000e-02 ... 3.26000e-01 3.38220e-01 9.46795e-01\n"
          ]
        },
        {
          "output_type": "stream",
          "name": "stdout",
          "text": [
            "\n",
            "Geometry optimization cycle 3\n",
            "Cartesian coordinates (Angstrom)\n",
            " Atom        New coordinates             dX        dY        dZ\n",
            "   O  -0.007678   0.000000  -0.019400    0.004922  0.000000 -0.019400\n",
            "   C   1.194811  -0.000000   0.011007    0.002401 -0.000000  0.011007\n",
            "   H   1.794274  -0.000000   0.943978    0.010686 -0.000000  0.007942\n",
            "   H   1.772593  -0.000000  -0.935584   -0.010995 -0.000000  0.000451\n",
            "converged SCF energy = -114.483319092287\n",
            "--------------- SMDSymAdaptedRKS_Scanner (+SMD) gradients ---------------\n",
            "         x                y                z\n",
            "0 O    -0.0007067049     0.0000000000     0.0000000000\n",
            "1 C     0.0008717196     0.0000000000     0.0000000000\n",
            "2 H    -0.0001720543    -0.0000000000    -0.0002640447\n",
            "3 H    -0.0001720543    -0.0000000000     0.0002640447\n",
            "----------------------------------------------\n",
            "cycle 3: E = -114.483319092  dE = -2.3859e-05  norm(grad) = 0.00120746\n"
          ]
        },
        {
          "output_type": "stream",
          "name": "stderr",
          "text": [
            "Step    2 : Displace = \u001b[0m3.530e-03\u001b[0m/\u001b[0m4.500e-03\u001b[0m (rms/max) Trust = 1.414e-01 (\u001b[92m+\u001b[0m) Grad = \u001b[0m6.037e-04\u001b[0m/\u001b[0m8.717e-04\u001b[0m (rms/max) E (change) = -114.4833190923 (\u001b[0m-2.386e-05\u001b[0m) Quality = \u001b[0m1.023\u001b[0m\n",
            "Hessian Eigenvalues: 4.50000e-02 4.81466e-02 5.00000e-02 ... 3.13371e-01 3.26002e-01 8.78875e-01\n"
          ]
        },
        {
          "output_type": "stream",
          "name": "stdout",
          "text": [
            "\n",
            "Geometry optimization cycle 4\n",
            "Cartesian coordinates (Angstrom)\n",
            " Atom        New coordinates             dX        dY        dZ\n",
            "   O  -0.005201   0.000000  -0.019914    0.002477  0.000000 -0.019914\n",
            "   C   1.196786  -0.000000   0.011045    0.001976 -0.000000  0.011045\n",
            "   H   1.796201  -0.000000   0.944718    0.012767 -0.000000  0.004937\n",
            "   H   1.775160  -0.000000  -0.935849   -0.008274 -0.000000  0.003932\n",
            "converged SCF energy = -114.483319406503\n",
            "--------------- SMDSymAdaptedRKS_Scanner (+SMD) gradients ---------------\n",
            "         x                y                z\n",
            "0 O     0.0000388125    -0.0000000000     0.0000000000\n",
            "1 C    -0.0001100629    -0.0000000000     0.0000000000\n",
            "2 H    -0.0000542925     0.0000000000     0.0000078681\n",
            "3 H    -0.0000542925    -0.0000000000    -0.0000078681\n",
            "----------------------------------------------\n",
            "cycle 4: E = -114.483319407  dE = -3.14215e-07  norm(grad) = 0.000140141\n"
          ]
        },
        {
          "output_type": "stream",
          "name": "stderr",
          "text": [
            "Step    3 : Displace = \u001b[92m3.953e-04\u001b[0m/\u001b[92m5.083e-04\u001b[0m (rms/max) Trust = 2.000e-01 (\u001b[92m+\u001b[0m) Grad = \u001b[92m7.007e-05\u001b[0m/\u001b[92m1.101e-04\u001b[0m (rms/max) E (change) = -114.4833194065 (\u001b[92m-3.142e-07\u001b[0m) Quality = \u001b[0m0.312\u001b[0m\n",
            "Hessian Eigenvalues: 4.50000e-02 4.81466e-02 5.00000e-02 ... 3.13371e-01 3.26002e-01 8.78875e-01\n",
            "Converged! =D\n",
            "\n",
            "    #==========================================================================#\n",
            "    #| If this code has benefited your research, please support us by citing: |#\n",
            "    #|                                                                        |#\n",
            "    #| Wang, L.-P.; Song, C.C. (2016) \"Geometry optimization made simple with |#\n",
            "    #| translation and rotation coordinates\", J. Chem, Phys. 144, 214108.     |#\n",
            "    #| http://dx.doi.org/10.1063/1.4952956                                    |#\n",
            "    #==========================================================================#\n",
            "    Time elapsed since start of run_optimizer: 61.337 seconds\n"
          ]
        },
        {
          "output_type": "stream",
          "name": "stdout",
          "text": [
            "converged SCF energy = -114.483319407792\n",
            "\n",
            "WARN: MGGA Hessian is sensitive to dft grids. grids.level 3 may not be dense enough.\n",
            "\n",
            "\n",
            "WARN: Using finite difference scheme for CDS contribution.\n",
            "\n"
          ]
        }
      ]
    },
    {
      "cell_type": "code",
      "source": [
        "print(thermo_info['Cp_tot'][0]*2625.5*1e3)\n",
        "print(thermo_info['S_tot'][0]*2625.5*1e3)\n",
        "print(thermo_info['rot_const'][0]/29.9792458)"
      ],
      "metadata": {
        "colab": {
          "base_uri": "https://localhost:8080/"
        },
        "id": "qJCOwqxtMMBR",
        "outputId": "b0bc83ad-63b3-4566-8a6c-f2947dc0fdb3"
      },
      "execution_count": null,
      "outputs": [
        {
          "output_type": "stream",
          "name": "stdout",
          "text": [
            "35.2329950898846\n",
            "218.54949749571188\n",
            "[9.45783147 1.29960209 1.14259758]\n"
          ]
        }
      ]
    },
    {
      "cell_type": "code",
      "source": [
        "freq_info"
      ],
      "metadata": {
        "colab": {
          "base_uri": "https://localhost:8080/"
        },
        "id": "JBnH8bciMVWe",
        "outputId": "142ae7fe-0fc9-4c7a-c113-d1c41fbbc641"
      },
      "execution_count": null,
      "outputs": [
        {
          "output_type": "execute_result",
          "data": {
            "text/plain": [
              "{'freq_error': 0,\n",
              " 'freq_au': array([0.23293079, 0.24487571, 0.29698035, 0.34661578, 0.55783078,\n",
              "        0.56777958]),\n",
              " 'freq_wavenumber': array([1197.37774601, 1258.7804491 , 1526.62367554, 1781.77395119,\n",
              "        2867.52194035, 2918.6636435 ]),\n",
              " 'norm_mode': array([[[ 3.81519781e-10,  3.67096987e-02, -2.70721650e-09],\n",
              "         [-2.17284410e-10, -1.48705420e-01,  5.03575897e-09],\n",
              "         [ 2.03965381e-08,  5.94634093e-01, -7.68654835e-09],\n",
              "         [-2.38629387e-08,  5.94634093e-01, -9.34891240e-09]],\n",
              " \n",
              "        [[-2.66037423e-08,  1.44777273e-09,  6.86448971e-02],\n",
              "         [-8.56129027e-09, -5.86470773e-09, -1.27832167e-01],\n",
              "         [-5.60589439e-01,  2.34514322e-08,  2.16836384e-01],\n",
              "         [ 5.60589963e-01,  2.34514323e-08,  2.16836685e-01]],\n",
              " \n",
              "        [[-8.41811317e-02,  1.14315161e-10, -3.00400131e-08],\n",
              "         [ 1.52726755e-02, -4.63073347e-10,  5.54503963e-08],\n",
              "         [ 5.77070595e-01,  1.85170924e-09, -3.24643917e-01],\n",
              "         [ 5.77070100e-01,  1.85170940e-09,  3.24643733e-01]],\n",
              " \n",
              "        [[-1.48689186e-01,  2.94383874e-11,  4.73787344e-09],\n",
              "         [ 2.16123210e-01, -1.19250326e-10, -9.77078790e-09],\n",
              "         [-1.07627810e-01,  4.76850862e-10,  1.75239376e-01],\n",
              "         [-1.07627739e-01,  4.76850777e-10, -1.75239335e-01]],\n",
              " \n",
              "        [[ 2.12135411e-03, -2.40143816e-12,  7.46471638e-10],\n",
              "         [ 5.48639079e-02,  9.72787958e-12, -6.09695229e-08],\n",
              "         [-3.43705112e-01, -3.88991564e-11, -5.99940724e-01],\n",
              "         [-3.43705545e-01, -3.88993496e-11,  5.99941439e-01]],\n",
              " \n",
              "        [[-5.90182282e-10,  2.20470390e-12, -5.01316655e-04],\n",
              "         [ 3.67801346e-08, -8.93096149e-12,  9.55797519e-02],\n",
              "         [-3.49063958e-01,  3.57124067e-11, -5.65470534e-01],\n",
              "         [ 3.49063529e-01,  3.57123437e-11, -5.65469778e-01]]]),\n",
              " 'reduced_mass': array([1.3686625 , 1.34478919, 1.13105882, 6.5187835 , 1.04260082,\n",
              "        1.12064942]),\n",
              " 'vib_temperature': array([1722.75998494, 1811.10480361, 2196.47157218, 2563.57601061,\n",
              "        4125.72562937, 4199.30715371]),\n",
              " 'force_const_au': array([0.05425675, 0.05996411, 0.08819733, 0.1201425 , 0.31117518,\n",
              "        0.32237365]),\n",
              " 'force_const_dyne': array([ 1.15613611,  1.25546445,  1.55309997, 12.19332084,  5.05105147,\n",
              "         5.62455413])}"
            ]
          },
          "metadata": {},
          "execution_count": 32
        }
      ]
    },
    {
      "cell_type": "code",
      "source": [
        "hcoh_cpcm_exc = hcoh_cpcm_opt.TDDFT().PCM().run()\n",
        "hcoh_cpcm_exc.analyze(verbose=4)"
      ],
      "metadata": {
        "colab": {
          "base_uri": "https://localhost:8080/"
        },
        "id": "RsrJjTPsMkGq",
        "outputId": "842aa9de-c0bc-4174-a2d3-65614a813967"
      },
      "execution_count": null,
      "outputs": [
        {
          "output_type": "stream",
          "name": "stdout",
          "text": [
            "\n",
            "WARN: PCM is an experimental feature. It is still in testing.\n",
            "Features and APIs may be changed in the future.\n",
            "\n",
            "Excited State energies (eV)\n",
            "[4.42450708 8.47457639 9.925454  ]\n",
            "\n",
            "** Singlet excitation energies and oscillator strengths **\n",
            "Excited State   1:   A2      4.42451 eV    280.22 nm  f=0.0000\n",
            "       8 -> 9        -0.70712\n",
            "Excited State   2:   B2      8.47458 eV    146.30 nm  f=0.1077\n",
            "       8 -> 10       -0.70415\n",
            "Excited State   3:   A1      9.92545 eV    124.92 nm  f=0.0086\n",
            "       7 -> 9        -0.54803\n",
            "       8 -> 11        0.43250\n",
            "\n",
            "** Transition electric dipole moments (AU) **\n",
            "state          X           Y           Z        Dip. S.      Osc.\n",
            "  1        -0.0000     -0.0000      0.0000      0.0000      0.0000\n",
            "  2        -0.0000      0.0000     -0.7203      0.5188      0.1077\n",
            "  3        -0.1885      0.0000     -0.0000      0.0355      0.0086\n",
            "\n",
            "** Transition velocity dipole moments (imaginary part, AU) **\n",
            "state          X           Y           Z        Dip. S.      Osc.\n",
            "  1        -0.0000     -0.0000      0.0000      0.0000      0.0000\n",
            "  2        -0.0000      0.0000     -0.1999      0.0400      0.0856\n",
            "  3        -0.0556      0.0000     -0.0000      0.0031      0.0056\n",
            "\n",
            "** Transition magnetic dipole moments (imaginary part, AU) **\n",
            "state          X           Y           Z\n",
            "  1         1.2216      0.0000     -0.0000\n",
            "  2        -0.0000     -0.8150     -0.0000\n",
            "  3         0.0000     -0.0000     -0.0000\n"
          ]
        },
        {
          "output_type": "execute_result",
          "data": {
            "text/plain": [
              "<pyscf.solvent._attach_solvent.PCMCasidaTDDFT at 0x7a615b78b990>"
            ]
          },
          "metadata": {},
          "execution_count": 34
        }
      ]
    },
    {
      "cell_type": "markdown",
      "metadata": {
        "id": "13FrIbZwvnXg"
      },
      "source": [
        "Д/з до 17.04.2025\n",
        "\n",
        "\n",
        "1.   Оптимизировать молекулу из Д/з №2-4 одним из трех способов: с использованием ECP в базисном наборе, методом DHF или использованием поправок x2c. Определить величину релятивистских эффектов.\n",
        "2.   Определить характеристики молекулы из Д/з №2-4 с теми базисным набором и функционалом плотности, которые ближе всего к экспериментальным данным в 3 растворителях. Описать влияние растворителя на свойства молекулы.\n",
        "\n",
        "\n",
        "Примечание: в теме письма с домашней работой указать свою фамилию и номер группы. Сама домашняя работа должна содержать результаты расчетов."
      ]
    }
  ],
  "metadata": {
    "colab": {
      "provenance": [],
      "include_colab_link": true
    },
    "kernelspec": {
      "display_name": "Python 3",
      "name": "python3"
    },
    "language_info": {
      "name": "python"
    }
  },
  "nbformat": 4,
  "nbformat_minor": 0
}