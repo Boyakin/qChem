{
  "nbformat": 4,
  "nbformat_minor": 0,
  "metadata": {
    "colab": {
      "provenance": [],
      "include_colab_link": true
    },
    "kernelspec": {
      "name": "python3",
      "display_name": "Python 3"
    },
    "language_info": {
      "name": "python"
    }
  },
  "cells": [
    {
      "cell_type": "markdown",
      "metadata": {
        "id": "view-in-github",
        "colab_type": "text"
      },
      "source": [
        "<a href=\"https://colab.research.google.com/github/Boyakin/qChem/blob/main/%D0%9A%D0%B2%D0%A5%D0%B8%D0%BCPractice_3.ipynb\" target=\"_parent\"><img src=\"https://colab.research.google.com/assets/colab-badge.svg\" alt=\"Open In Colab\"/></a>"
      ]
    },
    {
      "cell_type": "code",
      "execution_count": null,
      "metadata": {
        "colab": {
          "base_uri": "https://localhost:8080/"
        },
        "id": "JGsZwAvt0oH0",
        "outputId": "2d0dea63-47f9-4152-fa5b-d0a584859771"
      },
      "outputs": [
        {
          "output_type": "stream",
          "name": "stdout",
          "text": [
            "Collecting pyscf\n",
            "  Downloading pyscf-2.8.0-py3-none-manylinux_2_17_x86_64.manylinux2014_x86_64.whl.metadata (6.4 kB)\n",
            "Collecting geometric\n",
            "  Downloading geometric-1.1.tar.gz (386 kB)\n",
            "\u001b[2K     \u001b[90m━━━━━━━━━━━━━━━━━━━━━━━━━━━━━━━━━━━━━━━━\u001b[0m \u001b[32m386.0/386.0 kB\u001b[0m \u001b[31m5.7 MB/s\u001b[0m eta \u001b[36m0:00:00\u001b[0m\n",
            "\u001b[?25h  Preparing metadata (setup.py) ... \u001b[?25l\u001b[?25hdone\n",
            "Requirement already satisfied: numpy!=1.16,!=1.17,>=1.13 in /usr/local/lib/python3.11/dist-packages (from pyscf) (2.0.2)\n",
            "Requirement already satisfied: scipy>=1.6.0 in /usr/local/lib/python3.11/dist-packages (from pyscf) (1.14.1)\n",
            "Requirement already satisfied: h5py>=2.7 in /usr/local/lib/python3.11/dist-packages (from pyscf) (3.13.0)\n",
            "Requirement already satisfied: setuptools in /usr/local/lib/python3.11/dist-packages (from pyscf) (75.2.0)\n",
            "Requirement already satisfied: networkx in /usr/local/lib/python3.11/dist-packages (from geometric) (3.4.2)\n",
            "Requirement already satisfied: six in /usr/local/lib/python3.11/dist-packages (from geometric) (1.17.0)\n",
            "Downloading pyscf-2.8.0-py3-none-manylinux_2_17_x86_64.manylinux2014_x86_64.whl (50.9 MB)\n",
            "\u001b[2K   \u001b[90m━━━━━━━━━━━━━━━━━━━━━━━━━━━━━━━━━━━━━━━━\u001b[0m \u001b[32m50.9/50.9 MB\u001b[0m \u001b[31m12.4 MB/s\u001b[0m eta \u001b[36m0:00:00\u001b[0m\n",
            "\u001b[?25hBuilding wheels for collected packages: geometric\n",
            "  Building wheel for geometric (setup.py) ... \u001b[?25l\u001b[?25hdone\n",
            "  Created wheel for geometric: filename=geometric-1.1-py3-none-any.whl size=402087 sha256=e06ecafc43dd4a52c3695cf590d43132ff7809dde5165afc6dfb6000c78d7ad7\n",
            "  Stored in directory: /root/.cache/pip/wheels/c5/77/0c/96a54539fe0560749fdbe283f92582d09bddb212856407a4cb\n",
            "Successfully built geometric\n",
            "Installing collected packages: pyscf, geometric\n",
            "Successfully installed geometric-1.1 pyscf-2.8.0\n"
          ]
        }
      ],
      "source": [
        "%pip install pyscf geometric"
      ]
    },
    {
      "cell_type": "code",
      "source": [
        "import numpy as np\n",
        "from pyscf import gto, scf, fci, ci, mcscf, mp, cc, dft, tddft\n",
        "from pyscf.hessian import thermo\n",
        "import time"
      ],
      "metadata": {
        "id": "9TMfyXQc1Txu"
      },
      "execution_count": null,
      "outputs": []
    },
    {
      "cell_type": "code",
      "source": [
        "rco = 1.21\n",
        "rch = 1.11\n",
        "ahch = 120.\n",
        "\n",
        "geom_zmat = f'''\n",
        "O\n",
        "C   1   {rco}\n",
        "H   2   {rch}   1   {ahch}\n",
        "H   2   {rch}   1   {ahch}  3 180.\n",
        "'''"
      ],
      "metadata": {
        "id": "Fzuijcpi1xLw"
      },
      "execution_count": null,
      "outputs": []
    },
    {
      "cell_type": "code",
      "source": [
        "hcoh = gto.Mole(atom=geom_zmat, unit='Angstrom', basis='ccpvtz', charge=0, spin=0, symmetry=True)\n",
        "hcoh.build()\n",
        "func = 'MN15_L'\n",
        "hcoh_calc = dft.RKS(hcoh, xc=func).run()\n",
        "hcoh_opt_geomtric = hcoh_calc.Gradients().optimizer(solver='geomeTRIC').kernel()"
      ],
      "metadata": {
        "colab": {
          "base_uri": "https://localhost:8080/"
        },
        "id": "FuSk3I1f3u6V",
        "outputId": "79847b51-b904-475d-cdb5-e4b52078db88"
      },
      "execution_count": null,
      "outputs": [
        {
          "output_type": "stream",
          "name": "stdout",
          "text": [
            "converged SCF energy = -114.431947316807\n"
          ]
        },
        {
          "output_type": "stream",
          "name": "stderr",
          "text": [
            "geometric-optimize called with the following command line:\n",
            "/usr/local/lib/python3.11/dist-packages/colab_kernel_launcher.py -f /root/.local/share/jupyter/runtime/kernel-59355ebc-8522-4da2-abea-79e43ea019c1.json\n",
            "\n",
            "                                        \u001b[91m())))))))))))))))/\u001b[0m                     \n",
            "                                    \u001b[91m())))))))))))))))))))))))),\u001b[0m                \n",
            "                                \u001b[91m*)))))))))))))))))))))))))))))))))\u001b[0m             \n",
            "                        \u001b[94m#,\u001b[0m    \u001b[91m()))))))))/\u001b[0m                \u001b[91m.)))))))))),\u001b[0m          \n",
            "                      \u001b[94m#%%%%,\u001b[0m  \u001b[91m())))))\u001b[0m                        \u001b[91m.))))))))*\u001b[0m        \n",
            "                      \u001b[94m*%%%%%%,\u001b[0m  \u001b[91m))\u001b[0m              \u001b[93m..\u001b[0m              \u001b[91m,))))))).\u001b[0m      \n",
            "                        \u001b[94m*%%%%%%,\u001b[0m         \u001b[93m***************/.\u001b[0m        \u001b[91m.)))))))\u001b[0m     \n",
            "                \u001b[94m#%%/\u001b[0m      \u001b[94m(%%%%%%,\u001b[0m    \u001b[93m/*********************.\u001b[0m       \u001b[91m)))))))\u001b[0m    \n",
            "              \u001b[94m.%%%%%%#\u001b[0m      \u001b[94m*%%%%%%,\u001b[0m  \u001b[93m*******/,\u001b[0m     \u001b[93m**********,\u001b[0m      \u001b[91m.))))))\u001b[0m   \n",
            "                \u001b[94m.%%%%%%/\u001b[0m      \u001b[94m*%%%%%%,\u001b[0m  \u001b[93m**\u001b[0m              \u001b[93m********\u001b[0m      \u001b[91m.))))))\u001b[0m  \n",
            "          \u001b[94m##\u001b[0m      \u001b[94m.%%%%%%/\u001b[0m      \u001b[94m(%%%%%%,\u001b[0m                  \u001b[93m,******\u001b[0m      \u001b[91m/)))))\u001b[0m  \n",
            "        \u001b[94m%%%%%%\u001b[0m      \u001b[94m.%%%%%%#\u001b[0m      \u001b[94m*%%%%%%,\u001b[0m    \u001b[92m,/////.\u001b[0m       \u001b[93m******\u001b[0m      \u001b[91m))))))\u001b[0m \n",
            "      \u001b[94m#%\u001b[0m      \u001b[94m%%\u001b[0m      \u001b[94m.%%%%%%/\u001b[0m      \u001b[94m*%%%%%%,\u001b[0m  \u001b[92m////////,\u001b[0m      \u001b[93m*****/\u001b[0m     \u001b[91m,)))))\u001b[0m \n",
            "    \u001b[94m#%%\u001b[0m  \u001b[94m%%%\u001b[0m  \u001b[94m%%%#\u001b[0m      \u001b[94m.%%%%%%/\u001b[0m      \u001b[94m(%%%%%%,\u001b[0m  \u001b[92m///////.\u001b[0m     \u001b[93m/*****\u001b[0m      \u001b[91m))))).\u001b[0m\n",
            "  \u001b[94m#%%%%.\u001b[0m      \u001b[94m%%%%%#\u001b[0m      \u001b[94m/%%%%%%*\u001b[0m      \u001b[94m#%%%%%%\u001b[0m   \u001b[92m/////)\u001b[0m     \u001b[93m******\u001b[0m      \u001b[91m))))),\u001b[0m\n",
            "    \u001b[94m#%%%%##%\u001b[0m  \u001b[94m%%%#\u001b[0m      \u001b[94m.%%%%%%/\u001b[0m      \u001b[94m(%%%%%%,\u001b[0m  \u001b[92m///////.\u001b[0m     \u001b[93m/*****\u001b[0m      \u001b[91m))))).\u001b[0m\n",
            "      \u001b[94m##\u001b[0m     \u001b[94m%%%\u001b[0m      \u001b[94m.%%%%%%/\u001b[0m      \u001b[94m*%%%%%%,\u001b[0m  \u001b[92m////////.\u001b[0m      \u001b[93m*****/\u001b[0m     \u001b[91m,)))))\u001b[0m \n",
            "        \u001b[94m#%%%%#\u001b[0m      \u001b[94m/%%%%%%/\u001b[0m      \u001b[94m(%%%%%%\u001b[0m      \u001b[92m/)/)//\u001b[0m       \u001b[93m******\u001b[0m      \u001b[91m))))))\u001b[0m \n",
            "          \u001b[94m##\u001b[0m      \u001b[94m.%%%%%%/\u001b[0m      \u001b[94m(%%%%%%,\u001b[0m                  \u001b[93m*******\u001b[0m      \u001b[91m))))))\u001b[0m  \n",
            "                \u001b[94m.%%%%%%/\u001b[0m      \u001b[94m*%%%%%%,\u001b[0m  \u001b[93m**.\u001b[0m             \u001b[93m/*******\u001b[0m      \u001b[91m.))))))\u001b[0m  \n",
            "              \u001b[94m*%%%%%%/\u001b[0m      \u001b[94m(%%%%%%\u001b[0m   \u001b[93m********/*..,*/*********\u001b[0m       \u001b[91m*))))))\u001b[0m   \n",
            "                \u001b[94m#%%/\u001b[0m      \u001b[94m(%%%%%%,\u001b[0m    \u001b[93m*********************/\u001b[0m        \u001b[91m)))))))\u001b[0m    \n",
            "                        \u001b[94m*%%%%%%,\u001b[0m         \u001b[93m,**************/\u001b[0m         \u001b[91m,))))))/\u001b[0m     \n",
            "                      \u001b[94m(%%%%%%\u001b[0m   \u001b[91m()\u001b[0m                              \u001b[91m))))))))\u001b[0m       \n",
            "                      \u001b[94m#%%%%,\u001b[0m  \u001b[91m())))))\u001b[0m                        \u001b[91m,)))))))),\u001b[0m        \n",
            "                        \u001b[94m#,\u001b[0m    \u001b[91m())))))))))\u001b[0m                \u001b[91m,)))))))))).\u001b[0m          \n",
            "                                 \u001b[91m()))))))))))))))))))))))))))))))/\u001b[0m             \n",
            "                                    \u001b[91m())))))))))))))))))))))))).\u001b[0m                \n",
            "                                         \u001b[91m())))))))))))))),\u001b[0m                     \n",
            "\n",
            "-=# \u001b[1;94m geomeTRIC started. Version: 1.1 \u001b[0m #=-\n",
            "Current date and time: 2025-04-03 11:36:42\n",
            "#========================================================#\n",
            "#| \u001b[92m    Arguments passed to driver run_optimizer():     \u001b[0m |#\n",
            "#========================================================#\n",
            "customengine              <pyscf.geomopt.geometric_solver.PySCFEngine object at 0x7a09fc0ea310> \n",
            "input                     /tmp/tmpq60_5z0w/294a2ff4-30c2-4a84-94a0-9c84fb8c85ab \n",
            "logIni                    /usr/local/lib/python3.11/dist-packages/pyscf/geomopt/log.ini \n",
            "----------------------------------------------------------\n",
            "Custom engine selected.\n",
            "Bonds will be generated from interatomic distances less than 1.20 times sum of covalent radii\n",
            "12 internal coordinates being used (instead of 12 Cartesians)\n",
            "Internal coordinate system (atoms numbered from 1):\n",
            "Distance 1-2\n",
            "Distance 2-3\n",
            "Distance 2-4\n",
            "Angle 1-2-4\n",
            "Angle 3-2-4\n",
            "Out-of-Plane 2-1-3-4\n",
            "Translation-X 1-4\n",
            "Translation-Y 1-4\n",
            "Translation-Z 1-4\n",
            "Rotation-A 1-4\n",
            "Rotation-B 1-4\n",
            "Rotation-C 1-4\n",
            "<class 'geometric.internal.Distance'> : 3\n",
            "<class 'geometric.internal.Angle'> : 2\n",
            "<class 'geometric.internal.OutOfPlane'> : 1\n",
            "<class 'geometric.internal.TranslationX'> : 1\n",
            "<class 'geometric.internal.TranslationY'> : 1\n",
            "<class 'geometric.internal.TranslationZ'> : 1\n",
            "<class 'geometric.internal.RotationA'> : 1\n",
            "<class 'geometric.internal.RotationB'> : 1\n",
            "<class 'geometric.internal.RotationC'> : 1\n",
            "> ===== Optimization Info: ====\n",
            "> Job type: Energy minimization\n",
            "> Maximum number of optimization cycles: 300\n",
            "> Initial / maximum trust radius (Angstrom): 0.100 / 0.300\n",
            "> Convergence Criteria:\n",
            "> Will converge when all 5 criteria are reached:\n",
            ">  |Delta-E| < 1.00e-06\n",
            ">  RMS-Grad  < 3.00e-04\n",
            ">  Max-Grad  < 4.50e-04\n",
            ">  RMS-Disp  < 1.20e-03\n",
            ">  Max-Disp  < 1.80e-03\n",
            "> === End Optimization Info ===\n"
          ]
        },
        {
          "output_type": "stream",
          "name": "stdout",
          "text": [
            "\n",
            "Geometry optimization cycle 1\n",
            "Cartesian coordinates (Angstrom)\n",
            " Atom        New coordinates             dX        dY        dZ\n",
            "   O   0.000000   0.000000   0.000000    0.000000  0.000000  0.000000\n",
            "   C   1.210000   0.000000   0.000000    0.000000  0.000000  0.000000\n",
            "   H   1.765000   0.000000   0.961288    0.000000  0.000000  0.000000\n",
            "   H   1.765000  -0.000000  -0.961288    0.000000  0.000000  0.000000\n",
            "converged SCF energy = -114.431947316809\n",
            "--------------- SymAdaptedRKS_Scanner gradients ---------------\n",
            "         x                y                z\n",
            "0 O    -0.0078283262     0.0000000000    -0.0000000000\n",
            "1 C     0.0245865668     0.0000000000     0.0000000000\n",
            "2 H    -0.0084767259    -0.0000000000    -0.0009920315\n",
            "3 H    -0.0084767259     0.0000000000     0.0009920315\n",
            "----------------------------------------------\n",
            "cycle 1: E = -114.431947317  dE = -114.432  norm(grad) = 0.0284861\n"
          ]
        },
        {
          "output_type": "stream",
          "name": "stderr",
          "text": [
            "Step    0 : Gradient = 1.424e-02/2.459e-02 (rms/max) Energy = -114.4319473168\n",
            "Hessian Eigenvalues: 4.50000e-02 5.00000e-02 5.00000e-02 ... 3.26000e-01 3.26000e-01 9.99547e-01\n"
          ]
        },
        {
          "output_type": "stream",
          "name": "stdout",
          "text": [
            "\n",
            "Geometry optimization cycle 2\n",
            "Cartesian coordinates (Angstrom)\n",
            " Atom        New coordinates             dX        dY        dZ\n",
            "   O  -0.017806  -0.000000  -0.020830   -0.017806 -0.000000 -0.020830\n",
            "   C   1.187588  -0.000000   0.013432   -0.022412 -0.000000  0.013432\n",
            "   H   1.804487  -0.000000   0.946109    0.039487 -0.000000 -0.015179\n",
            "   H   1.773996  -0.000000  -0.938711    0.008996 -0.000000  0.022578\n",
            "converged SCF energy = -114.432663597726\n",
            "--------------- SymAdaptedRKS_Scanner gradients ---------------\n",
            "         x                y                z\n",
            "0 O    -0.0065777350     0.0000000000    -0.0000000000\n",
            "1 C     0.0066590055     0.0000000000     0.0000000000\n",
            "2 H    -0.0000965621    -0.0000000000    -0.0020143815\n",
            "3 H    -0.0000965621     0.0000000000     0.0020143815\n",
            "----------------------------------------------\n",
            "cycle 2: E = -114.432663598  dE = -0.000716281  norm(grad) = 0.00978484\n"
          ]
        },
        {
          "output_type": "stream",
          "name": "stderr",
          "text": [
            "Step    1 : Displace = \u001b[0m3.081e-02\u001b[0m/\u001b[0m4.038e-02\u001b[0m (rms/max) Trust = 1.000e-01 (=) Grad = \u001b[0m4.892e-03\u001b[0m/\u001b[0m6.659e-03\u001b[0m (rms/max) E (change) = -114.4326635977 (\u001b[0m-7.163e-04\u001b[0m) Quality = \u001b[0m0.960\u001b[0m\n",
            "Hessian Eigenvalues: 4.50000e-02 4.99292e-02 5.00000e-02 ... 3.08223e-01 3.26001e-01 9.66421e-01\n"
          ]
        },
        {
          "output_type": "stream",
          "name": "stdout",
          "text": [
            "\n",
            "Geometry optimization cycle 3\n",
            "Cartesian coordinates (Angstrom)\n",
            " Atom        New coordinates             dX        dY        dZ\n",
            "   O  -0.012968   0.000000  -0.023232    0.004839  0.000000 -0.023232\n",
            "   C   1.188867  -0.000000   0.012673    0.001279 -0.000000  0.012673\n",
            "   H   1.800284   0.000000   0.952634    0.011043 -0.000000  0.010225\n",
            "   H   1.777011  -0.000000  -0.942075   -0.012230 -0.000000  0.000335\n",
            "converged SCF energy = -114.432707967058\n",
            "--------------- SymAdaptedRKS_Scanner gradients ---------------\n",
            "         x                y                z\n",
            "0 O    -0.0004743939     0.0000000000    -0.0000000000\n",
            "1 C     0.0003999682     0.0000000000     0.0000000000\n",
            "2 H    -0.0000252906    -0.0000000000    -0.0000916057\n",
            "3 H    -0.0000252906     0.0000000000     0.0000916057\n",
            "----------------------------------------------\n",
            "cycle 3: E = -114.432707967  dE = -4.43693e-05  norm(grad) = 0.000634891\n"
          ]
        },
        {
          "output_type": "stream",
          "name": "stderr",
          "text": [
            "Step    2 : Displace = \u001b[0m4.200e-03\u001b[0m/\u001b[0m5.357e-03\u001b[0m (rms/max) Trust = 1.414e-01 (\u001b[92m+\u001b[0m) Grad = \u001b[0m3.174e-04\u001b[0m/\u001b[0m4.744e-04\u001b[0m (rms/max) E (change) = -114.4327079671 (\u001b[0m-4.437e-05\u001b[0m) Quality = \u001b[0m1.088\u001b[0m\n",
            "Hessian Eigenvalues: 4.50000e-02 4.92335e-02 5.00000e-02 ... 3.04827e-01 3.26001e-01 9.27875e-01\n"
          ]
        },
        {
          "output_type": "stream",
          "name": "stdout",
          "text": [
            "\n",
            "Geometry optimization cycle 4\n",
            "Cartesian coordinates (Angstrom)\n",
            " Atom        New coordinates             dX        dY        dZ\n",
            "   O  -0.011291   0.000000  -0.023449    0.001676  0.000000 -0.023449\n",
            "   C   1.190267   0.000000   0.012648    0.001399  0.000000  0.012648\n",
            "   H   1.801357   0.000000   0.953015    0.012710  0.000000  0.005660\n",
            "   H   1.778540  -0.000000  -0.942214   -0.010107 -0.000000  0.005141\n",
            "converged SCF energy = -114.432708198566\n",
            "--------------- SymAdaptedRKS_Scanner gradients ---------------\n",
            "         x                y                z\n",
            "0 O     0.0000056912     0.0000000000     0.0000000000\n",
            "1 C    -0.0000717267     0.0000000000    -0.0000000000\n",
            "2 H    -0.0000298198     0.0000000000     0.0000053939\n",
            "3 H    -0.0000298198    -0.0000000000    -0.0000053939\n",
            "----------------------------------------------\n",
            "cycle 4: E = -114.432708199  dE = -2.31508e-07  norm(grad) = 8.3748e-05\n"
          ]
        },
        {
          "output_type": "stream",
          "name": "stderr",
          "text": [
            "Step    3 : Displace = \u001b[92m2.384e-04\u001b[0m/\u001b[92m2.867e-04\u001b[0m (rms/max) Trust = 2.000e-01 (\u001b[92m+\u001b[0m) Grad = \u001b[92m4.187e-05\u001b[0m/\u001b[92m7.173e-05\u001b[0m (rms/max) E (change) = -114.4327081986 (\u001b[92m-2.315e-07\u001b[0m) Quality = \u001b[0m0.702\u001b[0m\n",
            "Hessian Eigenvalues: 4.50000e-02 4.92335e-02 5.00000e-02 ... 3.04827e-01 3.26001e-01 9.27875e-01\n",
            "Converged! =D\n",
            "\n",
            "    #==========================================================================#\n",
            "    #| If this code has benefited your research, please support us by citing: |#\n",
            "    #|                                                                        |#\n",
            "    #| Wang, L.-P.; Song, C.C. (2016) \"Geometry optimization made simple with |#\n",
            "    #| translation and rotation coordinates\", J. Chem, Phys. 144, 214108.     |#\n",
            "    #| http://dx.doi.org/10.1063/1.4952956                                    |#\n",
            "    #==========================================================================#\n",
            "    Time elapsed since start of run_optimizer: 46.936 seconds\n"
          ]
        }
      ]
    },
    {
      "cell_type": "code",
      "source": [
        "hcoh.set(atom=hcoh_opt_geomtric.tostring())\n",
        "hcoh.build()\n",
        "hcoh_opt = dft.RKS(hcoh, xc=func).run()\n",
        "hess = hcoh_opt.Hessian().kernel()"
      ],
      "metadata": {
        "colab": {
          "base_uri": "https://localhost:8080/"
        },
        "id": "ywBONrpkRlPB",
        "outputId": "c34b9b35-2b4c-46de-fb11-63bb2d241259"
      },
      "execution_count": null,
      "outputs": [
        {
          "output_type": "stream",
          "name": "stdout",
          "text": [
            "converged SCF energy = -114.43270819715\n",
            "\n",
            "WARN: MGGA Hessian is sensitive to dft grids. grids.level 3 may not be dense enough.\n",
            "\n"
          ]
        }
      ]
    },
    {
      "cell_type": "code",
      "source": [
        "freq_info = thermo.harmonic_analysis(hcoh, hess)\n",
        "freq_info"
      ],
      "metadata": {
        "colab": {
          "base_uri": "https://localhost:8080/"
        },
        "id": "yyFeFTzT7ZI6",
        "outputId": "a3897fe0-2c68-4c81-f37b-965a790f68ab"
      },
      "execution_count": null,
      "outputs": [
        {
          "output_type": "execute_result",
          "data": {
            "text/plain": [
              "{'freq_error': 0,\n",
              " 'freq_au': array([0.2363558 , 0.24742194, 0.30095488, 0.36124192, 0.55374159,\n",
              "        0.56170794]),\n",
              " 'freq_wavenumber': array([1214.98392821, 1271.86929427, 1547.05468891, 1856.95943178,\n",
              "        2846.50151685, 2887.45242936]),\n",
              " 'norm_mode': array([[[ 8.50398445e-09, -3.73194999e-02, -2.01705433e-08],\n",
              "         [ 1.67961775e-09,  1.49314335e-01,  3.63733599e-08],\n",
              "         [ 8.96379739e-08, -5.93422521e-01, -9.96437148e-09],\n",
              "         [-2.44627196e-07, -5.93422521e-01, -1.03301408e-07]],\n",
              " \n",
              "        [[-3.20372057e-09,  1.08807458e-08, -6.91959039e-02],\n",
              "         [ 8.12869259e-09, -4.35335768e-08,  1.29054428e-01],\n",
              "         [ 5.57240758e-01,  1.73016240e-07, -2.19745687e-01],\n",
              "         [-5.57240804e-01,  1.73016240e-07, -2.19745847e-01]],\n",
              " \n",
              "        [[-7.39661542e-02, -4.95313574e-09, -5.38195920e-09],\n",
              "         [ 8.50045587e-04,  1.98173654e-08,  1.34729207e-08],\n",
              "         [ 5.81931877e-01, -7.87604951e-08, -3.37586930e-01],\n",
              "         [ 5.81931816e-01, -7.87604950e-08,  3.37586854e-01]],\n",
              " \n",
              "        [[-1.54036082e-01,  3.17863376e-10,  3.98244097e-09],\n",
              "         [ 2.16227400e-01, -1.27176282e-09, -8.38155384e-09],\n",
              "         [-6.58155174e-02,  5.05438885e-09,  1.57629205e-01],\n",
              "         [-6.58154605e-02,  5.05438878e-09, -1.57629168e-01]],\n",
              " \n",
              "        [[ 1.15349889e-03, -3.25035702e-11, -5.23882393e-09],\n",
              "         [ 5.65467411e-02,  1.30046006e-10,  2.54042389e-08],\n",
              "         [-3.46050481e-01, -5.16844156e-10, -5.97678849e-01],\n",
              "         [-3.46050448e-01, -5.16843969e-10,  5.97678630e-01]],\n",
              " \n",
              "        [[-9.43880208e-10,  4.92564086e-10,  3.01325273e-04],\n",
              "         [ 7.21059919e-09, -1.97073589e-09, -9.49576756e-02],\n",
              "         [ 3.53475602e-01,  7.83232941e-09,  5.63350948e-01],\n",
              "         [-3.53475673e-01,  7.83232935e-09,  5.63351174e-01]]]),\n",
              " 'reduced_mass': array([1.37364884, 1.35308092, 1.09806743, 7.76164418, 1.04477873,\n",
              "        1.11902393]),\n",
              " 'vib_temperature': array([1748.09136118, 1829.93673762, 2225.86725154, 2671.75117743,\n",
              "        4095.48192008, 4154.40116561]),\n",
              " 'force_const_au': array([0.05586406, 0.06121762, 0.09057384, 0.13049572, 0.30662975,\n",
              "        0.31551581]),\n",
              " 'force_const_dyne': array([ 1.19472245,  1.28961171,  1.54842644, 15.76916852,  4.98766637,\n",
              "         5.49691831])}"
            ]
          },
          "metadata": {},
          "execution_count": 7
        }
      ]
    },
    {
      "cell_type": "code",
      "source": [
        "thermo_info = thermo.thermo(hcoh_opt, freq_info['freq_au'], 298.15, 101325)\n",
        "thermo_info"
      ],
      "metadata": {
        "colab": {
          "base_uri": "https://localhost:8080/"
        },
        "id": "Z0Y9M-gS89aY",
        "outputId": "61da35a3-5c55-4596-eb60-101416b00963"
      },
      "execution_count": null,
      "outputs": [
        {
          "output_type": "execute_result",
          "data": {
            "text/plain": [
              "{'temperature': (298.15, 'K'),\n",
              " 'pressure': (101325, 'Pa'),\n",
              " 'E0': (np.float64(-114.43270819715036), 'Eh'),\n",
              " 'S_elec': (np.float64(0.0), 'Eh/K'),\n",
              " 'Cv_elec': (0, 'Eh/K'),\n",
              " 'Cp_elec': (0, 'Eh/K'),\n",
              " 'E_elec': (np.float64(-114.43270819715036), 'Eh'),\n",
              " 'H_elec': (np.float64(-114.43270819715036), 'Eh'),\n",
              " 'S_trans': (np.float64(5.757963266472306e-05), 'Eh/K'),\n",
              " 'Cv_trans': (4.750215777928532e-06, 'Eh/K'),\n",
              " 'Cp_trans': (7.917026296547553e-06, 'Eh/K'),\n",
              " 'E_trans': (0.0014162768341893916, 'Eh'),\n",
              " 'H_trans': (0.0023604613903156525, 'Eh'),\n",
              " 'rot_const': (array([279.16913518,  38.83026239,  34.08877769]), 'GHz'),\n",
              " 'sym_number': (2, ''),\n",
              " 'S_rot': (np.float64(2.5558337513568304e-05), 'Eh/K'),\n",
              " 'Cv_rot': (4.750215777928532e-06, 'Eh/K'),\n",
              " 'Cp_rot': (4.750215777928532e-06, 'Eh/K'),\n",
              " 'E_rot': (0.0014162768341893916, 'Eh'),\n",
              " 'H_rot': (0.0014162768341893916, 'Eh'),\n",
              " 'ZPE': (np.float64(0.02648329155468416), 'Eh'),\n",
              " 'S_vib': (np.float64(1.303570079552929e-07), 'Eh/K'),\n",
              " 'Cv_vib': (np.float64(7.049732721953563e-07), 'Eh/K'),\n",
              " 'Cp_vib': (np.float64(7.049732721953563e-07), 'Eh/K'),\n",
              " 'E_vib': (np.float64(0.02651676465726418), 'Eh'),\n",
              " 'H_vib': (np.float64(0.02651676465726418), 'Eh'),\n",
              " 'G_elec': (np.float64(-114.43270819715036), 'Eh'),\n",
              " 'G_trans': (np.float64(-0.014806906088671527), 'Eh'),\n",
              " 'G_rot': (np.float64(-0.0062039414954809975), 'Eh'),\n",
              " 'G_vib': (np.float64(0.02647789871534231), 'Eh'),\n",
              " 'S_tot': (np.float64(8.326832718624665e-05), 'Eh/K'),\n",
              " 'Cv_tot': (np.float64(1.020540482805242e-05), 'Eh/K'),\n",
              " 'Cp_tot': (np.float64(1.337221534667144e-05), 'Eh/K'),\n",
              " 'E_0K': (np.float64(-114.40622490559568), 'Eh'),\n",
              " 'E_tot': (np.float64(-114.40335887882472), 'Eh'),\n",
              " 'H_tot': (np.float64(-114.4024146942686), 'Eh'),\n",
              " 'G_tot': (np.float64(-114.42724114601917), 'Eh')}"
            ]
          },
          "metadata": {},
          "execution_count": 8
        }
      ]
    },
    {
      "cell_type": "code",
      "source": [
        "print(np.sum(freq_info['freq_wavenumber'])/2)\n",
        "print(thermo_info['ZPE'][0]*219474.63)"
      ],
      "metadata": {
        "colab": {
          "base_uri": "https://localhost:8080/"
        },
        "id": "NWHdjGtNuRpZ",
        "outputId": "0289eeb9-ec70-47e9-fbc6-f6f7b826b666"
      },
      "execution_count": null,
      "outputs": [
        {
          "output_type": "stream",
          "name": "stdout",
          "text": [
            "5812.410644690801\n",
            "5812.41061514643\n"
          ]
        }
      ]
    },
    {
      "cell_type": "code",
      "source": [
        "thermo_info['Cp_tot'][0]*2625.5*1e3"
      ],
      "metadata": {
        "colab": {
          "base_uri": "https://localhost:8080/"
        },
        "id": "nd8Js7Vc-OCl",
        "outputId": "8c8ec09a-4543-484e-c81d-2206c5c4b9f0"
      },
      "execution_count": null,
      "outputs": [
        {
          "output_type": "execute_result",
          "data": {
            "text/plain": [
              "np.float64(35.10875139268587)"
            ]
          },
          "metadata": {},
          "execution_count": 10
        }
      ]
    },
    {
      "cell_type": "code",
      "source": [
        "thermo_info['S_tot'][0]*2625.5*1e3"
      ],
      "metadata": {
        "colab": {
          "base_uri": "https://localhost:8080/"
        },
        "id": "BLzjEbllvb8i",
        "outputId": "37d02205-d4f4-4a09-bdf9-859578ea468d"
      },
      "execution_count": null,
      "outputs": [
        {
          "output_type": "execute_result",
          "data": {
            "text/plain": [
              "np.float64(218.62099302749058)"
            ]
          },
          "metadata": {},
          "execution_count": 11
        }
      ]
    },
    {
      "cell_type": "code",
      "source": [
        "thermo_info['rot_const'][0]/29.9792458"
      ],
      "metadata": {
        "colab": {
          "base_uri": "https://localhost:8080/"
        },
        "id": "oFNs6ptXCw6M",
        "outputId": "dc5d66ce-78af-42e5-848e-af92fa8cc651"
      },
      "execution_count": null,
      "outputs": [
        {
          "output_type": "execute_result",
          "data": {
            "text/plain": [
              "array([9.31208   , 1.29523813, 1.13707923])"
            ]
          },
          "metadata": {},
          "execution_count": 12
        }
      ]
    },
    {
      "cell_type": "code",
      "source": [
        "o2 = gto.Mole(atom='O; O 1 1.2', unit='Angstrom', basis='ccpvtz', charge=0, spin=2, symmetry=True)\n",
        "o2.build()\n",
        "func = 'MN15_L'\n",
        "o2_calc = dft.UKS(o2, xc=func).run()\n",
        "o2_opt_geomtric = o2_calc.Gradients().optimizer(solver='geomeTRIC').kernel()\n",
        "o2.set(atom=o2_opt_geomtric.tostring())\n",
        "o2.build()\n",
        "o2_opt = dft.UKS(o2, xc=func).run()\n",
        "o2_hess = o2_opt.Hessian().kernel()\n",
        "freq_info_o2 = thermo.harmonic_analysis(o2, o2_hess)\n",
        "thermo_info_o2 = thermo.thermo(o2_opt, freq_info_o2['freq_au'], 298.15, 101325)\n",
        "thermo_info_o2"
      ],
      "metadata": {
        "colab": {
          "base_uri": "https://localhost:8080/"
        },
        "id": "sJMFmVXeMVkK",
        "outputId": "5d36f4fd-bcb3-41f8-8c0b-0f987a280773"
      },
      "execution_count": null,
      "outputs": [
        {
          "output_type": "stream",
          "name": "stdout",
          "text": [
            "converged SCF energy = -150.231026502764  <S^2> = 2.0096426  2S+1 = 3.0064215\n"
          ]
        },
        {
          "output_type": "stream",
          "name": "stderr",
          "text": [
            "geometric-optimize called with the following command line:\n",
            "/usr/local/lib/python3.11/dist-packages/colab_kernel_launcher.py -f /root/.local/share/jupyter/runtime/kernel-59355ebc-8522-4da2-abea-79e43ea019c1.json\n",
            "\n",
            "                                        \u001b[91m())))))))))))))))/\u001b[0m                     \n",
            "                                    \u001b[91m())))))))))))))))))))))))),\u001b[0m                \n",
            "                                \u001b[91m*)))))))))))))))))))))))))))))))))\u001b[0m             \n",
            "                        \u001b[94m#,\u001b[0m    \u001b[91m()))))))))/\u001b[0m                \u001b[91m.)))))))))),\u001b[0m          \n",
            "                      \u001b[94m#%%%%,\u001b[0m  \u001b[91m())))))\u001b[0m                        \u001b[91m.))))))))*\u001b[0m        \n",
            "                      \u001b[94m*%%%%%%,\u001b[0m  \u001b[91m))\u001b[0m              \u001b[93m..\u001b[0m              \u001b[91m,))))))).\u001b[0m      \n",
            "                        \u001b[94m*%%%%%%,\u001b[0m         \u001b[93m***************/.\u001b[0m        \u001b[91m.)))))))\u001b[0m     \n",
            "                \u001b[94m#%%/\u001b[0m      \u001b[94m(%%%%%%,\u001b[0m    \u001b[93m/*********************.\u001b[0m       \u001b[91m)))))))\u001b[0m    \n",
            "              \u001b[94m.%%%%%%#\u001b[0m      \u001b[94m*%%%%%%,\u001b[0m  \u001b[93m*******/,\u001b[0m     \u001b[93m**********,\u001b[0m      \u001b[91m.))))))\u001b[0m   \n",
            "                \u001b[94m.%%%%%%/\u001b[0m      \u001b[94m*%%%%%%,\u001b[0m  \u001b[93m**\u001b[0m              \u001b[93m********\u001b[0m      \u001b[91m.))))))\u001b[0m  \n",
            "          \u001b[94m##\u001b[0m      \u001b[94m.%%%%%%/\u001b[0m      \u001b[94m(%%%%%%,\u001b[0m                  \u001b[93m,******\u001b[0m      \u001b[91m/)))))\u001b[0m  \n",
            "        \u001b[94m%%%%%%\u001b[0m      \u001b[94m.%%%%%%#\u001b[0m      \u001b[94m*%%%%%%,\u001b[0m    \u001b[92m,/////.\u001b[0m       \u001b[93m******\u001b[0m      \u001b[91m))))))\u001b[0m \n",
            "      \u001b[94m#%\u001b[0m      \u001b[94m%%\u001b[0m      \u001b[94m.%%%%%%/\u001b[0m      \u001b[94m*%%%%%%,\u001b[0m  \u001b[92m////////,\u001b[0m      \u001b[93m*****/\u001b[0m     \u001b[91m,)))))\u001b[0m \n",
            "    \u001b[94m#%%\u001b[0m  \u001b[94m%%%\u001b[0m  \u001b[94m%%%#\u001b[0m      \u001b[94m.%%%%%%/\u001b[0m      \u001b[94m(%%%%%%,\u001b[0m  \u001b[92m///////.\u001b[0m     \u001b[93m/*****\u001b[0m      \u001b[91m))))).\u001b[0m\n",
            "  \u001b[94m#%%%%.\u001b[0m      \u001b[94m%%%%%#\u001b[0m      \u001b[94m/%%%%%%*\u001b[0m      \u001b[94m#%%%%%%\u001b[0m   \u001b[92m/////)\u001b[0m     \u001b[93m******\u001b[0m      \u001b[91m))))),\u001b[0m\n",
            "    \u001b[94m#%%%%##%\u001b[0m  \u001b[94m%%%#\u001b[0m      \u001b[94m.%%%%%%/\u001b[0m      \u001b[94m(%%%%%%,\u001b[0m  \u001b[92m///////.\u001b[0m     \u001b[93m/*****\u001b[0m      \u001b[91m))))).\u001b[0m\n",
            "      \u001b[94m##\u001b[0m     \u001b[94m%%%\u001b[0m      \u001b[94m.%%%%%%/\u001b[0m      \u001b[94m*%%%%%%,\u001b[0m  \u001b[92m////////.\u001b[0m      \u001b[93m*****/\u001b[0m     \u001b[91m,)))))\u001b[0m \n",
            "        \u001b[94m#%%%%#\u001b[0m      \u001b[94m/%%%%%%/\u001b[0m      \u001b[94m(%%%%%%\u001b[0m      \u001b[92m/)/)//\u001b[0m       \u001b[93m******\u001b[0m      \u001b[91m))))))\u001b[0m \n",
            "          \u001b[94m##\u001b[0m      \u001b[94m.%%%%%%/\u001b[0m      \u001b[94m(%%%%%%,\u001b[0m                  \u001b[93m*******\u001b[0m      \u001b[91m))))))\u001b[0m  \n",
            "                \u001b[94m.%%%%%%/\u001b[0m      \u001b[94m*%%%%%%,\u001b[0m  \u001b[93m**.\u001b[0m             \u001b[93m/*******\u001b[0m      \u001b[91m.))))))\u001b[0m  \n",
            "              \u001b[94m*%%%%%%/\u001b[0m      \u001b[94m(%%%%%%\u001b[0m   \u001b[93m********/*..,*/*********\u001b[0m       \u001b[91m*))))))\u001b[0m   \n",
            "                \u001b[94m#%%/\u001b[0m      \u001b[94m(%%%%%%,\u001b[0m    \u001b[93m*********************/\u001b[0m        \u001b[91m)))))))\u001b[0m    \n",
            "                        \u001b[94m*%%%%%%,\u001b[0m         \u001b[93m,**************/\u001b[0m         \u001b[91m,))))))/\u001b[0m     \n",
            "                      \u001b[94m(%%%%%%\u001b[0m   \u001b[91m()\u001b[0m                              \u001b[91m))))))))\u001b[0m       \n",
            "                      \u001b[94m#%%%%,\u001b[0m  \u001b[91m())))))\u001b[0m                        \u001b[91m,)))))))),\u001b[0m        \n",
            "                        \u001b[94m#,\u001b[0m    \u001b[91m())))))))))\u001b[0m                \u001b[91m,)))))))))).\u001b[0m          \n",
            "                                 \u001b[91m()))))))))))))))))))))))))))))))/\u001b[0m             \n",
            "                                    \u001b[91m())))))))))))))))))))))))).\u001b[0m                \n",
            "                                         \u001b[91m())))))))))))))),\u001b[0m                     \n",
            "\n",
            "-=# \u001b[1;94m geomeTRIC started. Version: 1.1 \u001b[0m #=-\n",
            "Current date and time: 2025-04-03 11:39:11\n",
            "#========================================================#\n",
            "#| \u001b[92m    Arguments passed to driver run_optimizer():     \u001b[0m |#\n",
            "#========================================================#\n",
            "customengine              <pyscf.geomopt.geometric_solver.PySCFEngine object at 0x7a09e7f51410> \n",
            "input                     /tmp/tmp57k9lj1_/bb9432b3-c1f0-48ec-b611-46e610514f9f \n",
            "logIni                    /usr/local/lib/python3.11/dist-packages/pyscf/geomopt/log.ini \n",
            "----------------------------------------------------------\n",
            "Custom engine selected.\n",
            "Bonds will be generated from interatomic distances less than 1.20 times sum of covalent radii\n",
            "6 internal coordinates being used (instead of 6 Cartesians)\n",
            "Internal coordinate system (atoms numbered from 1):\n",
            "Distance 1-2\n",
            "Translation-X 1-2\n",
            "Translation-Y 1-2\n",
            "Translation-Z 1-2\n",
            "Rotation-A 1-2\n",
            "Rotation-B 1-2\n",
            "Rotation-C 1-2\n",
            "<class 'geometric.internal.Distance'> : 1\n",
            "<class 'geometric.internal.TranslationX'> : 1\n",
            "<class 'geometric.internal.TranslationY'> : 1\n",
            "<class 'geometric.internal.TranslationZ'> : 1\n",
            "<class 'geometric.internal.RotationA'> : 1\n",
            "<class 'geometric.internal.RotationB'> : 1\n",
            "<class 'geometric.internal.RotationC'> : 1\n",
            "> ===== Optimization Info: ====\n",
            "> Job type: Energy minimization\n",
            "> Maximum number of optimization cycles: 300\n",
            "> Initial / maximum trust radius (Angstrom): 0.100 / 0.300\n",
            "> Convergence Criteria:\n",
            "> Will converge when all 5 criteria are reached:\n",
            ">  |Delta-E| < 1.00e-06\n",
            ">  RMS-Grad  < 3.00e-04\n",
            ">  Max-Grad  < 4.50e-04\n",
            ">  RMS-Disp  < 1.20e-03\n",
            ">  Max-Disp  < 1.80e-03\n",
            "> === End Optimization Info ===\n"
          ]
        },
        {
          "output_type": "stream",
          "name": "stdout",
          "text": [
            "\n",
            "Geometry optimization cycle 1\n",
            "Cartesian coordinates (Angstrom)\n",
            " Atom        New coordinates             dX        dY        dZ\n",
            "   O   0.000000   0.000000   0.000000    0.000000  0.000000  0.000000\n",
            "   O   1.200000   0.000000   0.000000    0.000000  0.000000  0.000000\n",
            "converged SCF energy = -150.231026502765  <S^2> = 2.0096426  2S+1 = 3.0064215\n",
            "--------------- SymAdaptedUKS_Scanner gradients ---------------\n",
            "         x                y                z\n",
            "0 O     0.0107409464     0.0000000000     0.0000000000\n",
            "1 O    -0.0107409464     0.0000000000    -0.0000000000\n",
            "----------------------------------------------\n",
            "cycle 1: E = -150.231026503  dE = -150.231  norm(grad) = 0.01519\n"
          ]
        },
        {
          "output_type": "stream",
          "name": "stderr",
          "text": [
            "Step    0 : Gradient = 1.074e-02/1.074e-02 (rms/max) Energy = -150.2310265028\n",
            "Hessian Eigenvalues: 5.00000e-02 5.00000e-02 5.00000e-02 ... 5.00000e-02 5.00000e-02 1.04823e+00\n"
          ]
        },
        {
          "output_type": "stream",
          "name": "stdout",
          "text": [
            "\n",
            "Geometry optimization cycle 2\n",
            "Cartesian coordinates (Angstrom)\n",
            " Atom        New coordinates             dX        dY        dZ\n",
            "   O  -0.002711   0.000000  -0.000000    0.597289  0.000000  0.000000\n",
            "   O   1.202711   0.000000   0.000000    0.602711  0.000000 -0.000000\n",
            "converged SCF energy = -150.23108950766  <S^2> = 2.0096961  2S+1 = 3.0064571\n",
            "--------------- SymAdaptedUKS_Scanner gradients ---------------\n",
            "         x                y                z\n",
            "0 O     0.0017081812     0.0000000000     0.0000000000\n",
            "1 O    -0.0017081812     0.0000000000    -0.0000000000\n",
            "----------------------------------------------\n",
            "cycle 2: E = -150.231089508  dE = -6.30049e-05  norm(grad) = 0.00241573\n"
          ]
        },
        {
          "output_type": "stream",
          "name": "stderr",
          "text": [
            "Step    1 : Displace = \u001b[0m2.711e-03\u001b[0m/\u001b[0m2.711e-03\u001b[0m (rms/max) Trust = 1.000e-01 (=) Grad = \u001b[0m1.708e-03\u001b[0m/\u001b[0m1.708e-03\u001b[0m (rms/max) E (change) = -150.2310895077 (\u001b[0m-6.300e-05\u001b[0m) Quality = \u001b[0m1.145\u001b[0m\n",
            "Hessian Eigenvalues: 5.00000e-02 5.00000e-02 5.00000e-02 ... 5.00000e-02 5.00000e-02 8.81526e-01\n"
          ]
        },
        {
          "output_type": "stream",
          "name": "stdout",
          "text": [
            "\n",
            "Geometry optimization cycle 3\n",
            "Cartesian coordinates (Angstrom)\n",
            " Atom        New coordinates             dX        dY        dZ\n",
            "   O  -0.003224  -0.000000  -0.000000    0.599487 -0.000000  0.000000\n",
            "   O   1.203224   0.000000   0.000000    0.600513  0.000000 -0.000000\n",
            "converged SCF energy = -150.231091103028  <S^2> = 2.0097061  2S+1 = 3.0064638\n",
            "--------------- SymAdaptedUKS_Scanner gradients ---------------\n",
            "         x                y                z\n",
            "0 O     0.0000377138     0.0000000000     0.0000000000\n",
            "1 O    -0.0000377138     0.0000000000    -0.0000000000\n",
            "----------------------------------------------\n",
            "cycle 3: E = -150.231091103  dE = -1.59537e-06  norm(grad) = 5.33354e-05\n"
          ]
        },
        {
          "output_type": "stream",
          "name": "stderr",
          "text": [
            "Step    2 : Displace = \u001b[92m5.127e-04\u001b[0m/\u001b[92m5.127e-04\u001b[0m (rms/max) Trust = 1.414e-01 (\u001b[92m+\u001b[0m) Grad = \u001b[92m3.771e-05\u001b[0m/\u001b[92m3.771e-05\u001b[0m (rms/max) E (change) = -150.2310911030 (\u001b[0m-1.595e-06\u001b[0m) Quality = \u001b[0m0.964\u001b[0m\n",
            "Hessian Eigenvalues: 5.00000e-02 5.00000e-02 5.00000e-02 ... 5.00000e-02 5.00000e-02 8.62063e-01\n"
          ]
        },
        {
          "output_type": "stream",
          "name": "stdout",
          "text": [
            "\n",
            "Geometry optimization cycle 4\n",
            "Cartesian coordinates (Angstrom)\n",
            " Atom        New coordinates             dX        dY        dZ\n",
            "   O  -0.003235  -0.000000  -0.000000    0.599988 -0.000000  0.000000\n",
            "   O   1.203235   0.000000   0.000000    0.600012  0.000000 -0.000000\n",
            "converged SCF energy = -150.23109110171  <S^2> = 2.0097063  2S+1 = 3.0064639\n",
            "--------------- SymAdaptedUKS_Scanner gradients ---------------\n",
            "         x                y                z\n",
            "0 O     0.0000017712     0.0000000000     0.0000000000\n",
            "1 O    -0.0000017712     0.0000000000    -0.0000000000\n",
            "----------------------------------------------\n",
            "cycle 4: E = -150.231091102  dE = 1.31755e-09  norm(grad) = 2.50481e-06\n"
          ]
        },
        {
          "output_type": "stream",
          "name": "stderr",
          "text": [
            "Step    3 : Displace = \u001b[92m1.158e-05\u001b[0m/\u001b[92m1.158e-05\u001b[0m (rms/max) Trust = 2.000e-01 (\u001b[92m+\u001b[0m) Grad = \u001b[92m1.771e-06\u001b[0m/\u001b[92m1.771e-06\u001b[0m (rms/max) E (change) = -150.2310911017 (\u001b[92m+1.318e-09\u001b[0m) Quality = \u001b[91m-1.597\u001b[0m\n",
            "Hessian Eigenvalues: 5.00000e-02 5.00000e-02 5.00000e-02 ... 5.00000e-02 5.00000e-02 8.62063e-01\n",
            "Converged! =D\n",
            "\n",
            "    #==========================================================================#\n",
            "    #| If this code has benefited your research, please support us by citing: |#\n",
            "    #|                                                                        |#\n",
            "    #| Wang, L.-P.; Song, C.C. (2016) \"Geometry optimization made simple with |#\n",
            "    #| translation and rotation coordinates\", J. Chem, Phys. 144, 214108.     |#\n",
            "    #| http://dx.doi.org/10.1063/1.4952956                                    |#\n",
            "    #==========================================================================#\n",
            "    Time elapsed since start of run_optimizer: 14.546 seconds\n"
          ]
        },
        {
          "output_type": "stream",
          "name": "stdout",
          "text": [
            "converged SCF energy = -150.231091100751  <S^2> = 2.0097064  2S+1 = 3.006464\n",
            "\n",
            "WARN: MGGA Hessian is sensitive to dft grids. grids.level 3 may not be dense enough.\n",
            "\n"
          ]
        },
        {
          "output_type": "execute_result",
          "data": {
            "text/plain": [
              "{'temperature': (298.15, 'K'),\n",
              " 'pressure': (101325, 'Pa'),\n",
              " 'E0': (np.float64(-150.23109110075086), 'Eh'),\n",
              " 'S_elec': (np.float64(3.4790969516382867e-06), 'Eh/K'),\n",
              " 'Cv_elec': (0, 'Eh/K'),\n",
              " 'Cp_elec': (0, 'Eh/K'),\n",
              " 'E_elec': (np.float64(-150.23109110075086), 'Eh'),\n",
              " 'H_elec': (np.float64(-150.23109110075086), 'Eh'),\n",
              " 'S_trans': (np.float64(5.78817925976163e-05), 'Eh/K'),\n",
              " 'Cv_trans': (4.750215777928532e-06, 'Eh/K'),\n",
              " 'Cp_trans': (7.917026296547553e-06, 'Eh/K'),\n",
              " 'E_trans': (0.0014162768341893916, 'Eh'),\n",
              " 'H_trans': (0.0023604613903156525, 'Eh'),\n",
              " 'rot_const': (array([        inf, 43.40243572, 43.40243572]), 'GHz'),\n",
              " 'sym_number': (2, ''),\n",
              " 'S_rot': (np.float64(1.669113597438041e-05), 'Eh/K'),\n",
              " 'Cv_rot': (3.166810518619021e-06, 'Eh/K'),\n",
              " 'Cp_rot': (3.166810518619021e-06, 'Eh/K'),\n",
              " 'E_rot': (0.0009441845561262611, 'Eh'),\n",
              " 'H_rot': (0.0009441845561262611, 'Eh'),\n",
              " 'ZPE': (np.float64(0.0038093565737536625), 'Eh'),\n",
              " 'S_vib': (np.float64(8.993977457331009e-09), 'Eh/K'),\n",
              " 'Cv_vib': (np.float64(6.459231832234821e-08), 'Eh/K'),\n",
              " 'Cp_vib': (np.float64(6.459231832234821e-08), 'Eh/K'),\n",
              " 'E_vib': (np.float64(0.00381174248877638), 'Eh'),\n",
              " 'H_vib': (np.float64(0.00381174248877638), 'Eh'),\n",
              " 'G_elec': (np.float64(-150.232128393507), 'Eh'),\n",
              " 'G_trans': (np.float64(-0.014896995072663646), 'Eh'),\n",
              " 'G_rot': (np.float64(-0.0040322776346352575), 'Eh'),\n",
              " 'G_vib': (np.float64(0.003809060934397477), 'Eh'),\n",
              " 'S_tot': (np.float64(7.806101950109232e-05), 'Eh/K'),\n",
              " 'Cv_tot': (np.float64(7.981618614869901e-06), 'Eh/K'),\n",
              " 'Cp_tot': (np.float64(1.1148429133488922e-05), 'Eh/K'),\n",
              " 'E_0K': (np.float64(-150.2272817441771), 'Eh'),\n",
              " 'E_tot': (np.float64(-150.22491889687177), 'Eh'),\n",
              " 'H_tot': (np.float64(-150.22397471231565), 'Eh'),\n",
              " 'G_tot': (np.float64(-150.24724860527988), 'Eh')}"
            ]
          },
          "metadata": {},
          "execution_count": 13
        }
      ]
    },
    {
      "cell_type": "code",
      "source": [
        "sacasscf = mcscf.CASSCF(scf.ROHF(o2).run(), 6, 8).state_average_([0.25, 0.25, 0.25, 0.25]).run()"
      ],
      "metadata": {
        "colab": {
          "base_uri": "https://localhost:8080/"
        },
        "id": "rBWF9bjtOJCj",
        "outputId": "a9de2df7-a66d-40f7-bc98-c84f53338ce1"
      },
      "execution_count": null,
      "outputs": [
        {
          "output_type": "stream",
          "name": "stdout",
          "text": [
            "converged SCF energy = -149.653987187931\n",
            "\n",
            "WARN: QR decomposition removed 2 vectors.\n",
            "\n",
            "CASSCF energy = -149.095442733767\n",
            "CASCI E = -149.095442733767  E(CI) = -20.2253307520337  S^2 = 3.0000000\n",
            "CASCI state-averaged energy = -149.095442733767\n",
            "CASCI energy for each state\n",
            "  State 0 weight 0.25  E = -149.727752251401 S^2 = 2.0000000\n",
            "  State 1 weight 0.25  E = -149.120962743299 S^2 = 2.0000000\n",
            "  State 2 weight 0.25  E = -148.893357666861 S^2 = 2.0000000\n",
            "  State 3 weight 0.25  E = -148.639698273507 S^2 = 6.0000000\n"
          ]
        }
      ]
    },
    {
      "cell_type": "code",
      "source": [
        "hcoh_exc = hcoh_opt.TDDFT().run()\n",
        "hcoh_exc.analyze(verbose=4)"
      ],
      "metadata": {
        "colab": {
          "base_uri": "https://localhost:8080/"
        },
        "id": "OlB7GT8LYFNU",
        "outputId": "8822e930-b77f-48ce-9314-869a5b7af4c7"
      },
      "execution_count": null,
      "outputs": [
        {
          "output_type": "stream",
          "name": "stdout",
          "text": [
            "Excited State energies (eV)\n",
            "[4.8001972  7.83624284 9.52075499]\n",
            "\n",
            "** Singlet excitation energies and oscillator strengths **\n",
            "Excited State   1:   A2      4.80020 eV    258.29 nm  f=0.0000\n",
            "       8 -> 9        -0.70702\n",
            "Excited State   2:   B2      7.83624 eV    158.22 nm  f=0.1391\n",
            "       8 -> 10       -0.70536\n",
            "Excited State   3:   A1      9.52075 eV    130.23 nm  f=0.0164\n",
            "       7 -> 9        -0.37646\n",
            "       8 -> 11       -0.59362\n",
            "\n",
            "** Transition electric dipole moments (AU) **\n",
            "state          X           Y           Z        Dip. S.      Osc.\n",
            "  1         0.0000      0.0000     -0.0000      0.0000      0.0000\n",
            "  2        -0.0000     -0.0000     -0.8513      0.7248      0.1391\n",
            "  3         0.2650      0.0000      0.0000      0.0702      0.0164\n",
            "\n",
            "** Transition velocity dipole moments (imaginary part, AU) **\n",
            "state          X           Y           Z        Dip. S.      Osc.\n",
            "  1         0.0000      0.0000     -0.0000      0.0000      0.0000\n",
            "  2        -0.0000     -0.0000     -0.2091      0.0437      0.1013\n",
            "  3         0.0962      0.0000      0.0000      0.0092      0.0176\n",
            "\n",
            "** Transition magnetic dipole moments (imaginary part, AU) **\n",
            "state          X           Y           Z\n",
            "  1         1.1947     -0.0000      0.0000\n",
            "  2         0.0000     -0.6700      0.0000\n",
            "  3         0.0000      0.0000     -0.0000\n"
          ]
        },
        {
          "output_type": "execute_result",
          "data": {
            "text/plain": [
              "<pyscf.tdscf.rks.CasidaTDDFT at 0x7a09b19f2fd0>"
            ]
          },
          "metadata": {},
          "execution_count": 15
        }
      ]
    },
    {
      "cell_type": "code",
      "source": [
        "hcoh_ccsd = cc.CCSD(scf.RHF(hcoh).run()).run(verbose=4)"
      ],
      "metadata": {
        "colab": {
          "base_uri": "https://localhost:8080/"
        },
        "id": "LV6vRUBsaKJy",
        "outputId": "7cafef54-8c13-4a37-a0a8-b456f4b40bf7"
      },
      "execution_count": null,
      "outputs": [
        {
          "output_type": "stream",
          "name": "stdout",
          "text": [
            "converged SCF energy = -113.911044824607\n",
            "\n",
            "******** <class 'pyscf.cc.ccsd.CCSD'> ********\n",
            "CC2 = 0\n",
            "CCSD nocc = 8, nmo = 88\n",
            "max_cycle = 50\n",
            "direct = 0\n",
            "conv_tol = 1e-07\n",
            "conv_tol_normt = 1e-05\n",
            "diis_space = 6\n",
            "diis_start_cycle = 0\n",
            "diis_start_energy_diff = 1e+09\n",
            "max_memory 4000 MB (current use 464 MB)\n",
            "Init t2, MP2 energy = -114.33450938835  E_corr(MP2) -0.423464563742482\n",
            "Init E_corr(CCSD) = -0.423464563742669\n",
            "cycle = 1  E_corr(CCSD) = -0.419491486906907  dE = 0.00397307684  norm(t1,t2) = 0.0541326\n",
            "cycle = 2  E_corr(CCSD) = -0.432676569269572  dE = -0.0131850824  norm(t1,t2) = 0.0206545\n",
            "cycle = 3  E_corr(CCSD) = -0.432233237497841  dE = 0.000443331772  norm(t1,t2) = 0.0105472\n",
            "cycle = 4  E_corr(CCSD) = -0.433843502183764  dE = -0.00161026469  norm(t1,t2) = 0.00451046\n",
            "cycle = 5  E_corr(CCSD) = -0.434046517553031  dE = -0.000203015369  norm(t1,t2) = 0.00109102\n",
            "cycle = 6  E_corr(CCSD) = -0.4339159568113  dE = 0.000130560742  norm(t1,t2) = 0.000390268\n",
            "cycle = 7  E_corr(CCSD) = -0.433902089487796  dE = 1.38673235e-05  norm(t1,t2) = 9.99573e-05\n",
            "cycle = 8  E_corr(CCSD) = -0.433912073097347  dE = -9.98360955e-06  norm(t1,t2) = 4.67779e-05\n",
            "cycle = 9  E_corr(CCSD) = -0.433910297392802  dE = 1.77570455e-06  norm(t1,t2) = 1.71587e-05\n",
            "cycle = 10  E_corr(CCSD) = -0.433910350054982  dE = -5.26621797e-08  norm(t1,t2) = 4.34159e-06\n",
            "CCSD converged\n",
            "E(CCSD) = -114.3449551746623  E_corr = -0.4339103500549817\n"
          ]
        }
      ]
    },
    {
      "cell_type": "code",
      "source": [
        "hcoh_ccsd.eeccsd(nroots=3)"
      ],
      "metadata": {
        "colab": {
          "base_uri": "https://localhost:8080/"
        },
        "id": "fRjyQwsAbaZI",
        "outputId": "b52af333-ab96-4a86-b8a3-c72495ad6bc0"
      },
      "execution_count": null,
      "outputs": [
        {
          "output_type": "stream",
          "name": "stdout",
          "text": [
            "\n",
            "******** <class 'pyscf.cc.eom_rccsd.EOMEESinglet'> ********\n",
            "max_space = 20\n",
            "max_cycle = 50\n",
            "conv_tol = 1e-07\n",
            "partition = None\n",
            "max_memory 4000 MB (current use 640 MB)\n",
            "EOM-CCSD root 0 E = 0.1510436390838105  qpwt = 0.939041  conv = True\n",
            "\n",
            "******** <class 'pyscf.cc.eom_rccsd.EOMEETriplet'> ********\n",
            "max_space = 20\n",
            "max_cycle = 50\n",
            "conv_tol = 1e-07\n",
            "partition = None\n",
            "max_memory 4000 MB (current use 662 MB)\n",
            "EOM-CCSD root 0 E = 0.1340530793019163  qpwt = 0.945494  conv = True\n",
            "\n",
            "******** <class 'pyscf.cc.eom_rccsd.EOMEESpinFlip'> ********\n",
            "max_space = 20\n",
            "max_cycle = 50\n",
            "conv_tol = 1e-07\n",
            "partition = None\n",
            "max_memory 4000 MB (current use 626 MB)\n",
            "EOM-CCSD root 0 E = 0.1340530716519335  qpwt = 0.945494  conv = True\n"
          ]
        },
        {
          "output_type": "execute_result",
          "data": {
            "text/plain": [
              "(array([0.13405307, 0.13405307, 0.13405308, 0.15104364]),\n",
              " [None,\n",
              "  array([-5.60037429e-19,  1.01737652e-21, -1.66742320e-34, ...,\n",
              "          4.03936084e-05,  3.17216030e-04,  5.02234628e-05]),\n",
              "  array([ 5.58951057e-19, -1.05071673e-21,  1.41188843e-34, ...,\n",
              "          3.85420075e-21, -1.62400728e-20,  0.00000000e+00]),\n",
              "  array([-1.87583198e-19,  1.02494082e-21,  6.17399535e-34, ...,\n",
              "         -8.64028709e-21, -3.77122931e-20,  3.09489156e-21])])"
            ]
          },
          "metadata": {},
          "execution_count": 17
        }
      ]
    },
    {
      "cell_type": "code",
      "source": [
        "hcoh_ccsd.eomsf_ccsd(nroots=3)"
      ],
      "metadata": {
        "colab": {
          "base_uri": "https://localhost:8080/"
        },
        "id": "TzOFoEqzbnOb",
        "outputId": "1751414d-839f-4aed-94c1-926493134eee"
      },
      "execution_count": null,
      "outputs": [
        {
          "output_type": "stream",
          "name": "stdout",
          "text": [
            "\n",
            "******** <class 'pyscf.cc.eom_rccsd.EOMEESpinFlip'> ********\n",
            "max_space = 20\n",
            "max_cycle = 50\n",
            "conv_tol = 1e-07\n",
            "partition = None\n",
            "max_memory 4000 MB (current use 542 MB)\n",
            "EOM-CCSD root 0 E = 0.134053144380455  qpwt = 0.945494  conv = True\n",
            "EOM-CCSD root 1 E = 0.2237379660064363  qpwt = 0.968937  conv = True\n",
            "EOM-CCSD root 2 E = 0.2849564909512883  qpwt = 0.936906  conv = True\n"
          ]
        },
        {
          "output_type": "execute_result",
          "data": {
            "text/plain": [
              "(array([0.13405314, 0.22373797, 0.28495649]),\n",
              " [array([-4.83171466e-18,  1.09449327e-21, -8.10023166e-21, ...,\n",
              "          4.03904893e-05,  3.17203829e-04,  5.02195281e-05]),\n",
              "  array([ 6.06012674e-32,  4.50600541e-06,  2.36688793e-18, ...,\n",
              "         -2.31529283e-20,  2.69088143e-19,  3.85752722e-20]),\n",
              "  array([-2.72614977e-21,  2.83301667e-17,  2.96332504e-05, ...,\n",
              "          1.23451366e-19, -3.45801036e-20,  2.99969306e-19])])"
            ]
          },
          "metadata": {},
          "execution_count": 18
        }
      ]
    },
    {
      "cell_type": "code",
      "source": [
        "np.array([0.13413078, 0.22450117, 0.28763019])*27.2*8065.54"
      ],
      "metadata": {
        "colab": {
          "base_uri": "https://localhost:8080/"
        },
        "id": "uEca1NSlclM5",
        "outputId": "c75cb2e5-7b6f-4dc8-a0a0-aae10c3c5825"
      },
      "execution_count": null,
      "outputs": [
        {
          "output_type": "execute_result",
          "data": {
            "text/plain": [
              "array([29425.97105994, 49251.67013374, 63101.08423215])"
            ]
          },
          "metadata": {},
          "execution_count": 19
        }
      ]
    },
    {
      "cell_type": "code",
      "source": [
        "exc_grad = hcoh_exc.nuc_grad_method().as_scanner(state=1)\n",
        "hcoh_exc_opt = exc_grad.optimizer().kernel()"
      ],
      "metadata": {
        "colab": {
          "base_uri": "https://localhost:8080/"
        },
        "id": "g0ZoZM9Dd_V3",
        "outputId": "2dc38d6e-9d6b-4f26-ae47-9dbf47ec34ae"
      },
      "execution_count": null,
      "outputs": [
        {
          "output_type": "stream",
          "name": "stderr",
          "text": [
            "geometric-optimize called with the following command line:\n",
            "/usr/local/lib/python3.11/dist-packages/colab_kernel_launcher.py -f /root/.local/share/jupyter/runtime/kernel-59355ebc-8522-4da2-abea-79e43ea019c1.json\n",
            "\n",
            "                                        \u001b[91m())))))))))))))))/\u001b[0m                     \n",
            "                                    \u001b[91m())))))))))))))))))))))))),\u001b[0m                \n",
            "                                \u001b[91m*)))))))))))))))))))))))))))))))))\u001b[0m             \n",
            "                        \u001b[94m#,\u001b[0m    \u001b[91m()))))))))/\u001b[0m                \u001b[91m.)))))))))),\u001b[0m          \n",
            "                      \u001b[94m#%%%%,\u001b[0m  \u001b[91m())))))\u001b[0m                        \u001b[91m.))))))))*\u001b[0m        \n",
            "                      \u001b[94m*%%%%%%,\u001b[0m  \u001b[91m))\u001b[0m              \u001b[93m..\u001b[0m              \u001b[91m,))))))).\u001b[0m      \n",
            "                        \u001b[94m*%%%%%%,\u001b[0m         \u001b[93m***************/.\u001b[0m        \u001b[91m.)))))))\u001b[0m     \n",
            "                \u001b[94m#%%/\u001b[0m      \u001b[94m(%%%%%%,\u001b[0m    \u001b[93m/*********************.\u001b[0m       \u001b[91m)))))))\u001b[0m    \n",
            "              \u001b[94m.%%%%%%#\u001b[0m      \u001b[94m*%%%%%%,\u001b[0m  \u001b[93m*******/,\u001b[0m     \u001b[93m**********,\u001b[0m      \u001b[91m.))))))\u001b[0m   \n",
            "                \u001b[94m.%%%%%%/\u001b[0m      \u001b[94m*%%%%%%,\u001b[0m  \u001b[93m**\u001b[0m              \u001b[93m********\u001b[0m      \u001b[91m.))))))\u001b[0m  \n",
            "          \u001b[94m##\u001b[0m      \u001b[94m.%%%%%%/\u001b[0m      \u001b[94m(%%%%%%,\u001b[0m                  \u001b[93m,******\u001b[0m      \u001b[91m/)))))\u001b[0m  \n",
            "        \u001b[94m%%%%%%\u001b[0m      \u001b[94m.%%%%%%#\u001b[0m      \u001b[94m*%%%%%%,\u001b[0m    \u001b[92m,/////.\u001b[0m       \u001b[93m******\u001b[0m      \u001b[91m))))))\u001b[0m \n",
            "      \u001b[94m#%\u001b[0m      \u001b[94m%%\u001b[0m      \u001b[94m.%%%%%%/\u001b[0m      \u001b[94m*%%%%%%,\u001b[0m  \u001b[92m////////,\u001b[0m      \u001b[93m*****/\u001b[0m     \u001b[91m,)))))\u001b[0m \n",
            "    \u001b[94m#%%\u001b[0m  \u001b[94m%%%\u001b[0m  \u001b[94m%%%#\u001b[0m      \u001b[94m.%%%%%%/\u001b[0m      \u001b[94m(%%%%%%,\u001b[0m  \u001b[92m///////.\u001b[0m     \u001b[93m/*****\u001b[0m      \u001b[91m))))).\u001b[0m\n",
            "  \u001b[94m#%%%%.\u001b[0m      \u001b[94m%%%%%#\u001b[0m      \u001b[94m/%%%%%%*\u001b[0m      \u001b[94m#%%%%%%\u001b[0m   \u001b[92m/////)\u001b[0m     \u001b[93m******\u001b[0m      \u001b[91m))))),\u001b[0m\n",
            "    \u001b[94m#%%%%##%\u001b[0m  \u001b[94m%%%#\u001b[0m      \u001b[94m.%%%%%%/\u001b[0m      \u001b[94m(%%%%%%,\u001b[0m  \u001b[92m///////.\u001b[0m     \u001b[93m/*****\u001b[0m      \u001b[91m))))).\u001b[0m\n",
            "      \u001b[94m##\u001b[0m     \u001b[94m%%%\u001b[0m      \u001b[94m.%%%%%%/\u001b[0m      \u001b[94m*%%%%%%,\u001b[0m  \u001b[92m////////.\u001b[0m      \u001b[93m*****/\u001b[0m     \u001b[91m,)))))\u001b[0m \n",
            "        \u001b[94m#%%%%#\u001b[0m      \u001b[94m/%%%%%%/\u001b[0m      \u001b[94m(%%%%%%\u001b[0m      \u001b[92m/)/)//\u001b[0m       \u001b[93m******\u001b[0m      \u001b[91m))))))\u001b[0m \n",
            "          \u001b[94m##\u001b[0m      \u001b[94m.%%%%%%/\u001b[0m      \u001b[94m(%%%%%%,\u001b[0m                  \u001b[93m*******\u001b[0m      \u001b[91m))))))\u001b[0m  \n",
            "                \u001b[94m.%%%%%%/\u001b[0m      \u001b[94m*%%%%%%,\u001b[0m  \u001b[93m**.\u001b[0m             \u001b[93m/*******\u001b[0m      \u001b[91m.))))))\u001b[0m  \n",
            "              \u001b[94m*%%%%%%/\u001b[0m      \u001b[94m(%%%%%%\u001b[0m   \u001b[93m********/*..,*/*********\u001b[0m       \u001b[91m*))))))\u001b[0m   \n",
            "                \u001b[94m#%%/\u001b[0m      \u001b[94m(%%%%%%,\u001b[0m    \u001b[93m*********************/\u001b[0m        \u001b[91m)))))))\u001b[0m    \n",
            "                        \u001b[94m*%%%%%%,\u001b[0m         \u001b[93m,**************/\u001b[0m         \u001b[91m,))))))/\u001b[0m     \n",
            "                      \u001b[94m(%%%%%%\u001b[0m   \u001b[91m()\u001b[0m                              \u001b[91m))))))))\u001b[0m       \n",
            "                      \u001b[94m#%%%%,\u001b[0m  \u001b[91m())))))\u001b[0m                        \u001b[91m,)))))))),\u001b[0m        \n",
            "                        \u001b[94m#,\u001b[0m    \u001b[91m())))))))))\u001b[0m                \u001b[91m,)))))))))).\u001b[0m          \n",
            "                                 \u001b[91m()))))))))))))))))))))))))))))))/\u001b[0m             \n",
            "                                    \u001b[91m())))))))))))))))))))))))).\u001b[0m                \n",
            "                                         \u001b[91m())))))))))))))),\u001b[0m                     \n",
            "\n",
            "-=# \u001b[1;94m geomeTRIC started. Version: 1.1 \u001b[0m #=-\n",
            "Current date and time: 2025-04-03 11:42:30\n",
            "#========================================================#\n",
            "#| \u001b[92m    Arguments passed to driver run_optimizer():     \u001b[0m |#\n",
            "#========================================================#\n",
            "customengine              <pyscf.geomopt.geometric_solver.PySCFEngine object at 0x7a09c074bf50> \n",
            "input                     /tmp/tmp3d6fez68/8509d3ea-e8ac-44f1-99dc-8fe2a5b19e87 \n",
            "logIni                    /usr/local/lib/python3.11/dist-packages/pyscf/geomopt/log.ini \n",
            "----------------------------------------------------------\n",
            "Custom engine selected.\n",
            "Bonds will be generated from interatomic distances less than 1.20 times sum of covalent radii\n",
            "12 internal coordinates being used (instead of 12 Cartesians)\n",
            "Internal coordinate system (atoms numbered from 1):\n",
            "Distance 1-2\n",
            "Distance 2-3\n",
            "Distance 2-4\n",
            "Angle 1-2-4\n",
            "Angle 3-2-4\n",
            "Out-of-Plane 2-1-3-4\n",
            "Translation-X 1-4\n",
            "Translation-Y 1-4\n",
            "Translation-Z 1-4\n",
            "Rotation-A 1-4\n",
            "Rotation-B 1-4\n",
            "Rotation-C 1-4\n",
            "<class 'geometric.internal.Distance'> : 3\n",
            "<class 'geometric.internal.Angle'> : 2\n",
            "<class 'geometric.internal.OutOfPlane'> : 1\n",
            "<class 'geometric.internal.TranslationX'> : 1\n",
            "<class 'geometric.internal.TranslationY'> : 1\n",
            "<class 'geometric.internal.TranslationZ'> : 1\n",
            "<class 'geometric.internal.RotationA'> : 1\n",
            "<class 'geometric.internal.RotationB'> : 1\n",
            "<class 'geometric.internal.RotationC'> : 1\n",
            "> ===== Optimization Info: ====\n",
            "> Job type: Energy minimization\n",
            "> Maximum number of optimization cycles: 300\n",
            "> Initial / maximum trust radius (Angstrom): 0.100 / 0.300\n",
            "> Convergence Criteria:\n",
            "> Will converge when all 5 criteria are reached:\n",
            ">  |Delta-E| < 1.00e-06\n",
            ">  RMS-Grad  < 3.00e-04\n",
            ">  Max-Grad  < 4.50e-04\n",
            ">  RMS-Disp  < 1.20e-03\n",
            ">  Max-Disp  < 1.80e-03\n",
            "> === End Optimization Info ===\n"
          ]
        },
        {
          "output_type": "stream",
          "name": "stdout",
          "text": [
            "\n",
            "Geometry optimization cycle 1\n",
            "Cartesian coordinates (Angstrom)\n",
            " Atom        New coordinates             dX        dY        dZ\n",
            "   O  -0.011290   0.000000   0.000000    0.000000  0.000000  0.000000\n",
            "   C   1.190270   0.000000   0.000000    0.000000  0.000000  0.000000\n",
            "   H   1.789950   0.000000   0.947610    0.000000  0.000000  0.000000\n",
            "   H   1.789950   0.000000  -0.947610    0.000000  0.000000  0.000000\n",
            "converged SCF energy = -114.432708197143\n",
            "Excited State energies (eV)\n",
            "[4.80020123 7.83624907 9.52076073]\n",
            "\n",
            "WARN: TDRKS-MGGA Gradients may be inaccurate due to grids response\n",
            "\n",
            "\n",
            "WARN: TDRKS-MGGA Gradients may be inaccurate due to grids response\n",
            "\n",
            "--------- CasidaTDDFT_Scanner gradients for state 1 ----------\n",
            "         x                y                z\n",
            "0 O     0.1229473883     0.0000000000     0.0000000000\n",
            "1 C    -0.1310488072     0.0000000000    -0.0000000000\n",
            "2 H     0.0040185067     0.0000000000     0.0054942861\n",
            "3 H     0.0040185067    -0.0000000000    -0.0054942861\n",
            "----------------------------------------------\n",
            "cycle 1: E = -114.256304054  dE = -114.256  norm(grad) = 0.179951\n"
          ]
        },
        {
          "output_type": "stream",
          "name": "stderr",
          "text": [
            "Step    0 : Gradient = 8.998e-02/1.310e-01 (rms/max) Energy = -114.2563040541\n",
            "Hessian Eigenvalues: 4.50000e-02 5.00000e-02 5.00000e-02 ... 3.14203e-01 3.14203e-01 1.04043e+00\n"
          ]
        },
        {
          "output_type": "stream",
          "name": "stdout",
          "text": [
            "\n",
            "Geometry optimization cycle 2\n",
            "Cartesian coordinates (Angstrom)\n",
            " Atom        New coordinates             dX        dY        dZ\n",
            "   O  -0.052985  -0.000000   0.001489   -0.041695 -0.000000  0.001489\n",
            "   C   1.211114   0.000000  -0.000962    0.020844  0.000000 -0.000962\n",
            "   H   1.800628   0.000000   0.939516    0.010678  0.000000 -0.008094\n",
            "   H   1.802850   0.000000  -0.940043    0.012900  0.000000  0.007567\n",
            "converged SCF energy = -114.427129692774\n",
            "Excited State energies (eV)\n",
            "[4.40043073 7.89455935 9.05022603]\n",
            "\n",
            "WARN: TDRKS-MGGA Gradients may be inaccurate due to grids response\n",
            "\n",
            "\n",
            "WARN: TDRKS-MGGA Gradients may be inaccurate due to grids response\n",
            "\n",
            "--------- CasidaTDDFT_Scanner gradients for state 1 ----------\n",
            "         x                y                z\n",
            "0 O     0.0325834039     0.0000000000     0.0000000000\n",
            "1 C    -0.0441383955     0.0000000000    -0.0000000000\n",
            "2 H     0.0057566843     0.0000000000     0.0012129716\n",
            "3 H     0.0057566843    -0.0000000000    -0.0012129716\n",
            "----------------------------------------------\n",
            "cycle 2: E = -114.265416845  dE = -0.00911279  norm(grad) = 0.0554896\n"
          ]
        },
        {
          "output_type": "stream",
          "name": "stderr",
          "text": [
            "Step    1 : Displace = \u001b[0m2.538e-02\u001b[0m/\u001b[0m4.240e-02\u001b[0m (rms/max) Trust = 1.000e-01 (=) Grad = \u001b[0m2.774e-02\u001b[0m/\u001b[0m4.414e-02\u001b[0m (rms/max) E (change) = -114.2654168447 (\u001b[0m-9.113e-03\u001b[0m) Quality = \u001b[0m1.229\u001b[0m\n",
            "Hessian Eigenvalues: 4.50000e-02 4.99991e-02 5.00000e-02 ... 3.05352e-01 3.14203e-01 7.94247e-01\n"
          ]
        },
        {
          "output_type": "stream",
          "name": "stdout",
          "text": [
            "\n",
            "Geometry optimization cycle 3\n",
            "Cartesian coordinates (Angstrom)\n",
            " Atom        New coordinates             dX        dY        dZ\n",
            "   O  -0.051361  -0.000000   0.018218    0.001623 -0.000000  0.018218\n",
            "   C   1.239208  -0.000000  -0.012323    0.028095 -0.000000 -0.012323\n",
            "   H   1.771933  -0.000000   0.949768   -0.029806 -0.000000  0.009989\n",
            "   H   1.804430  -0.000000  -0.955663    0.002691 -0.000000 -0.015884\n",
            "converged SCF energy = -114.421989386253\n",
            "Excited State energies (eV)\n",
            "[4.21920317 7.90485679 8.7801078 ]\n",
            "\n",
            "WARN: TDRKS-MGGA Gradients may be inaccurate due to grids response\n",
            "\n",
            "\n",
            "WARN: TDRKS-MGGA Gradients may be inaccurate due to grids response\n",
            "\n",
            "--------- CasidaTDDFT_Scanner gradients for state 1 ----------\n",
            "         x                y                z\n",
            "0 O     0.0084935462     0.0000000000     0.0000000000\n",
            "1 C    -0.0101875402     0.0000000000    -0.0000000000\n",
            "2 H     0.0008315431    -0.0000000000    -0.0007449412\n",
            "3 H     0.0008315431     0.0000000000     0.0007449412\n",
            "----------------------------------------------\n",
            "cycle 3: E = -114.266936528  dE = -0.00151968  norm(grad) = 0.0133574\n"
          ]
        },
        {
          "output_type": "stream",
          "name": "stderr",
          "text": [
            "Step    2 : Displace = \u001b[0m2.434e-02\u001b[0m/\u001b[0m2.998e-02\u001b[0m (rms/max) Trust = 1.414e-01 (\u001b[92m+\u001b[0m) Grad = \u001b[0m6.679e-03\u001b[0m/\u001b[0m1.019e-02\u001b[0m (rms/max) E (change) = -114.2669365282 (\u001b[0m-1.520e-03\u001b[0m) Quality = \u001b[0m1.221\u001b[0m\n",
            "Hessian Eigenvalues: 4.50000e-02 4.99499e-02 5.00000e-02 ... 3.10851e-01 3.14206e-01 6.85754e-01\n"
          ]
        },
        {
          "output_type": "stream",
          "name": "stdout",
          "text": [
            "\n",
            "Geometry optimization cycle 4\n",
            "Cartesian coordinates (Angstrom)\n",
            " Atom        New coordinates             dX        dY        dZ\n",
            "   O  -0.051418  -0.000000   0.018701   -0.000057 -0.000000  0.018701\n",
            "   C   1.248093  -0.000000  -0.015067    0.008885 -0.000000 -0.015067\n",
            "   H   1.761191  -0.000000   0.956957   -0.026990 -0.000000  0.004241\n",
            "   H   1.808341  -0.000000  -0.960590    0.020159 -0.000000 -0.007875\n",
            "converged SCF energy = -114.419870771983\n",
            "Excited State energies (eV)\n",
            "[4.15863873 7.89206747 8.68129386]\n",
            "\n",
            "WARN: TDRKS-MGGA Gradients may be inaccurate due to grids response\n",
            "\n",
            "\n",
            "WARN: TDRKS-MGGA Gradients may be inaccurate due to grids response\n",
            "\n",
            "--------- CasidaTDDFT_Scanner gradients for state 1 ----------\n",
            "         x                y                z\n",
            "0 O     0.0008909164     0.0000000000     0.0000000000\n",
            "1 C    -0.0007634185     0.0000000000    -0.0000000000\n",
            "2 H    -0.0000698230    -0.0000000000    -0.0000980286\n",
            "3 H    -0.0000698230     0.0000000000     0.0000980286\n",
            "----------------------------------------------\n",
            "cycle 4: E = -114.267043616  dE = -0.000107088  norm(grad) = 0.00118554\n"
          ]
        },
        {
          "output_type": "stream",
          "name": "stderr",
          "text": [
            "Step    3 : Displace = \u001b[0m7.763e-03\u001b[0m/\u001b[0m9.399e-03\u001b[0m (rms/max) Trust = 2.000e-01 (\u001b[92m+\u001b[0m) Grad = \u001b[0m5.928e-04\u001b[0m/\u001b[0m8.909e-04\u001b[0m (rms/max) E (change) = -114.2670436161 (\u001b[0m-1.071e-04\u001b[0m) Quality = \u001b[0m1.071\u001b[0m\n",
            "Hessian Eigenvalues: 4.50000e-02 4.98645e-02 5.00000e-02 ... 3.11221e-01 3.14206e-01 6.37874e-01\n"
          ]
        },
        {
          "output_type": "stream",
          "name": "stdout",
          "text": [
            "\n",
            "Geometry optimization cycle 5\n",
            "Cartesian coordinates (Angstrom)\n",
            " Atom        New coordinates             dX        dY        dZ\n",
            "   O  -0.051741  -0.000000   0.018317   -0.000323 -0.000000  0.018317\n",
            "   C   1.248626  -0.000000  -0.015074    0.000533 -0.000000 -0.015074\n",
            "   H   1.761009  -0.000000   0.957466   -0.023758 -0.000000 -0.001307\n",
            "   H   1.808924  -0.000000  -0.960710    0.024158 -0.000000 -0.001937\n",
            "converged SCF energy = -114.419675985216\n",
            "Excited State energies (eV)\n",
            "[4.1533363  7.89087696 8.67133665]\n",
            "\n",
            "WARN: TDRKS-MGGA Gradients may be inaccurate due to grids response\n",
            "\n",
            "\n",
            "WARN: TDRKS-MGGA Gradients may be inaccurate due to grids response\n",
            "\n",
            "--------- CasidaTDDFT_Scanner gradients for state 1 ----------\n",
            "         x                y                z\n",
            "0 O     0.0000822797     0.0000000000     0.0000000000\n",
            "1 C    -0.0000514214     0.0000000000    -0.0000000000\n",
            "2 H    -0.0000211057     0.0000000000     0.0000092933\n",
            "3 H    -0.0000211057    -0.0000000000    -0.0000092933\n",
            "----------------------------------------------\n",
            "cycle 5: E = -114.26704369  dE = -7.39022e-08  norm(grad) = 0.000102361\n"
          ]
        },
        {
          "output_type": "stream",
          "name": "stderr",
          "text": [
            "Step    4 : Displace = \u001b[92m3.815e-04\u001b[0m/\u001b[92m4.721e-04\u001b[0m (rms/max) Trust = 2.828e-01 (\u001b[92m+\u001b[0m) Grad = \u001b[92m5.118e-05\u001b[0m/\u001b[92m8.228e-05\u001b[0m (rms/max) E (change) = -114.2670436900 (\u001b[92m-7.390e-08\u001b[0m) Quality = \u001b[0m0.100\u001b[0m\n",
            "Hessian Eigenvalues: 4.50000e-02 4.98645e-02 5.00000e-02 ... 3.11221e-01 3.14206e-01 6.37874e-01\n",
            "Converged! =D\n",
            "\n",
            "    #==========================================================================#\n",
            "    #| If this code has benefited your research, please support us by citing: |#\n",
            "    #|                                                                        |#\n",
            "    #| Wang, L.-P.; Song, C.C. (2016) \"Geometry optimization made simple with |#\n",
            "    #| translation and rotation coordinates\", J. Chem, Phys. 144, 214108.     |#\n",
            "    #| http://dx.doi.org/10.1063/1.4952956                                    |#\n",
            "    #==========================================================================#\n",
            "    Time elapsed since start of run_optimizer: 293.738 seconds\n"
          ]
        }
      ]
    },
    {
      "cell_type": "code",
      "source": [
        "hcoh.set(atom=hcoh_exc_opt.tostring())\n",
        "hcoh.build()\n",
        "hcoh_exc_ccsd = cc.CCSD(scf.RHF(hcoh).run()).run(verbose=4)\n",
        "hcoh_exc_ccsd.eomsf_ccsd(nroots=3)"
      ],
      "metadata": {
        "colab": {
          "base_uri": "https://localhost:8080/"
        },
        "id": "7yOrne4Fgrrg",
        "outputId": "668f9147-8dfe-44ff-efd3-615af1a4523c"
      },
      "execution_count": null,
      "outputs": [
        {
          "output_type": "stream",
          "name": "stdout",
          "text": [
            "converged SCF energy = -113.891065740103\n",
            "\n",
            "******** <class 'pyscf.cc.ccsd.CCSD'> ********\n",
            "CC2 = 0\n",
            "CCSD nocc = 8, nmo = 88\n",
            "max_cycle = 50\n",
            "direct = 0\n",
            "conv_tol = 1e-07\n",
            "conv_tol_normt = 1e-05\n",
            "diis_space = 6\n",
            "diis_start_cycle = 0\n",
            "diis_start_energy_diff = 1e+09\n",
            "max_memory 4000 MB (current use 674 MB)\n",
            "Init t2, MP2 energy = -114.324684793332  E_corr(MP2) -0.433619053229244\n",
            "Init E_corr(CCSD) = -0.433619053230222\n",
            "cycle = 1  E_corr(CCSD) = -0.424288309924656  dE = 0.00933074331  norm(t1,t2) = 0.0634887\n",
            "cycle = 2  E_corr(CCSD) = -0.440662456389775  dE = -0.0163741465  norm(t1,t2) = 0.0268697\n",
            "cycle = 3  E_corr(CCSD) = -0.439466904072813  dE = 0.00119555232  norm(t1,t2) = 0.0146787\n",
            "cycle = 4  E_corr(CCSD) = -0.44143840457107  dE = -0.0019715005  norm(t1,t2) = 0.00644902\n",
            "cycle = 5  E_corr(CCSD) = -0.441841744485599  dE = -0.000403339915  norm(t1,t2) = 0.00175899\n",
            "cycle = 6  E_corr(CCSD) = -0.441627433437629  dE = 0.000214311048  norm(t1,t2) = 0.000609552\n",
            "cycle = 7  E_corr(CCSD) = -0.441605230746064  dE = 2.22026916e-05  norm(t1,t2) = 0.000157194\n",
            "cycle = 8  E_corr(CCSD) = -0.441619131419657  dE = -1.39006736e-05  norm(t1,t2) = 7.90596e-05\n",
            "cycle = 9  E_corr(CCSD) = -0.44161629521447  dE = 2.83620519e-06  norm(t1,t2) = 2.97999e-05\n",
            "cycle = 10  E_corr(CCSD) = -0.441616194508563  dE = 1.00705907e-07  norm(t1,t2) = 6.62649e-06\n",
            "cycle = 11  E_corr(CCSD) = -0.441615788936503  dE = 4.0557206e-07  norm(t1,t2) = 2.735e-06\n",
            "cycle = 12  E_corr(CCSD) = -0.441615802778475  dE = -1.38419716e-08  norm(t1,t2) = 1.20753e-06\n",
            "CCSD converged\n",
            "E(CCSD) = -114.3326815428816  E_corr = -0.441615802778475\n",
            "\n",
            "******** <class 'pyscf.cc.eom_rccsd.EOMEESpinFlip'> ********\n",
            "max_space = 20\n",
            "max_cycle = 50\n",
            "conv_tol = 1e-07\n",
            "partition = None\n",
            "max_memory 4000 MB (current use 690 MB)\n",
            "EOM-CCSD root 0 E = 0.1100354319688071  qpwt = 0.93699  conv = True\n",
            "EOM-CCSD root 1 E = 0.1704826648476523  qpwt = 0.968838  conv = True\n",
            "EOM-CCSD root 2 E = 0.2714219112109266  qpwt = 0.942073  conv = True\n"
          ]
        },
        {
          "output_type": "execute_result",
          "data": {
            "text/plain": [
              "(array([0.11003543, 0.17048266, 0.27142191]),\n",
              " [array([ 8.78818503e-19, -2.00984732e-20, -1.13847950e-32, ...,\n",
              "          4.78395764e-06, -1.78322946e-04,  1.13094261e-04]),\n",
              "  array([ 2.54724819e-18,  1.66163507e-06, -1.09239209e-18, ...,\n",
              "          1.64635256e-19,  1.22611887e-19,  7.30270664e-19]),\n",
              "  array([-3.76379712e-04, -4.20365209e-21,  3.57433388e-20, ...,\n",
              "         -2.26589438e-19,  1.34951962e-18,  4.22255261e-19])])"
            ]
          },
          "metadata": {},
          "execution_count": 21
        }
      ]
    },
    {
      "cell_type": "code",
      "source": [
        "0.10857223*27.2*8066"
      ],
      "metadata": {
        "colab": {
          "base_uri": "https://localhost:8080/"
        },
        "id": "6jYVHDtHhipt",
        "outputId": "9b8f0d8f-75c1-4db6-eca5-a86d0e991983"
      },
      "execution_count": null,
      "outputs": [
        {
          "output_type": "execute_result",
          "data": {
            "text/plain": [
              "23820.226115296"
            ]
          },
          "metadata": {},
          "execution_count": 22
        }
      ]
    },
    {
      "cell_type": "markdown",
      "source": [
        "Д/з до 10.04.2025\n",
        "\n",
        "\n",
        "1.   Определить колебательные частоты молекулы из Д/з №2 и №3 с теми же 3 базисными наборами и теми же самыми функционалами плотности. Сравнить результаты расчетов с экспериментальными данными и время выполнения.\n",
        "2.   Определить для этой же молекулы вертикальные энергии возбуждения (без изменения геометрии) методами TDDFT и EOM-CCSD любым из 3 базисных наборов\n",
        "\n",
        "\n",
        "Примечание: в теме письма с домашней работой указать свою фамилию и номер группы"
      ],
      "metadata": {
        "id": "13FrIbZwvnXg"
      }
    }
  ]
}