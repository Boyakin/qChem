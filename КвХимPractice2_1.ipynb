{
  "nbformat": 4,
  "nbformat_minor": 0,
  "metadata": {
    "colab": {
      "provenance": [],
      "include_colab_link": true
    },
    "kernelspec": {
      "name": "python3",
      "display_name": "Python 3"
    },
    "language_info": {
      "name": "python"
    }
  },
  "cells": [
    {
      "cell_type": "markdown",
      "metadata": {
        "id": "view-in-github",
        "colab_type": "text"
      },
      "source": [
        "<a href=\"https://colab.research.google.com/github/Boyakin/qChem/blob/main/%D0%9A%D0%B2%D0%A5%D0%B8%D0%BCPractice2_1.ipynb\" target=\"_parent\"><img src=\"https://colab.research.google.com/assets/colab-badge.svg\" alt=\"Open In Colab\"/></a>"
      ]
    },
    {
      "cell_type": "code",
      "execution_count": null,
      "metadata": {
        "colab": {
          "base_uri": "https://localhost:8080/"
        },
        "id": "JGsZwAvt0oH0",
        "outputId": "7e570d06-a755-4c9d-e938-3b0c4fb1486f"
      },
      "outputs": [
        {
          "output_type": "stream",
          "name": "stdout",
          "text": [
            "Requirement already satisfied: pyscf in /usr/local/lib/python3.11/dist-packages (2.8.0)\n",
            "Requirement already satisfied: geometric in /usr/local/lib/python3.11/dist-packages (1.1)\n",
            "Collecting pyberny\n",
            "  Downloading pyberny-0.6.3-py3-none-any.whl.metadata (4.0 kB)\n",
            "Requirement already satisfied: numpy!=1.16,!=1.17,>=1.13 in /usr/local/lib/python3.11/dist-packages (from pyscf) (2.0.2)\n",
            "Requirement already satisfied: scipy>=1.6.0 in /usr/local/lib/python3.11/dist-packages (from pyscf) (1.14.1)\n",
            "Requirement already satisfied: h5py>=2.7 in /usr/local/lib/python3.11/dist-packages (from pyscf) (3.13.0)\n",
            "Requirement already satisfied: setuptools in /usr/local/lib/python3.11/dist-packages (from pyscf) (75.1.0)\n",
            "Requirement already satisfied: networkx in /usr/local/lib/python3.11/dist-packages (from geometric) (3.4.2)\n",
            "Requirement already satisfied: six in /usr/local/lib/python3.11/dist-packages (from geometric) (1.17.0)\n",
            "Collecting numpy!=1.16,!=1.17,>=1.13 (from pyscf)\n",
            "  Downloading numpy-1.26.4-cp311-cp311-manylinux_2_17_x86_64.manylinux2014_x86_64.whl.metadata (61 kB)\n",
            "\u001b[2K     \u001b[90m━━━━━━━━━━━━━━━━━━━━━━━━━━━━━━━━━━━━━━━━\u001b[0m \u001b[32m61.0/61.0 kB\u001b[0m \u001b[31m2.1 MB/s\u001b[0m eta \u001b[36m0:00:00\u001b[0m\n",
            "\u001b[?25hDownloading pyberny-0.6.3-py3-none-any.whl (27 kB)\n",
            "Downloading numpy-1.26.4-cp311-cp311-manylinux_2_17_x86_64.manylinux2014_x86_64.whl (18.3 MB)\n",
            "\u001b[2K   \u001b[90m━━━━━━━━━━━━━━━━━━━━━━━━━━━━━━━━━━━━━━━━\u001b[0m \u001b[32m18.3/18.3 MB\u001b[0m \u001b[31m53.0 MB/s\u001b[0m eta \u001b[36m0:00:00\u001b[0m\n",
            "\u001b[?25hInstalling collected packages: numpy, pyberny\n",
            "  Attempting uninstall: numpy\n",
            "    Found existing installation: numpy 2.0.2\n",
            "    Uninstalling numpy-2.0.2:\n",
            "      Successfully uninstalled numpy-2.0.2\n",
            "Successfully installed numpy-1.26.4 pyberny-0.6.3\n"
          ]
        }
      ],
      "source": [
        "%pip install pyscf geometric pyberny"
      ]
    },
    {
      "cell_type": "code",
      "source": [
        "import numpy as np\n",
        "from pyscf import gto, scf, ci, mcscf, mp, mrpt, cc, dft, eph\n",
        "import time"
      ],
      "metadata": {
        "id": "9TMfyXQc1Txu"
      },
      "execution_count": null,
      "outputs": []
    },
    {
      "cell_type": "code",
      "source": [
        "rco = 1.21\n",
        "rch = 1.11\n",
        "ahch = 120.\n",
        "\n",
        "geom_zmat = f'''\n",
        "O\n",
        "C   1   {rco}\n",
        "H   2   {rch}   1   {ahch}\n",
        "H   2   {rch}   1   {ahch}  3 180.\n",
        "'''"
      ],
      "metadata": {
        "id": "Fzuijcpi1xLw"
      },
      "execution_count": null,
      "outputs": []
    },
    {
      "cell_type": "code",
      "source": [
        "hcoh = gto.Mole(atom=geom_zmat, unit='Angstrom', basis='ccpvtz', charge=0, spin=0, symmetry=True)\n",
        "hcoh.build()"
      ],
      "metadata": {
        "colab": {
          "base_uri": "https://localhost:8080/"
        },
        "id": "FuSk3I1f3u6V",
        "outputId": "59a0aca7-52cb-47b2-832f-39e3e7c6287b"
      },
      "execution_count": null,
      "outputs": [
        {
          "output_type": "execute_result",
          "data": {
            "text/plain": [
              "<pyscf.gto.mole.Mole at 0x79b133d5e850>"
            ]
          },
          "metadata": {},
          "execution_count": 80
        }
      ]
    },
    {
      "cell_type": "code",
      "source": [
        "start_hf = time.time()\n",
        "hf_hcoh = scf.RHF(hcoh).run()\n",
        "print(f'HF done in {(time.time()-start_hf):.3f} seconds')\n",
        "start_mp2 = time.time()\n",
        "mp2_hcoh = mp.MP2(hf_hcoh).run()\n",
        "print(f'MP2 done in {(time.time()-start_mp2):.3f} seconds')"
      ],
      "metadata": {
        "colab": {
          "base_uri": "https://localhost:8080/"
        },
        "id": "W0bXYqsr6Sqh",
        "outputId": "26eedacc-343f-4ee6-b744-b9368529ca7c"
      },
      "execution_count": null,
      "outputs": [
        {
          "output_type": "stream",
          "name": "stdout",
          "text": [
            "converged SCF energy = -113.910581741567\n",
            "HF done in 1.216 seconds\n",
            "E(MP2) = -114.33453010862  E_corr = -0.423948367053766\n",
            "E(SCS-MP2) = -114.332667436716  E_corr = -0.422085695149388\n",
            "MP2 done in 0.271 seconds\n"
          ]
        }
      ]
    },
    {
      "cell_type": "code",
      "source": [
        "start_casscf = time.time()\n",
        "casscf_hcoh = mcscf.CASSCF(hf_hcoh, 8, 8).run()\n",
        "print(f'CASSCF done in {(time.time()-start_casscf):.3f} seconds')\n",
        "start_casci = time.time()\n",
        "casci_hcoh = mcscf.CASCI(hf_hcoh, 8, 8).run()\n",
        "print(f'CASCI done in {(time.time()-start_casci):.3f} seconds')\n",
        "start_nevpt = time.time()\n",
        "nevpt_hcoh = mrpt.NEVPT(casci_hcoh).run()\n",
        "print(f'NEVPT done in {(time.time()-start_nevpt):.3f} seconds')"
      ],
      "metadata": {
        "colab": {
          "base_uri": "https://localhost:8080/"
        },
        "id": "-ZjOJJjNHfrs",
        "outputId": "af0292f0-9c9b-48f5-a43e-9b2408e52558"
      },
      "execution_count": null,
      "outputs": [
        {
          "output_type": "stream",
          "name": "stdout",
          "text": [
            "CASSCF energy = -114.029034520586\n",
            "CASCI E = -114.029034520586  E(CI) = -19.3188123518140  S^2 = 0.0000000\n",
            "CASSCF done in 26.776 seconds\n",
            "CASCI E = -113.931239777809  E(CI) = -17.8796770166617  S^2 = 0.0000000\n",
            "CASCI done in 0.421 seconds\n",
            "Sr    (-1)',   E = -0.04733449238647\n",
            "Si    (+1)',   E = -0.00410823157894\n",
            "Sijrs (0)  ,   E = -0.04062696139142\n",
            "Sijr  (+1) ,   E = -0.00579492569052\n",
            "Srsi  (-1) ,   E = -0.10595089396308\n",
            "Srs   (-2) ,   E = -0.14539755396260\n",
            "Sij   (+2) ,   E = -0.00111512040541\n",
            "Sir   (0)' ,   E = -0.03785847029974\n",
            "Nevpt2 Energy = -0.388186649678188\n",
            "NEVPT done in 3.085 seconds\n"
          ]
        }
      ]
    },
    {
      "cell_type": "code",
      "source": [
        "nevpt_hcoh.e_corr + casci_hcoh.e_tot"
      ],
      "metadata": {
        "colab": {
          "base_uri": "https://localhost:8080/"
        },
        "id": "F_SaFXxH6kBW",
        "outputId": "1edf37a5-7f4c-487e-f4d4-7d180e6a45f2"
      },
      "execution_count": null,
      "outputs": [
        {
          "output_type": "execute_result",
          "data": {
            "text/plain": [
              "np.float64(-114.31942642748717)"
            ]
          },
          "metadata": {},
          "execution_count": 83
        }
      ]
    },
    {
      "cell_type": "code",
      "source": [
        "start_ccsd = time.time()\n",
        "ccsd_hcoh = cc.CCSD(hf_hcoh).run()\n",
        "ccsd_time = time.time() - start_ccsd\n",
        "print(f'CCSD done in {(ccsd_time):.3f} seconds')\n",
        "ccsdt_hcoh = ccsd_hcoh.ccsd_t()"
      ],
      "metadata": {
        "colab": {
          "base_uri": "https://localhost:8080/"
        },
        "id": "jdltknuyJnQI",
        "outputId": "d8377125-e65c-420d-e906-b7bb62c8e49f"
      },
      "execution_count": null,
      "outputs": [
        {
          "output_type": "stream",
          "name": "stdout",
          "text": [
            "E(CCSD) = -114.3448634734393  E_corr = -0.4342817318725921\n",
            "CCSD done in 9.525 seconds\n",
            "CCSD(T) correction = -0.0170234449885299\n"
          ]
        }
      ]
    },
    {
      "cell_type": "code",
      "source": [
        "start_b3lyp = time.time()\n",
        "b3lyp_hcoh = dft.RKS(hcoh, xc='B3LYP').run()\n",
        "print(f'B3LYP done in {(time.time() - start_b3lyp):.3f} seconds')\n",
        "\n",
        "start_pbe = time.time()\n",
        "pbe_hcoh = dft.RKS(hcoh, xc='PBE').run()\n",
        "print(f'PBE done in {(time.time() - start_pbe):.3f} seconds')\n",
        "\n",
        "start_r2scan = time.time()\n",
        "r2scan_hcoh = dft.RKS(hcoh, xc='r2SCAN').run()\n",
        "print(f'r2SCAN done in {(time.time() - start_r2scan):.3f} seconds')"
      ],
      "metadata": {
        "colab": {
          "base_uri": "https://localhost:8080/"
        },
        "id": "MJ9v4u13KSKB",
        "outputId": "f63d5906-32c4-4f44-f6b4-98703c92e778"
      },
      "execution_count": null,
      "outputs": [
        {
          "output_type": "stream",
          "name": "stdout",
          "text": [
            "converged SCF energy = -114.548752174448\n",
            "B3LYP done in 4.254 seconds\n",
            "converged SCF energy = -114.413625663887\n",
            "PBE done in 4.873 seconds\n",
            "converged SCF energy = -114.480920535033\n",
            "r2SCAN done in 5.065 seconds\n"
          ]
        }
      ]
    },
    {
      "cell_type": "code",
      "source": [
        "# hcoh_hf_opt = hf_hcoh.Gradients().optimizer(solver='geomeTRIC').kernel()\n",
        "start_hf = time.time()\n",
        "hf_hcoh.Gradients().run()\n",
        "print(f'HF gradient done in {(time.time()-start_hf):.3f} seconds')\n",
        "\n",
        "start_mp2 = time.time()\n",
        "mp2_hcoh.Gradients().run()\n",
        "print(f'MP2 gradient done in {(time.time()-start_mp2):.3f} seconds')\n",
        "\n",
        "start_casci = time.time()\n",
        "casci_hcoh.Gradients().run()\n",
        "print(f'CASCI gradient done in {(time.time()-start_casci):.3f} seconds')\n",
        "\n",
        "start_ccsd = time.time()\n",
        "ccsd_hcoh.Gradients().run()\n",
        "print(f'CCSD gradient done in {(time.time() - start_ccsd):.3f} seconds')\n",
        "\n",
        "start_b3lyp = time.time()\n",
        "b3lyp_hcoh.Gradients().run()\n",
        "print(f'B3LYP gradient done in {(time.time() - start_b3lyp):.3f} seconds')\n",
        "\n",
        "start_pbe = time.time()\n",
        "pbe_hcoh.Gradients().run()\n",
        "print(f'PBE gradient done in {(time.time() - start_pbe):.3f} seconds')\n",
        "\n",
        "start_r2scan = time.time()\n",
        "r2scan_hcoh.Gradients().run()\n",
        "print(f'r2SCAN gradient done in {(time.time() - start_r2scan):.3f} seconds')"
      ],
      "metadata": {
        "colab": {
          "base_uri": "https://localhost:8080/"
        },
        "id": "KP4doW0eNoa9",
        "outputId": "4576b00e-96ed-417c-a596-74f7c9b433f9"
      },
      "execution_count": null,
      "outputs": [
        {
          "output_type": "stream",
          "name": "stdout",
          "text": [
            "--------------- SymAdaptedRHF gradients ---------------\n",
            "         x                y                z\n",
            "0 O    -0.0562005608     0.0000000000    -0.0000000000\n",
            "1 C     0.0519331546     0.0000000000     0.0000000000\n",
            "2 H     0.0021337031     0.0000000000     0.0148656312\n",
            "3 H     0.0021337031    -0.0000000000    -0.0148656312\n",
            "----------------------------------------------\n",
            "HF gradient done in 3.759 seconds\n",
            "--------------- MP2 gradients ---------------\n",
            "         x                y                z\n",
            "0 O    -0.0017587539     0.0000000000    -0.0000000000\n",
            "1 C     0.0034695506     0.0000000000     0.0000000000\n",
            "2 H    -0.0008553984     0.0000000000     0.0112069176\n",
            "3 H    -0.0008553984    -0.0000000000    -0.0112069176\n",
            "----------------------------------------------\n",
            "MP2 gradient done in 10.668 seconds\n",
            "--------- SymAdaptedCASCI gradients for state 0 ----------\n",
            "         x                y                z\n",
            "0 O    -0.0231835694     0.0000000000    -0.0000000000\n",
            "1 C     0.0214679449     0.0000000000     0.0000000000\n",
            "2 H     0.0008578122     0.0000000000     0.0126776699\n",
            "3 H     0.0008578122    -0.0000000000    -0.0126776699\n",
            "----------------------------------------------\n",
            "CASCI gradient done in 10.889 seconds\n",
            "--------------- CCSD gradients ---------------\n",
            "         x                y                z\n",
            "0 O    -0.0141880789     0.0000000000    -0.0000000000\n",
            "1 C     0.0149350060     0.0000000000     0.0000000000\n",
            "2 H    -0.0003734636     0.0000000000     0.0112127820\n",
            "3 H    -0.0003734636    -0.0000000000    -0.0112127820\n",
            "----------------------------------------------\n",
            "CCSD gradient done in 27.537 seconds\n",
            "--------------- SymAdaptedRKS gradients ---------------\n",
            "         x                y                z\n",
            "0 O    -0.0138528748     0.0000000000    -0.0000000000\n",
            "1 C     0.0210268869     0.0000000000     0.0000000000\n",
            "2 H    -0.0035826389     0.0000000000     0.0061336927\n",
            "3 H    -0.0035826389    -0.0000000000    -0.0061336927\n",
            "----------------------------------------------\n",
            "B3LYP gradient done in 6.666 seconds\n",
            "--------------- SymAdaptedRKS gradients ---------------\n",
            "         x                y                z\n",
            "0 O     0.0025252170     0.0000000000     0.0000000000\n",
            "1 C     0.0123228330     0.0000000000     0.0000000000\n",
            "2 H    -0.0074186095    -0.0000000000    -0.0000156934\n",
            "3 H    -0.0074186095     0.0000000000     0.0000156934\n",
            "----------------------------------------------\n",
            "PBE gradient done in 5.432 seconds\n",
            "--------------- SymAdaptedRKS gradients ---------------\n",
            "         x                y                z\n",
            "0 O    -0.0123587971     0.0000000000    -0.0000000000\n",
            "1 C     0.0213752493     0.0000000000     0.0000000000\n",
            "2 H    -0.0045954216     0.0000000000     0.0043177490\n",
            "3 H    -0.0045954216    -0.0000000000    -0.0043177490\n",
            "----------------------------------------------\n",
            "r2SCAN gradient done in 4.371 seconds\n"
          ]
        }
      ]
    },
    {
      "cell_type": "code",
      "source": [
        "hcoh_hf_opt_geomtric = hf_hcoh.Gradients().optimizer(solver='geomeTRIC').kernel()"
      ],
      "metadata": {
        "colab": {
          "base_uri": "https://localhost:8080/"
        },
        "id": "PfhoqJClO6il",
        "outputId": "7779dac4-de62-41da-ebbc-e758c20db13b"
      },
      "execution_count": null,
      "outputs": [
        {
          "output_type": "stream",
          "name": "stderr",
          "text": [
            "geometric-optimize called with the following command line:\n",
            "/usr/local/lib/python3.11/dist-packages/colab_kernel_launcher.py -f /root/.local/share/jupyter/runtime/kernel-5a1718ce-10f0-4cf6-bc84-581707384c7f.json\n",
            "\n",
            "                                        \u001b[91m())))))))))))))))/\u001b[0m                     \n",
            "                                    \u001b[91m())))))))))))))))))))))))),\u001b[0m                \n",
            "                                \u001b[91m*)))))))))))))))))))))))))))))))))\u001b[0m             \n",
            "                        \u001b[94m#,\u001b[0m    \u001b[91m()))))))))/\u001b[0m                \u001b[91m.)))))))))),\u001b[0m          \n",
            "                      \u001b[94m#%%%%,\u001b[0m  \u001b[91m())))))\u001b[0m                        \u001b[91m.))))))))*\u001b[0m        \n",
            "                      \u001b[94m*%%%%%%,\u001b[0m  \u001b[91m))\u001b[0m              \u001b[93m..\u001b[0m              \u001b[91m,))))))).\u001b[0m      \n",
            "                        \u001b[94m*%%%%%%,\u001b[0m         \u001b[93m***************/.\u001b[0m        \u001b[91m.)))))))\u001b[0m     \n",
            "                \u001b[94m#%%/\u001b[0m      \u001b[94m(%%%%%%,\u001b[0m    \u001b[93m/*********************.\u001b[0m       \u001b[91m)))))))\u001b[0m    \n",
            "              \u001b[94m.%%%%%%#\u001b[0m      \u001b[94m*%%%%%%,\u001b[0m  \u001b[93m*******/,\u001b[0m     \u001b[93m**********,\u001b[0m      \u001b[91m.))))))\u001b[0m   \n",
            "                \u001b[94m.%%%%%%/\u001b[0m      \u001b[94m*%%%%%%,\u001b[0m  \u001b[93m**\u001b[0m              \u001b[93m********\u001b[0m      \u001b[91m.))))))\u001b[0m  \n",
            "          \u001b[94m##\u001b[0m      \u001b[94m.%%%%%%/\u001b[0m      \u001b[94m(%%%%%%,\u001b[0m                  \u001b[93m,******\u001b[0m      \u001b[91m/)))))\u001b[0m  \n",
            "        \u001b[94m%%%%%%\u001b[0m      \u001b[94m.%%%%%%#\u001b[0m      \u001b[94m*%%%%%%,\u001b[0m    \u001b[92m,/////.\u001b[0m       \u001b[93m******\u001b[0m      \u001b[91m))))))\u001b[0m \n",
            "      \u001b[94m#%\u001b[0m      \u001b[94m%%\u001b[0m      \u001b[94m.%%%%%%/\u001b[0m      \u001b[94m*%%%%%%,\u001b[0m  \u001b[92m////////,\u001b[0m      \u001b[93m*****/\u001b[0m     \u001b[91m,)))))\u001b[0m \n",
            "    \u001b[94m#%%\u001b[0m  \u001b[94m%%%\u001b[0m  \u001b[94m%%%#\u001b[0m      \u001b[94m.%%%%%%/\u001b[0m      \u001b[94m(%%%%%%,\u001b[0m  \u001b[92m///////.\u001b[0m     \u001b[93m/*****\u001b[0m      \u001b[91m))))).\u001b[0m\n",
            "  \u001b[94m#%%%%.\u001b[0m      \u001b[94m%%%%%#\u001b[0m      \u001b[94m/%%%%%%*\u001b[0m      \u001b[94m#%%%%%%\u001b[0m   \u001b[92m/////)\u001b[0m     \u001b[93m******\u001b[0m      \u001b[91m))))),\u001b[0m\n",
            "    \u001b[94m#%%%%##%\u001b[0m  \u001b[94m%%%#\u001b[0m      \u001b[94m.%%%%%%/\u001b[0m      \u001b[94m(%%%%%%,\u001b[0m  \u001b[92m///////.\u001b[0m     \u001b[93m/*****\u001b[0m      \u001b[91m))))).\u001b[0m\n",
            "      \u001b[94m##\u001b[0m     \u001b[94m%%%\u001b[0m      \u001b[94m.%%%%%%/\u001b[0m      \u001b[94m*%%%%%%,\u001b[0m  \u001b[92m////////.\u001b[0m      \u001b[93m*****/\u001b[0m     \u001b[91m,)))))\u001b[0m \n",
            "        \u001b[94m#%%%%#\u001b[0m      \u001b[94m/%%%%%%/\u001b[0m      \u001b[94m(%%%%%%\u001b[0m      \u001b[92m/)/)//\u001b[0m       \u001b[93m******\u001b[0m      \u001b[91m))))))\u001b[0m \n",
            "          \u001b[94m##\u001b[0m      \u001b[94m.%%%%%%/\u001b[0m      \u001b[94m(%%%%%%,\u001b[0m                  \u001b[93m*******\u001b[0m      \u001b[91m))))))\u001b[0m  \n",
            "                \u001b[94m.%%%%%%/\u001b[0m      \u001b[94m*%%%%%%,\u001b[0m  \u001b[93m**.\u001b[0m             \u001b[93m/*******\u001b[0m      \u001b[91m.))))))\u001b[0m  \n",
            "              \u001b[94m*%%%%%%/\u001b[0m      \u001b[94m(%%%%%%\u001b[0m   \u001b[93m********/*..,*/*********\u001b[0m       \u001b[91m*))))))\u001b[0m   \n",
            "                \u001b[94m#%%/\u001b[0m      \u001b[94m(%%%%%%,\u001b[0m    \u001b[93m*********************/\u001b[0m        \u001b[91m)))))))\u001b[0m    \n",
            "                        \u001b[94m*%%%%%%,\u001b[0m         \u001b[93m,**************/\u001b[0m         \u001b[91m,))))))/\u001b[0m     \n",
            "                      \u001b[94m(%%%%%%\u001b[0m   \u001b[91m()\u001b[0m                              \u001b[91m))))))))\u001b[0m       \n",
            "                      \u001b[94m#%%%%,\u001b[0m  \u001b[91m())))))\u001b[0m                        \u001b[91m,)))))))),\u001b[0m        \n",
            "                        \u001b[94m#,\u001b[0m    \u001b[91m())))))))))\u001b[0m                \u001b[91m,)))))))))).\u001b[0m          \n",
            "                                 \u001b[91m()))))))))))))))))))))))))))))))/\u001b[0m             \n",
            "                                    \u001b[91m())))))))))))))))))))))))).\u001b[0m                \n",
            "                                         \u001b[91m())))))))))))))),\u001b[0m                     \n",
            "\n",
            "-=# \u001b[1;94m geomeTRIC started. Version: 1.1 \u001b[0m #=-\n",
            "Current date and time: 2025-03-27 09:49:59\n",
            "#========================================================#\n",
            "#| \u001b[92m    Arguments passed to driver run_optimizer():     \u001b[0m |#\n",
            "#========================================================#\n",
            "customengine              <pyscf.geomopt.geometric_solver.PySCFEngine object at 0x79b13005d450> \n",
            "input                     /tmp/tmpa5kxqyl4/053da6fa-b5d8-4ede-b0fa-01dfc8329c72 \n",
            "logIni                    /usr/local/lib/python3.11/dist-packages/pyscf/geomopt/log.ini \n",
            "----------------------------------------------------------\n",
            "Custom engine selected.\n",
            "Bonds will be generated from interatomic distances less than 1.20 times sum of covalent radii\n",
            "12 internal coordinates being used (instead of 12 Cartesians)\n",
            "Internal coordinate system (atoms numbered from 1):\n",
            "Distance 1-2\n",
            "Distance 2-3\n",
            "Distance 2-4\n",
            "Angle 1-2-4\n",
            "Angle 3-2-4\n",
            "Out-of-Plane 2-1-3-4\n",
            "Translation-X 1-4\n",
            "Translation-Y 1-4\n",
            "Translation-Z 1-4\n",
            "Rotation-A 1-4\n",
            "Rotation-B 1-4\n",
            "Rotation-C 1-4\n",
            "<class 'geometric.internal.Distance'> : 3\n",
            "<class 'geometric.internal.Angle'> : 2\n",
            "<class 'geometric.internal.OutOfPlane'> : 1\n",
            "<class 'geometric.internal.TranslationX'> : 1\n",
            "<class 'geometric.internal.TranslationY'> : 1\n",
            "<class 'geometric.internal.TranslationZ'> : 1\n",
            "<class 'geometric.internal.RotationA'> : 1\n",
            "<class 'geometric.internal.RotationB'> : 1\n",
            "<class 'geometric.internal.RotationC'> : 1\n",
            "> ===== Optimization Info: ====\n",
            "> Job type: Energy minimization\n",
            "> Maximum number of optimization cycles: 300\n",
            "> Initial / maximum trust radius (Angstrom): 0.100 / 0.300\n",
            "> Convergence Criteria:\n",
            "> Will converge when all 5 criteria are reached:\n",
            ">  |Delta-E| < 1.00e-06\n",
            ">  RMS-Grad  < 3.00e-04\n",
            ">  Max-Grad  < 4.50e-04\n",
            ">  RMS-Disp  < 1.20e-03\n",
            ">  Max-Disp  < 1.80e-03\n",
            "> === End Optimization Info ===\n"
          ]
        },
        {
          "output_type": "stream",
          "name": "stdout",
          "text": [
            "\n",
            "Geometry optimization cycle 1\n",
            "Cartesian coordinates (Angstrom)\n",
            " Atom        New coordinates             dX        dY        dZ\n",
            "   O   0.000000   0.000000   0.000000    0.000000  0.000000  0.000000\n",
            "   C   1.210000   0.000000   0.000000    0.000000  0.000000  0.000000\n",
            "   H   1.765000   0.000000   0.961288    0.000000  0.000000  0.000000\n",
            "   H   1.765000  -0.000000  -0.961288    0.000000  0.000000  0.000000\n",
            "converged SCF energy = -113.910581741567\n",
            "--------------- SymAdaptedRHF_Scanner gradients ---------------\n",
            "         x                y                z\n",
            "0 O    -0.0562006744     0.0000000000    -0.0000000000\n",
            "1 C     0.0519332623     0.0000000000     0.0000000000\n",
            "2 H     0.0021337061     0.0000000000     0.0148656333\n",
            "3 H     0.0021337061    -0.0000000000    -0.0148656333\n",
            "----------------------------------------------\n",
            "cycle 1: E = -113.910581742  dE = -113.911  norm(grad) = 0.0794145\n"
          ]
        },
        {
          "output_type": "stream",
          "name": "stderr",
          "text": [
            "Step    0 : Gradient = 3.971e-02/5.620e-02 (rms/max) Energy = -113.9105817416\n",
            "Hessian Eigenvalues: 4.50000e-02 5.00000e-02 5.00000e-02 ... 3.26000e-01 3.26000e-01 9.99547e-01\n"
          ]
        },
        {
          "output_type": "stream",
          "name": "stdout",
          "text": [
            "\n",
            "Geometry optimization cycle 2\n",
            "Cartesian coordinates (Angstrom)\n",
            " Atom        New coordinates             dX        dY        dZ\n",
            "   O   0.011187   0.000000  -0.016749    0.011187  0.000000 -0.016749\n",
            "   C   1.191113  -0.000000   0.010719   -0.018887 -0.000000  0.010719\n",
            "   H   1.781132   0.000000   0.924093    0.016132  0.000000 -0.037195\n",
            "   H   1.756568   0.000000  -0.918063   -0.008432  0.000000  0.043225\n",
            "converged SCF energy = -113.91317874453\n",
            "--------------- SymAdaptedRHF_Scanner gradients ---------------\n",
            "         x                y                z\n",
            "0 O    -0.0032624697     0.0000000000    -0.0000000000\n",
            "1 C     0.0063346838     0.0000000000     0.0000000000\n",
            "2 H    -0.0015361070    -0.0000000000    -0.0034011262\n",
            "3 H    -0.0015361070     0.0000000000     0.0034011262\n",
            "----------------------------------------------\n",
            "cycle 2: E = -113.913178745  dE = -0.002597  norm(grad) = 0.00886716\n"
          ]
        },
        {
          "output_type": "stream",
          "name": "stderr",
          "text": [
            "Step    1 : Displace = \u001b[0m3.339e-02\u001b[0m/\u001b[0m4.404e-02\u001b[0m (rms/max) Trust = 1.000e-01 (=) Grad = \u001b[0m4.434e-03\u001b[0m/\u001b[0m6.335e-03\u001b[0m (rms/max) E (change) = -113.9131787445 (\u001b[0m-2.597e-03\u001b[0m) Quality = \u001b[0m0.997\u001b[0m\n",
            "Hessian Eigenvalues: 4.50000e-02 4.99990e-02 5.00000e-02 ... 3.26000e-01 3.65512e-01 9.12350e-01\n"
          ]
        },
        {
          "output_type": "stream",
          "name": "stdout",
          "text": [
            "\n",
            "Geometry optimization cycle 3\n",
            "Cartesian coordinates (Angstrom)\n",
            " Atom        New coordinates             dX        dY        dZ\n",
            "   O   0.012515   0.000000  -0.018129    0.001328  0.000000 -0.018129\n",
            "   C   1.190268  -0.000000   0.010064   -0.000845 -0.000000  0.010064\n",
            "   H   1.778260   0.000000   0.931142    0.009410  0.000000  0.010064\n",
            "   H   1.758957   0.000000  -0.923077   -0.009893  0.000000 -0.001999\n",
            "converged SCF energy = -113.913224484382\n",
            "--------------- SymAdaptedRHF_Scanner gradients ---------------\n",
            "         x                y                z\n",
            "0 O     0.0005920410     0.0000000000     0.0000000000\n",
            "1 C     0.0000154018     0.0000000000     0.0000000000\n",
            "2 H    -0.0003037214     0.0000000000     0.0000374281\n",
            "3 H    -0.0003037214    -0.0000000000    -0.0000374281\n",
            "----------------------------------------------\n",
            "cycle 3: E = -113.913224484  dE = -4.57399e-05  norm(grad) = 0.000733515\n"
          ]
        },
        {
          "output_type": "stream",
          "name": "stderr",
          "text": [
            "Step    2 : Displace = \u001b[0m4.397e-03\u001b[0m/\u001b[0m6.223e-03\u001b[0m (rms/max) Trust = 1.414e-01 (\u001b[92m+\u001b[0m) Grad = \u001b[0m3.668e-04\u001b[0m/\u001b[0m5.920e-04\u001b[0m (rms/max) E (change) = -113.9132244844 (\u001b[0m-4.574e-05\u001b[0m) Quality = \u001b[0m0.968\u001b[0m\n",
            "Hessian Eigenvalues: 4.50000e-02 5.00000e-02 5.00000e-02 ... 3.25998e-01 3.48609e-01 9.52211e-01\n"
          ]
        },
        {
          "output_type": "stream",
          "name": "stdout",
          "text": [
            "\n",
            "Geometry optimization cycle 4\n",
            "Cartesian coordinates (Angstrom)\n",
            " Atom        New coordinates             dX        dY        dZ\n",
            "   O   0.011486   0.000000  -0.018702   -0.001029  0.000000 -0.018702\n",
            "   C   1.189484  -0.000000   0.010512   -0.000784 -0.000000  0.010512\n",
            "   H   1.779757   0.000000   0.930540    0.011148  0.000000  0.003430\n",
            "   H   1.759273   0.000000  -0.922350   -0.009335  0.000000  0.004759\n",
            "converged SCF energy = -113.91322532555\n",
            "--------------- SymAdaptedRHF_Scanner gradients ---------------\n",
            "         x                y                z\n",
            "0 O    -0.0001612829     0.0000000000    -0.0000000000\n",
            "1 C    -0.0000255971     0.0000000000    -0.0000000000\n",
            "2 H     0.0000934400     0.0000000000     0.0000178359\n",
            "3 H     0.0000934400    -0.0000000000    -0.0000178359\n",
            "----------------------------------------------\n",
            "cycle 4: E = -113.913225326  dE = -8.41168e-07  norm(grad) = 0.000211579\n"
          ]
        },
        {
          "output_type": "stream",
          "name": "stderr",
          "text": [
            "Step    3 : Displace = \u001b[92m1.161e-03\u001b[0m/\u001b[92m1.505e-03\u001b[0m (rms/max) Trust = 2.000e-01 (\u001b[92m+\u001b[0m) Grad = \u001b[92m1.058e-04\u001b[0m/\u001b[92m1.613e-04\u001b[0m (rms/max) E (change) = -113.9132253255 (\u001b[92m-8.412e-07\u001b[0m) Quality = \u001b[0m0.729\u001b[0m\n",
            "Hessian Eigenvalues: 4.50000e-02 5.00000e-02 5.00000e-02 ... 3.25998e-01 3.48609e-01 9.52211e-01\n",
            "Converged! =D\n",
            "\n",
            "    #==========================================================================#\n",
            "    #| If this code has benefited your research, please support us by citing: |#\n",
            "    #|                                                                        |#\n",
            "    #| Wang, L.-P.; Song, C.C. (2016) \"Geometry optimization made simple with |#\n",
            "    #| translation and rotation coordinates\", J. Chem, Phys. 144, 214108.     |#\n",
            "    #| http://dx.doi.org/10.1063/1.4952956                                    |#\n",
            "    #==========================================================================#\n",
            "    Time elapsed since start of run_optimizer: 20.095 seconds\n"
          ]
        }
      ]
    },
    {
      "cell_type": "code",
      "source": [
        "print(hcoh_hf_opt_geomtric.tostring())"
      ],
      "metadata": {
        "colab": {
          "base_uri": "https://localhost:8080/"
        },
        "id": "ywBONrpkRlPB",
        "outputId": "4aaf7357-119f-4df6-e683-a0fc179d6acc"
      },
      "execution_count": null,
      "outputs": [
        {
          "output_type": "stream",
          "name": "stdout",
          "text": [
            "O           0.01149        0.00000        0.00000\n",
            "C           1.18948        0.00000        0.00000\n",
            "H           1.76952        0.00000        0.92645\n",
            "H           1.76952       -0.00000       -0.92645\n"
          ]
        }
      ]
    },
    {
      "cell_type": "code",
      "source": [
        "hcoh_hf_opt_berny = hf_hcoh.Gradients().optimizer(solver='berny').kernel()"
      ],
      "metadata": {
        "colab": {
          "base_uri": "https://localhost:8080/"
        },
        "id": "UruVGUifBmGW",
        "outputId": "ca4c5615-6202-42f1-ab4f-72fc38762ea5"
      },
      "execution_count": null,
      "outputs": [
        {
          "output_type": "stream",
          "name": "stderr",
          "text": [
            "0 Internal coordinates:0 * Number of fragments: 10 * Number of internal coordinates: 60 * Number of strong bonds: 30 * Number of strong angles: 3"
          ]
        },
        {
          "output_type": "stream",
          "name": "stdout",
          "text": [
            "\n",
            "Geometry optimization cycle 1\n",
            "Cartesian coordinates (Angstrom)\n",
            " Atom        New coordinates             dX        dY        dZ\n",
            "   O   0.000000   0.000000   0.000000    0.000000  0.000000  0.000000\n",
            "   C   1.210000   0.000000   0.000000    0.000000  0.000000  0.000000\n",
            "   H   1.765000   0.000000   0.961288    0.000000  0.000000  0.000000\n",
            "   H   1.765000  -0.000000  -0.961288    0.000000  0.000000  0.000000\n",
            "converged SCF energy = -113.910581741567\n",
            "--------------- SymAdaptedRHF_Scanner gradients ---------------\n",
            "         x                y                z\n",
            "0 O    -0.0562006744     0.0000000000    -0.0000000000\n",
            "1 C     0.0519332623     0.0000000000     0.0000000000\n",
            "2 H     0.0021337061     0.0000000000     0.0148656333\n",
            "3 H     0.0021337061    -0.0000000000    -0.0148656333\n",
            "----------------------------------------------\n",
            "cycle 1: E = -113.910581742  dE = -113.911  norm(grad) = 0.0794145\n"
          ]
        },
        {
          "output_type": "stream",
          "name": "stderr",
          "text": [
            "1 Energy: -113.9105817421 Pure RFO step was performed:1 * Trust radius: 0.31 * Number of negative eigenvalues: 01 * Lowest eigenvalue: 0.171 * lambda: -0.007051 Quadratic step: RMS: 0.05, max: 0.1021 * Predicted energy change: -0.003581 Total step: RMS: 0.05, max: 0.1021 Perfect transformation to cartesians in 4 iterations1 * RMS(dcart): 5.86e-08, RMS(dq): 1.77e-071 Convergence criteria:1 * Gradient RMS: 0.0246 > 0.00015 => no1 * Gradient maximum: 0.0562 > 0.00045 => no1 * Step RMS: 0.05 > 0.0012 => no1 * Step maximum: 0.102 > 0.0018 => no"
          ]
        },
        {
          "output_type": "stream",
          "name": "stdout",
          "text": [
            "\n",
            "Geometry optimization cycle 2\n",
            "Cartesian coordinates (Angstrom)\n",
            " Atom        New coordinates             dX        dY        dZ\n",
            "   O   0.033848  -0.000000  -0.000000    0.033848 -0.000000 -0.000000\n",
            "   C   1.190071   0.000000   0.000000   -0.019929  0.000000  0.000000\n",
            "   H   1.758040   0.000000   0.935483   -0.006960 -0.000000 -0.025805\n",
            "   H   1.758040  -0.000000  -0.935483   -0.006960  0.000000  0.025805\n",
            "converged SCF energy = -113.912140349367\n",
            "--------------- SymAdaptedRHF_Scanner gradients ---------------\n",
            "         x                y                z\n",
            "0 O     0.0484214073     0.0000000000     0.0000000000\n",
            "1 C    -0.0409032889     0.0000000000    -0.0000000000\n",
            "2 H    -0.0037590592     0.0000000000     0.0018227956\n",
            "3 H    -0.0037590592    -0.0000000000    -0.0018227956\n",
            "----------------------------------------------\n",
            "cycle 2: E = -113.912140349  dE = -0.00155861  norm(grad) = 0.0636602\n"
          ]
        },
        {
          "output_type": "stream",
          "name": "stderr",
          "text": [
            "2 Energy: -113.9121403492 Hessian update information:2 * Change: RMS: 0.0845, max: 0.4992 Trust update: Fletcher's parameter: 0.4362 Linear interpolation:2 * Energies: -113.91214, -113.910582 * Derivatives: -0.00456, 0.007052 * Quartic interpolation was performed: t = 0.3552 * Interpolated energy: -113.912942 Pure RFO step was performed:2 * Trust radius: 0.32 * Number of negative eigenvalues: 02 * Lowest eigenvalue: 0.1542 * lambda: -0.0006092 Quadratic step: RMS: 0.0217, max: 0.04032 * Predicted energy change: -0.0003052 Total step: RMS: 0.0221, max: 0.04492 Perfect transformation to cartesians in 3 iterations2 * RMS(dcart): 3.53e-07, RMS(dq): 9.45e-072 Convergence criteria:2 * Gradient RMS: 0.02 > 0.00015 => no2 * Gradient maximum: 0.0484 > 0.00045 => no2 * Step RMS: 0.0221 > 0.0012 => no2 * Step maximum: 0.0449 > 0.0018 => no"
          ]
        },
        {
          "output_type": "stream",
          "name": "stdout",
          "text": [
            "\n",
            "Geometry optimization cycle 3\n",
            "Cartesian coordinates (Angstrom)\n",
            " Atom        New coordinates             dX        dY        dZ\n",
            "   O   0.010553  -0.000000  -0.000000   -0.023295 -0.000000 -0.000000\n",
            "   C   1.190560   0.000000   0.000000    0.000488  0.000000  0.000000\n",
            "   H   1.769444   0.000000   0.927478    0.011403 -0.000000 -0.008005\n",
            "   H   1.769444  -0.000000  -0.927478    0.011403  0.000000  0.008005\n",
            "converged SCF energy = -113.91321698168\n",
            "--------------- SymAdaptedRHF_Scanner gradients ---------------\n",
            "         x                y                z\n",
            "0 O    -0.0040358370     0.0000000000    -0.0000000000\n",
            "1 C     0.0037664485     0.0000000000     0.0000000000\n",
            "2 H     0.0001346942     0.0000000000     0.0004232147\n",
            "3 H     0.0001346942    -0.0000000000    -0.0004232147\n",
            "----------------------------------------------\n",
            "cycle 3: E = -113.913216982  dE = -0.00107663  norm(grad) = 0.00555595\n"
          ]
        },
        {
          "output_type": "stream",
          "name": "stderr",
          "text": [
            "3 Energy: -113.9132169823 Hessian update information:3 * Change: RMS: 0.0159, max: 0.0923 Trust update: Fletcher's parameter: 3.533 Linear interpolation:3 * Energies: -113.91322, -113.912143 * Derivatives: -0.000174, 0.002393 * Quartic interpolation was performed: t = 0.07263 * Interpolated energy: -113.913223 Pure RFO step was performed:3 * Trust radius: 0.33 * Number of negative eigenvalues: 03 * Lowest eigenvalue: 0.1523 * lambda: -3.99e-063 Quadratic step: RMS: 0.00199, max: 0.003823 * Predicted energy change: -1.99e-063 Total step: RMS: 0.00185, max: 0.003613 Perfect transformation to cartesians in 2 iterations3 * RMS(dcart): 2.18e-07, RMS(dq): 7.33e-073 Convergence criteria:3 * Gradient RMS: 0.00167 > 0.00015 => no3 * Gradient maximum: 0.00404 > 0.00045 => no3 * Step RMS: 0.00185 > 0.0012 => no3 * Step maximum: 0.00361 > 0.0018 => no"
          ]
        },
        {
          "output_type": "stream",
          "name": "stdout",
          "text": [
            "\n",
            "Geometry optimization cycle 4\n",
            "Cartesian coordinates (Angstrom)\n",
            " Atom        New coordinates             dX        dY        dZ\n",
            "   O   0.011634   0.000000   0.000000    0.001081  0.000000  0.000000\n",
            "   C   1.189728   0.000000   0.000000   -0.000832  0.000000  0.000000\n",
            "   H   1.769319   0.000000   0.926521   -0.000124 -0.000000 -0.000956\n",
            "   H   1.769319  -0.000000  -0.926521   -0.000124  0.000000  0.000956\n",
            "converged SCF energy = -113.91322535222\n",
            "--------------- SymAdaptedRHF_Scanner gradients ---------------\n",
            "         x                y                z\n",
            "0 O    -0.0002784424     0.0000000000    -0.0000000000\n",
            "1 C     0.0003083093     0.0000000000     0.0000000000\n",
            "2 H    -0.0000149334    -0.0000000000    -0.0000252106\n",
            "3 H    -0.0000149334     0.0000000000     0.0000252106\n",
            "----------------------------------------------\n",
            "cycle 4: E = -113.913225352  dE = -8.37054e-06  norm(grad) = 0.000417495\n"
          ]
        },
        {
          "output_type": "stream",
          "name": "stderr",
          "text": [
            "4 Energy: -113.9132253524 Hessian update information:4 * Change: RMS: 0.0138, max: 0.07994 Trust update: Fletcher's parameter: 4.24 Linear interpolation:4 * Energies: -113.91323, -113.913224 * Derivatives: 9.55e-07, 1.58e-054 * Quartic interpolation was performed: t = -0.06414 * Interpolated energy: -113.913234 Pure RFO step was performed:4 * Trust radius: 0.34 * Number of negative eigenvalues: 04 * Lowest eigenvalue: 0.1534 * lambda: -1.88e-084 Quadratic step: RMS: 8.98e-05, max: 0.0001364 * Predicted energy change: -9.4e-094 Total step: RMS: 0.000123, max: 0.0002724 Perfect transformation to cartesians in 2 iterations4 * RMS(dcart): 4.14e-10, RMS(dq): 1.07e-094 Convergence criteria:4 * Gradient RMS: 0.000115 < 0.00015 => OK4 * Gradient maximum: 0.000278 < 0.00045 => OK4 * Step RMS: 0.000123 < 0.0012 => OK4 * Step maximum: 0.000272 < 0.0018 => OK4 * All criteria matched"
          ]
        }
      ]
    },
    {
      "cell_type": "code",
      "source": [
        "hcoh_b3lyp_opt = b3lyp_hcoh.Gradients().optimizer(solver='geomeTRIC').kernel()"
      ],
      "metadata": {
        "colab": {
          "base_uri": "https://localhost:8080/"
        },
        "id": "T-ihT0eOPPHp",
        "outputId": "710efd61-e12b-4379-851d-0e62b5819056"
      },
      "execution_count": null,
      "outputs": [
        {
          "output_type": "stream",
          "name": "stderr",
          "text": [
            "geometric-optimize called with the following command line:\n",
            "/usr/local/lib/python3.11/dist-packages/colab_kernel_launcher.py -f /root/.local/share/jupyter/runtime/kernel-5a1718ce-10f0-4cf6-bc84-581707384c7f.json\n",
            "\n",
            "                                        \u001b[91m())))))))))))))))/\u001b[0m                     \n",
            "                                    \u001b[91m())))))))))))))))))))))))),\u001b[0m                \n",
            "                                \u001b[91m*)))))))))))))))))))))))))))))))))\u001b[0m             \n",
            "                        \u001b[94m#,\u001b[0m    \u001b[91m()))))))))/\u001b[0m                \u001b[91m.)))))))))),\u001b[0m          \n",
            "                      \u001b[94m#%%%%,\u001b[0m  \u001b[91m())))))\u001b[0m                        \u001b[91m.))))))))*\u001b[0m        \n",
            "                      \u001b[94m*%%%%%%,\u001b[0m  \u001b[91m))\u001b[0m              \u001b[93m..\u001b[0m              \u001b[91m,))))))).\u001b[0m      \n",
            "                        \u001b[94m*%%%%%%,\u001b[0m         \u001b[93m***************/.\u001b[0m        \u001b[91m.)))))))\u001b[0m     \n",
            "                \u001b[94m#%%/\u001b[0m      \u001b[94m(%%%%%%,\u001b[0m    \u001b[93m/*********************.\u001b[0m       \u001b[91m)))))))\u001b[0m    \n",
            "              \u001b[94m.%%%%%%#\u001b[0m      \u001b[94m*%%%%%%,\u001b[0m  \u001b[93m*******/,\u001b[0m     \u001b[93m**********,\u001b[0m      \u001b[91m.))))))\u001b[0m   \n",
            "                \u001b[94m.%%%%%%/\u001b[0m      \u001b[94m*%%%%%%,\u001b[0m  \u001b[93m**\u001b[0m              \u001b[93m********\u001b[0m      \u001b[91m.))))))\u001b[0m  \n",
            "          \u001b[94m##\u001b[0m      \u001b[94m.%%%%%%/\u001b[0m      \u001b[94m(%%%%%%,\u001b[0m                  \u001b[93m,******\u001b[0m      \u001b[91m/)))))\u001b[0m  \n",
            "        \u001b[94m%%%%%%\u001b[0m      \u001b[94m.%%%%%%#\u001b[0m      \u001b[94m*%%%%%%,\u001b[0m    \u001b[92m,/////.\u001b[0m       \u001b[93m******\u001b[0m      \u001b[91m))))))\u001b[0m \n",
            "      \u001b[94m#%\u001b[0m      \u001b[94m%%\u001b[0m      \u001b[94m.%%%%%%/\u001b[0m      \u001b[94m*%%%%%%,\u001b[0m  \u001b[92m////////,\u001b[0m      \u001b[93m*****/\u001b[0m     \u001b[91m,)))))\u001b[0m \n",
            "    \u001b[94m#%%\u001b[0m  \u001b[94m%%%\u001b[0m  \u001b[94m%%%#\u001b[0m      \u001b[94m.%%%%%%/\u001b[0m      \u001b[94m(%%%%%%,\u001b[0m  \u001b[92m///////.\u001b[0m     \u001b[93m/*****\u001b[0m      \u001b[91m))))).\u001b[0m\n",
            "  \u001b[94m#%%%%.\u001b[0m      \u001b[94m%%%%%#\u001b[0m      \u001b[94m/%%%%%%*\u001b[0m      \u001b[94m#%%%%%%\u001b[0m   \u001b[92m/////)\u001b[0m     \u001b[93m******\u001b[0m      \u001b[91m))))),\u001b[0m\n",
            "    \u001b[94m#%%%%##%\u001b[0m  \u001b[94m%%%#\u001b[0m      \u001b[94m.%%%%%%/\u001b[0m      \u001b[94m(%%%%%%,\u001b[0m  \u001b[92m///////.\u001b[0m     \u001b[93m/*****\u001b[0m      \u001b[91m))))).\u001b[0m\n",
            "      \u001b[94m##\u001b[0m     \u001b[94m%%%\u001b[0m      \u001b[94m.%%%%%%/\u001b[0m      \u001b[94m*%%%%%%,\u001b[0m  \u001b[92m////////.\u001b[0m      \u001b[93m*****/\u001b[0m     \u001b[91m,)))))\u001b[0m \n",
            "        \u001b[94m#%%%%#\u001b[0m      \u001b[94m/%%%%%%/\u001b[0m      \u001b[94m(%%%%%%\u001b[0m      \u001b[92m/)/)//\u001b[0m       \u001b[93m******\u001b[0m      \u001b[91m))))))\u001b[0m \n",
            "          \u001b[94m##\u001b[0m      \u001b[94m.%%%%%%/\u001b[0m      \u001b[94m(%%%%%%,\u001b[0m                  \u001b[93m*******\u001b[0m      \u001b[91m))))))\u001b[0m  \n",
            "                \u001b[94m.%%%%%%/\u001b[0m      \u001b[94m*%%%%%%,\u001b[0m  \u001b[93m**.\u001b[0m             \u001b[93m/*******\u001b[0m      \u001b[91m.))))))\u001b[0m  \n",
            "              \u001b[94m*%%%%%%/\u001b[0m      \u001b[94m(%%%%%%\u001b[0m   \u001b[93m********/*..,*/*********\u001b[0m       \u001b[91m*))))))\u001b[0m   \n",
            "                \u001b[94m#%%/\u001b[0m      \u001b[94m(%%%%%%,\u001b[0m    \u001b[93m*********************/\u001b[0m        \u001b[91m)))))))\u001b[0m    \n",
            "                        \u001b[94m*%%%%%%,\u001b[0m         \u001b[93m,**************/\u001b[0m         \u001b[91m,))))))/\u001b[0m     \n",
            "                      \u001b[94m(%%%%%%\u001b[0m   \u001b[91m()\u001b[0m                              \u001b[91m))))))))\u001b[0m       \n",
            "                      \u001b[94m#%%%%,\u001b[0m  \u001b[91m())))))\u001b[0m                        \u001b[91m,)))))))),\u001b[0m        \n",
            "                        \u001b[94m#,\u001b[0m    \u001b[91m())))))))))\u001b[0m                \u001b[91m,)))))))))).\u001b[0m          \n",
            "                                 \u001b[91m()))))))))))))))))))))))))))))))/\u001b[0m             \n",
            "                                    \u001b[91m())))))))))))))))))))))))).\u001b[0m                \n",
            "                                         \u001b[91m())))))))))))))),\u001b[0m                     \n",
            "\n",
            "-=# \u001b[1;94m geomeTRIC started. Version: 1.1 \u001b[0m #=-\n",
            "Current date and time: 2025-03-27 09:58:49\n",
            "#========================================================#\n",
            "#| \u001b[92m    Arguments passed to driver run_optimizer():     \u001b[0m |#\n",
            "#========================================================#\n",
            "customengine              <pyscf.geomopt.geometric_solver.PySCFEngine object at 0x79b130104890> \n",
            "input                     /tmp/tmp6s54utf7/faa17f26-ea5c-4c17-97dd-e1b626d3bdae \n",
            "logIni                    /usr/local/lib/python3.11/dist-packages/pyscf/geomopt/log.ini \n",
            "----------------------------------------------------------\n",
            "Custom engine selected.\n",
            "Bonds will be generated from interatomic distances less than 1.20 times sum of covalent radii\n",
            "12 internal coordinates being used (instead of 12 Cartesians)\n",
            "Internal coordinate system (atoms numbered from 1):\n",
            "Distance 1-2\n",
            "Distance 2-3\n",
            "Distance 2-4\n",
            "Angle 1-2-4\n",
            "Angle 3-2-4\n",
            "Out-of-Plane 2-1-3-4\n",
            "Translation-X 1-4\n",
            "Translation-Y 1-4\n",
            "Translation-Z 1-4\n",
            "Rotation-A 1-4\n",
            "Rotation-B 1-4\n",
            "Rotation-C 1-4\n",
            "<class 'geometric.internal.Distance'> : 3\n",
            "<class 'geometric.internal.Angle'> : 2\n",
            "<class 'geometric.internal.OutOfPlane'> : 1\n",
            "<class 'geometric.internal.TranslationX'> : 1\n",
            "<class 'geometric.internal.TranslationY'> : 1\n",
            "<class 'geometric.internal.TranslationZ'> : 1\n",
            "<class 'geometric.internal.RotationA'> : 1\n",
            "<class 'geometric.internal.RotationB'> : 1\n",
            "<class 'geometric.internal.RotationC'> : 1\n",
            "> ===== Optimization Info: ====\n",
            "> Job type: Energy minimization\n",
            "> Maximum number of optimization cycles: 300\n",
            "> Initial / maximum trust radius (Angstrom): 0.100 / 0.300\n",
            "> Convergence Criteria:\n",
            "> Will converge when all 5 criteria are reached:\n",
            ">  |Delta-E| < 1.00e-06\n",
            ">  RMS-Grad  < 3.00e-04\n",
            ">  Max-Grad  < 4.50e-04\n",
            ">  RMS-Disp  < 1.20e-03\n",
            ">  Max-Disp  < 1.80e-03\n",
            "> === End Optimization Info ===\n"
          ]
        },
        {
          "output_type": "stream",
          "name": "stdout",
          "text": [
            "\n",
            "Geometry optimization cycle 1\n",
            "Cartesian coordinates (Angstrom)\n",
            " Atom        New coordinates             dX        dY        dZ\n",
            "   O   0.000000   0.000000   0.000000    0.000000  0.000000  0.000000\n",
            "   C   1.210000   0.000000   0.000000    0.000000  0.000000  0.000000\n",
            "   H   1.765000   0.000000   0.961288    0.000000  0.000000  0.000000\n",
            "   H   1.765000  -0.000000  -0.961288    0.000000  0.000000  0.000000\n",
            "converged SCF energy = -114.54875217442\n",
            "--------------- SymAdaptedRKS_Scanner gradients ---------------\n",
            "         x                y                z\n",
            "0 O    -0.0138520193     0.0000000000    -0.0000000000\n",
            "1 C     0.0210254167     0.0000000000     0.0000000000\n",
            "2 H    -0.0035823315     0.0000000000     0.0061338876\n",
            "3 H    -0.0035823315    -0.0000000000    -0.0061338876\n",
            "----------------------------------------------\n",
            "cycle 1: E = -114.548752174  dE = -114.549  norm(grad) = 0.0271083\n"
          ]
        },
        {
          "output_type": "stream",
          "name": "stderr",
          "text": [
            "Step    0 : Gradient = 1.355e-02/2.103e-02 (rms/max) Energy = -114.5487521744\n",
            "Hessian Eigenvalues: 4.50000e-02 5.00000e-02 5.00000e-02 ... 3.26000e-01 3.26000e-01 9.99547e-01\n"
          ]
        },
        {
          "output_type": "stream",
          "name": "stdout",
          "text": [
            "\n",
            "Geometry optimization cycle 2\n",
            "Cartesian coordinates (Angstrom)\n",
            " Atom        New coordinates             dX        dY        dZ\n",
            "   O  -0.011945  -0.000000  -0.018808   -0.011945 -0.000000 -0.018808\n",
            "   C   1.190323  -0.000000   0.012081   -0.019677 -0.000000  0.012081\n",
            "   H   1.794405  -0.000000   0.936491    0.029405 -0.000000 -0.024798\n",
            "   H   1.766847  -0.000000  -0.929763    0.001847 -0.000000  0.031525\n",
            "converged SCF energy = -114.549379095696\n",
            "--------------- SymAdaptedRKS_Scanner gradients ---------------\n",
            "         x                y                z\n",
            "0 O    -0.0052937044     0.0000000000    -0.0000000000\n",
            "1 C     0.0054168995     0.0000000000     0.0000000000\n",
            "2 H    -0.0000579020    -0.0000000000    -0.0015945915\n",
            "3 H    -0.0000579020     0.0000000000     0.0015945915\n",
            "----------------------------------------------\n",
            "cycle 2: E = -114.549379096  dE = -0.000626921  norm(grad) = 0.00790305\n"
          ]
        },
        {
          "output_type": "stream",
          "name": "stderr",
          "text": [
            "Step    1 : Displace = \u001b[0m2.961e-02\u001b[0m/\u001b[0m3.854e-02\u001b[0m (rms/max) Trust = 1.000e-01 (=) Grad = \u001b[0m3.952e-03\u001b[0m/\u001b[0m5.417e-03\u001b[0m (rms/max) E (change) = -114.5493790957 (\u001b[0m-6.269e-04\u001b[0m) Quality = \u001b[0m0.953\u001b[0m\n",
            "Hessian Eigenvalues: 4.50000e-02 4.99890e-02 5.00000e-02 ... 3.26000e-01 3.44245e-01 9.09278e-01\n"
          ]
        },
        {
          "output_type": "stream",
          "name": "stdout",
          "text": [
            "\n",
            "Geometry optimization cycle 3\n",
            "Cartesian coordinates (Angstrom)\n",
            " Atom        New coordinates             dX        dY        dZ\n",
            "   O  -0.008829  -0.000000  -0.020254    0.003116 -0.000000 -0.020254\n",
            "   C   1.190535  -0.000000   0.011377    0.000211 -0.000000  0.011377\n",
            "   H   1.789828  -0.000000   0.941151    0.009202 -0.000000  0.008024\n",
            "   H   1.767790  -0.000000  -0.932275   -0.012836 -0.000000  0.000852\n",
            "converged SCF energy = -114.549406851134\n",
            "--------------- SymAdaptedRKS_Scanner gradients ---------------\n",
            "         x                y                z\n",
            "0 O    -0.0004149866     0.0000000000    -0.0000000000\n",
            "1 C     0.0007950761     0.0000000000     0.0000000000\n",
            "2 H    -0.0001863609    -0.0000000000    -0.0003109902\n",
            "3 H    -0.0001863609     0.0000000000     0.0003109902\n",
            "----------------------------------------------\n",
            "cycle 3: E = -114.549406851  dE = -2.77554e-05  norm(grad) = 0.00103308\n"
          ]
        },
        {
          "output_type": "stream",
          "name": "stderr",
          "text": [
            "Step    2 : Displace = \u001b[0m3.330e-03\u001b[0m/\u001b[0m4.181e-03\u001b[0m (rms/max) Trust = 1.414e-01 (\u001b[92m+\u001b[0m) Grad = \u001b[0m5.165e-04\u001b[0m/\u001b[0m7.951e-04\u001b[0m (rms/max) E (change) = -114.5494068511 (\u001b[0m-2.776e-05\u001b[0m) Quality = \u001b[0m1.104\u001b[0m\n",
            "Hessian Eigenvalues: 4.50000e-02 4.98595e-02 5.00000e-02 ... 3.10291e-01 3.26001e-01 8.80885e-01\n"
          ]
        },
        {
          "output_type": "stream",
          "name": "stdout",
          "text": [
            "\n",
            "Geometry optimization cycle 4\n",
            "Cartesian coordinates (Angstrom)\n",
            " Atom        New coordinates             dX        dY        dZ\n",
            "   O  -0.008906  -0.000000  -0.020688   -0.000077 -0.000000 -0.020688\n",
            "   C   1.190142  -0.000000   0.011435   -0.000393 -0.000000  0.011435\n",
            "   H   1.789677  -0.000000   0.941826    0.010868 -0.000000  0.005113\n",
            "   H   1.768060  -0.000000  -0.932573   -0.010750 -0.000000  0.004140\n",
            "converged SCF energy = -114.549407439867\n",
            "--------------- SymAdaptedRKS_Scanner gradients ---------------\n",
            "         x                y                z\n",
            "0 O     0.0000031044     0.0000000000     0.0000000000\n",
            "1 C     0.0000209565     0.0000000000     0.0000000000\n",
            "2 H    -0.0000083603    -0.0000000000    -0.0000073277\n",
            "3 H    -0.0000083603     0.0000000000     0.0000073277\n",
            "----------------------------------------------\n",
            "cycle 4: E = -114.54940744  dE = -5.88733e-07  norm(grad) = 2.63816e-05\n"
          ]
        },
        {
          "output_type": "stream",
          "name": "stderr",
          "text": [
            "Step    3 : Displace = \u001b[92m3.941e-04\u001b[0m/\u001b[92m5.405e-04\u001b[0m (rms/max) Trust = 2.000e-01 (\u001b[92m+\u001b[0m) Grad = \u001b[92m1.319e-05\u001b[0m/\u001b[92m2.096e-05\u001b[0m (rms/max) E (change) = -114.5494074399 (\u001b[92m-5.887e-07\u001b[0m) Quality = \u001b[0m1.030\u001b[0m\n",
            "Hessian Eigenvalues: 4.50000e-02 4.98595e-02 5.00000e-02 ... 3.10291e-01 3.26001e-01 8.80885e-01\n",
            "Converged! =D\n",
            "\n",
            "    #==========================================================================#\n",
            "    #| If this code has benefited your research, please support us by citing: |#\n",
            "    #|                                                                        |#\n",
            "    #| Wang, L.-P.; Song, C.C. (2016) \"Geometry optimization made simple with |#\n",
            "    #| translation and rotation coordinates\", J. Chem, Phys. 144, 214108.     |#\n",
            "    #| http://dx.doi.org/10.1063/1.4952956                                    |#\n",
            "    #==========================================================================#\n",
            "    Time elapsed since start of run_optimizer: 30.329 seconds\n"
          ]
        }
      ]
    },
    {
      "cell_type": "code",
      "source": [
        "hcoh_ccsd_opt = ccsd_hcoh.Gradients().optimizer(solver='geomeTRIC').kernel()"
      ],
      "metadata": {
        "colab": {
          "base_uri": "https://localhost:8080/"
        },
        "id": "v5KBM0NtTUJc",
        "outputId": "9a0f3065-1d99-46a9-ea6b-7b23c89732ae"
      },
      "execution_count": null,
      "outputs": [
        {
          "output_type": "stream",
          "name": "stderr",
          "text": [
            "geometric-optimize called with the following command line:\n",
            "/usr/local/lib/python3.11/dist-packages/colab_kernel_launcher.py -f /root/.local/share/jupyter/runtime/kernel-5a1718ce-10f0-4cf6-bc84-581707384c7f.json\n",
            "\n",
            "                                        \u001b[91m())))))))))))))))/\u001b[0m                     \n",
            "                                    \u001b[91m())))))))))))))))))))))))),\u001b[0m                \n",
            "                                \u001b[91m*)))))))))))))))))))))))))))))))))\u001b[0m             \n",
            "                        \u001b[94m#,\u001b[0m    \u001b[91m()))))))))/\u001b[0m                \u001b[91m.)))))))))),\u001b[0m          \n",
            "                      \u001b[94m#%%%%,\u001b[0m  \u001b[91m())))))\u001b[0m                        \u001b[91m.))))))))*\u001b[0m        \n",
            "                      \u001b[94m*%%%%%%,\u001b[0m  \u001b[91m))\u001b[0m              \u001b[93m..\u001b[0m              \u001b[91m,))))))).\u001b[0m      \n",
            "                        \u001b[94m*%%%%%%,\u001b[0m         \u001b[93m***************/.\u001b[0m        \u001b[91m.)))))))\u001b[0m     \n",
            "                \u001b[94m#%%/\u001b[0m      \u001b[94m(%%%%%%,\u001b[0m    \u001b[93m/*********************.\u001b[0m       \u001b[91m)))))))\u001b[0m    \n",
            "              \u001b[94m.%%%%%%#\u001b[0m      \u001b[94m*%%%%%%,\u001b[0m  \u001b[93m*******/,\u001b[0m     \u001b[93m**********,\u001b[0m      \u001b[91m.))))))\u001b[0m   \n",
            "                \u001b[94m.%%%%%%/\u001b[0m      \u001b[94m*%%%%%%,\u001b[0m  \u001b[93m**\u001b[0m              \u001b[93m********\u001b[0m      \u001b[91m.))))))\u001b[0m  \n",
            "          \u001b[94m##\u001b[0m      \u001b[94m.%%%%%%/\u001b[0m      \u001b[94m(%%%%%%,\u001b[0m                  \u001b[93m,******\u001b[0m      \u001b[91m/)))))\u001b[0m  \n",
            "        \u001b[94m%%%%%%\u001b[0m      \u001b[94m.%%%%%%#\u001b[0m      \u001b[94m*%%%%%%,\u001b[0m    \u001b[92m,/////.\u001b[0m       \u001b[93m******\u001b[0m      \u001b[91m))))))\u001b[0m \n",
            "      \u001b[94m#%\u001b[0m      \u001b[94m%%\u001b[0m      \u001b[94m.%%%%%%/\u001b[0m      \u001b[94m*%%%%%%,\u001b[0m  \u001b[92m////////,\u001b[0m      \u001b[93m*****/\u001b[0m     \u001b[91m,)))))\u001b[0m \n",
            "    \u001b[94m#%%\u001b[0m  \u001b[94m%%%\u001b[0m  \u001b[94m%%%#\u001b[0m      \u001b[94m.%%%%%%/\u001b[0m      \u001b[94m(%%%%%%,\u001b[0m  \u001b[92m///////.\u001b[0m     \u001b[93m/*****\u001b[0m      \u001b[91m))))).\u001b[0m\n",
            "  \u001b[94m#%%%%.\u001b[0m      \u001b[94m%%%%%#\u001b[0m      \u001b[94m/%%%%%%*\u001b[0m      \u001b[94m#%%%%%%\u001b[0m   \u001b[92m/////)\u001b[0m     \u001b[93m******\u001b[0m      \u001b[91m))))),\u001b[0m\n",
            "    \u001b[94m#%%%%##%\u001b[0m  \u001b[94m%%%#\u001b[0m      \u001b[94m.%%%%%%/\u001b[0m      \u001b[94m(%%%%%%,\u001b[0m  \u001b[92m///////.\u001b[0m     \u001b[93m/*****\u001b[0m      \u001b[91m))))).\u001b[0m\n",
            "      \u001b[94m##\u001b[0m     \u001b[94m%%%\u001b[0m      \u001b[94m.%%%%%%/\u001b[0m      \u001b[94m*%%%%%%,\u001b[0m  \u001b[92m////////.\u001b[0m      \u001b[93m*****/\u001b[0m     \u001b[91m,)))))\u001b[0m \n",
            "        \u001b[94m#%%%%#\u001b[0m      \u001b[94m/%%%%%%/\u001b[0m      \u001b[94m(%%%%%%\u001b[0m      \u001b[92m/)/)//\u001b[0m       \u001b[93m******\u001b[0m      \u001b[91m))))))\u001b[0m \n",
            "          \u001b[94m##\u001b[0m      \u001b[94m.%%%%%%/\u001b[0m      \u001b[94m(%%%%%%,\u001b[0m                  \u001b[93m*******\u001b[0m      \u001b[91m))))))\u001b[0m  \n",
            "                \u001b[94m.%%%%%%/\u001b[0m      \u001b[94m*%%%%%%,\u001b[0m  \u001b[93m**.\u001b[0m             \u001b[93m/*******\u001b[0m      \u001b[91m.))))))\u001b[0m  \n",
            "              \u001b[94m*%%%%%%/\u001b[0m      \u001b[94m(%%%%%%\u001b[0m   \u001b[93m********/*..,*/*********\u001b[0m       \u001b[91m*))))))\u001b[0m   \n",
            "                \u001b[94m#%%/\u001b[0m      \u001b[94m(%%%%%%,\u001b[0m    \u001b[93m*********************/\u001b[0m        \u001b[91m)))))))\u001b[0m    \n",
            "                        \u001b[94m*%%%%%%,\u001b[0m         \u001b[93m,**************/\u001b[0m         \u001b[91m,))))))/\u001b[0m     \n",
            "                      \u001b[94m(%%%%%%\u001b[0m   \u001b[91m()\u001b[0m                              \u001b[91m))))))))\u001b[0m       \n",
            "                      \u001b[94m#%%%%,\u001b[0m  \u001b[91m())))))\u001b[0m                        \u001b[91m,)))))))),\u001b[0m        \n",
            "                        \u001b[94m#,\u001b[0m    \u001b[91m())))))))))\u001b[0m                \u001b[91m,)))))))))).\u001b[0m          \n",
            "                                 \u001b[91m()))))))))))))))))))))))))))))))/\u001b[0m             \n",
            "                                    \u001b[91m())))))))))))))))))))))))).\u001b[0m                \n",
            "                                         \u001b[91m())))))))))))))),\u001b[0m                     \n",
            "\n",
            "-=# \u001b[1;94m geomeTRIC started. Version: 1.1 \u001b[0m #=-\n",
            "Current date and time: 2025-03-27 10:06:27\n",
            "#========================================================#\n",
            "#| \u001b[92m    Arguments passed to driver run_optimizer():     \u001b[0m |#\n",
            "#========================================================#\n",
            "customengine              <pyscf.geomopt.geometric_solver.PySCFEngine object at 0x79b13012acd0> \n",
            "input                     /tmp/tmpwpmfbsgw/05d57a0d-3969-4364-8c6e-abac8ed70033 \n",
            "logIni                    /usr/local/lib/python3.11/dist-packages/pyscf/geomopt/log.ini \n",
            "----------------------------------------------------------\n",
            "Custom engine selected.\n",
            "Bonds will be generated from interatomic distances less than 1.20 times sum of covalent radii\n",
            "12 internal coordinates being used (instead of 12 Cartesians)\n",
            "Internal coordinate system (atoms numbered from 1):\n",
            "Distance 1-2\n",
            "Distance 2-3\n",
            "Distance 2-4\n",
            "Angle 1-2-4\n",
            "Angle 3-2-4\n",
            "Out-of-Plane 2-1-3-4\n",
            "Translation-X 1-4\n",
            "Translation-Y 1-4\n",
            "Translation-Z 1-4\n",
            "Rotation-A 1-4\n",
            "Rotation-B 1-4\n",
            "Rotation-C 1-4\n",
            "<class 'geometric.internal.Distance'> : 3\n",
            "<class 'geometric.internal.Angle'> : 2\n",
            "<class 'geometric.internal.OutOfPlane'> : 1\n",
            "<class 'geometric.internal.TranslationX'> : 1\n",
            "<class 'geometric.internal.TranslationY'> : 1\n",
            "<class 'geometric.internal.TranslationZ'> : 1\n",
            "<class 'geometric.internal.RotationA'> : 1\n",
            "<class 'geometric.internal.RotationB'> : 1\n",
            "<class 'geometric.internal.RotationC'> : 1\n",
            "> ===== Optimization Info: ====\n",
            "> Job type: Energy minimization\n",
            "> Maximum number of optimization cycles: 300\n",
            "> Initial / maximum trust radius (Angstrom): 0.100 / 0.300\n",
            "> Convergence Criteria:\n",
            "> Will converge when all 5 criteria are reached:\n",
            ">  |Delta-E| < 1.00e-06\n",
            ">  RMS-Grad  < 3.00e-04\n",
            ">  Max-Grad  < 4.50e-04\n",
            ">  RMS-Disp  < 1.20e-03\n",
            ">  Max-Disp  < 1.80e-03\n",
            "> === End Optimization Info ===\n"
          ]
        },
        {
          "output_type": "stream",
          "name": "stdout",
          "text": [
            "\n",
            "Geometry optimization cycle 1\n",
            "Cartesian coordinates (Angstrom)\n",
            " Atom        New coordinates             dX        dY        dZ\n",
            "   O   0.000000   0.000000   0.000000    0.000000  0.000000  0.000000\n",
            "   C   1.210000   0.000000   0.000000    0.000000  0.000000  0.000000\n",
            "   H   1.765000   0.000000   0.961288    0.000000  0.000000  0.000000\n",
            "   H   1.765000  -0.000000  -0.961288    0.000000  0.000000  0.000000\n",
            "converged SCF energy = -113.910581741567\n",
            "E(CCSD_Scanner) = -114.344863310445  E_corr = -0.4342815688780536\n",
            "--------------- CCSD_Scanner gradients ---------------\n",
            "         x                y                z\n",
            "0 O    -0.0141877436     0.0000000000    -0.0000000000\n",
            "1 C     0.0149345135     0.0000000000     0.0000000000\n",
            "2 H    -0.0003733849     0.0000000000     0.0112128224\n",
            "3 H    -0.0003733849    -0.0000000000    -0.0112128224\n",
            "----------------------------------------------\n",
            "cycle 1: E = -114.34486331  dE = -114.345  norm(grad) = 0.0260013\n"
          ]
        },
        {
          "output_type": "stream",
          "name": "stderr",
          "text": [
            "Step    0 : Gradient = 1.300e-02/1.493e-02 (rms/max) Energy = -114.3448633104\n",
            "Hessian Eigenvalues: 4.50000e-02 5.00000e-02 5.00000e-02 ... 3.26000e-01 3.26000e-01 9.99547e-01\n"
          ]
        },
        {
          "output_type": "stream",
          "name": "stdout",
          "text": [
            "\n",
            "Geometry optimization cycle 2\n",
            "Cartesian coordinates (Angstrom)\n",
            " Atom        New coordinates             dX        dY        dZ\n",
            "   O  -0.008410  -0.000000  -0.018023   -0.008410 -0.000000 -0.018023\n",
            "   C   1.193715  -0.000000   0.011559   -0.016285 -0.000000  0.011559\n",
            "   H   1.790557   0.000000   0.929055    0.025557 -0.000000 -0.032233\n",
            "   H   1.764138  -0.000000  -0.922591   -0.000862  0.000000  0.038697\n",
            "converged SCF energy = -113.912132830521\n",
            "E(CCSD_Scanner) = -114.345639901345  E_corr = -0.4335070708237566\n",
            "--------------- CCSD_Scanner gradients ---------------\n",
            "         x                y                z\n",
            "0 O    -0.0038764960     0.0000000000    -0.0000000000\n",
            "1 C     0.0032433323     0.0000000000     0.0000000000\n",
            "2 H     0.0003165818    -0.0000000000    -0.0017498041\n",
            "3 H     0.0003165818     0.0000000000     0.0017498041\n",
            "----------------------------------------------\n",
            "cycle 2: E = -114.345639901  dE = -0.000776591  norm(grad) = 0.0056454\n"
          ]
        },
        {
          "output_type": "stream",
          "name": "stderr",
          "text": [
            "Step    1 : Displace = \u001b[0m3.156e-02\u001b[0m/\u001b[0m4.114e-02\u001b[0m (rms/max) Trust = 1.000e-01 (=) Grad = \u001b[0m2.823e-03\u001b[0m/\u001b[0m3.876e-03\u001b[0m (rms/max) E (change) = -114.3456399013 (\u001b[0m-7.766e-04\u001b[0m) Quality = \u001b[0m0.901\u001b[0m\n",
            "Hessian Eigenvalues: 4.50000e-02 4.99966e-02 5.00000e-02 ... 3.25998e-01 3.43126e-01 9.39973e-01\n"
          ]
        },
        {
          "output_type": "stream",
          "name": "stdout",
          "text": [
            "\n",
            "Geometry optimization cycle 3\n",
            "Cartesian coordinates (Angstrom)\n",
            " Atom        New coordinates             dX        dY        dZ\n",
            "   O  -0.004599  -0.000000  -0.017274    0.003811 -0.000000 -0.017274\n",
            "   C   1.195624  -0.000000   0.009913    0.001909 -0.000000  0.009913\n",
            "   H   1.784463   0.000000   0.934472    0.007116 -0.000000  0.008649\n",
            "   H   1.764512  -0.000000  -0.927110   -0.012836  0.000000 -0.001287\n",
            "converged SCF energy = -113.912303659576\n",
            "E(CCSD_Scanner) = -114.3456657984998  E_corr = -0.4333621389236063\n",
            "--------------- CCSD_Scanner gradients ---------------\n",
            "         x                y                z\n",
            "0 O    -0.0001914506     0.0000000000    -0.0000000000\n",
            "1 C     0.0006207022     0.0000000000     0.0000000000\n",
            "2 H    -0.0002146258    -0.0000000000    -0.0001299379\n",
            "3 H    -0.0002146258     0.0000000000     0.0001299379\n",
            "----------------------------------------------\n",
            "cycle 3: E = -114.345665798  dE = -2.58972e-05  norm(grad) = 0.000740149\n"
          ]
        },
        {
          "output_type": "stream",
          "name": "stderr",
          "text": [
            "Step    2 : Displace = \u001b[0m4.993e-03\u001b[0m/\u001b[0m6.501e-03\u001b[0m (rms/max) Trust = 1.414e-01 (\u001b[92m+\u001b[0m) Grad = \u001b[0m3.701e-04\u001b[0m/\u001b[0m6.207e-04\u001b[0m (rms/max) E (change) = -114.3456657985 (\u001b[0m-2.590e-05\u001b[0m) Quality = \u001b[0m0.985\u001b[0m\n",
            "Hessian Eigenvalues: 4.50000e-02 4.99278e-02 5.00000e-02 ... 3.22271e-01 3.26007e-01 9.07666e-01\n"
          ]
        },
        {
          "output_type": "stream",
          "name": "stdout",
          "text": [
            "\n",
            "Geometry optimization cycle 4\n",
            "Cartesian coordinates (Angstrom)\n",
            " Atom        New coordinates             dX        dY        dZ\n",
            "   O  -0.004879  -0.000000  -0.017737   -0.000281 -0.000000 -0.017737\n",
            "   C   1.195195  -0.000000   0.010109   -0.000429 -0.000000  0.010109\n",
            "   H   1.784909   0.000000   0.934571    0.010422  0.000000  0.003780\n",
            "   H   1.764775  -0.000000  -0.926943   -0.009712  0.000000  0.003848\n",
            "converged SCF energy = -113.912307973273\n",
            "E(CCSD_Scanner) = -114.3456662452603  E_corr = -0.4333582719870867\n",
            "--------------- CCSD_Scanner gradients ---------------\n",
            "         x                y                z\n",
            "0 O    -0.0000646707     0.0000000000    -0.0000000000\n",
            "1 C     0.0000952934     0.0000000000     0.0000000000\n",
            "2 H    -0.0000153114    -0.0000000000    -0.0000029858\n",
            "3 H    -0.0000153114     0.0000000000     0.0000029858\n",
            "----------------------------------------------\n",
            "cycle 4: E = -114.345666245  dE = -4.4676e-07  norm(grad) = 0.00011726\n"
          ]
        },
        {
          "output_type": "stream",
          "name": "stderr",
          "text": [
            "Step    3 : Displace = \u001b[92m4.322e-04\u001b[0m/\u001b[92m5.766e-04\u001b[0m (rms/max) Trust = 2.000e-01 (\u001b[92m+\u001b[0m) Grad = \u001b[92m5.863e-05\u001b[0m/\u001b[92m9.529e-05\u001b[0m (rms/max) E (change) = -114.3456662453 (\u001b[92m-4.468e-07\u001b[0m) Quality = \u001b[0m1.328\u001b[0m\n",
            "Hessian Eigenvalues: 4.50000e-02 4.99278e-02 5.00000e-02 ... 3.22271e-01 3.26007e-01 9.07666e-01\n",
            "Converged! =D\n",
            "\n",
            "    #==========================================================================#\n",
            "    #| If this code has benefited your research, please support us by citing: |#\n",
            "    #|                                                                        |#\n",
            "    #| Wang, L.-P.; Song, C.C. (2016) \"Geometry optimization made simple with |#\n",
            "    #| translation and rotation coordinates\", J. Chem, Phys. 144, 214108.     |#\n",
            "    #| http://dx.doi.org/10.1063/1.4952956                                    |#\n",
            "    #==========================================================================#\n",
            "    Time elapsed since start of run_optimizer: 130.794 seconds\n"
          ]
        }
      ]
    },
    {
      "cell_type": "code",
      "source": [
        "print(hcoh_ccsd_opt.tostring())"
      ],
      "metadata": {
        "colab": {
          "base_uri": "https://localhost:8080/"
        },
        "id": "fLGVHYYIFGxB",
        "outputId": "923fd193-7583-48f7-a028-b311cc73d1f1"
      },
      "execution_count": null,
      "outputs": [
        {
          "output_type": "stream",
          "name": "stdout",
          "text": [
            "O          -0.00488        0.00000       -0.00000\n",
            "C           1.19519        0.00000        0.00000\n",
            "H           1.77484        0.00000        0.93076\n",
            "H           1.77484       -0.00000       -0.93076\n"
          ]
        }
      ]
    },
    {
      "cell_type": "code",
      "source": [
        "hcoh_opt = gto.Mole(atom=hcoh_hf_opt_geomtric.tostring(), unit='Angstrom', basis='ccpvtz', charge=0, spin=0)\n",
        "hcoh_opt.build()\n",
        "hf_freq = scf.RHF(hcoh_opt).run()\n",
        "hcoh_eph = eph.EPH(hf_freq)\n",
        "start_hf_eph = time.time()\n",
        "ephmat, omega = hcoh_eph.kernel()\n",
        "print(f'HF electron-phonon coupling done in {(time.time()-start_hf_eph):.3f} seconds')\n",
        "omega"
      ],
      "metadata": {
        "colab": {
          "base_uri": "https://localhost:8080/"
        },
        "id": "QldgpIxPVijh",
        "outputId": "b6317f25-51a6-4fa1-bfc1-7bcf321d3818"
      },
      "execution_count": null,
      "outputs": [
        {
          "output_type": "stream",
          "name": "stdout",
          "text": [
            "converged SCF energy = -113.913225324369\n",
            "HF electron-phonon coupling done in 52.138 seconds\n"
          ]
        },
        {
          "output_type": "execute_result",
          "data": {
            "text/plain": [
              "array([0.0143573 , 0.01405037, 0.00907648, 0.00752758, 0.00623918,\n",
              "       0.00608878])"
            ]
          },
          "metadata": {},
          "execution_count": 105
        }
      ]
    },
    {
      "cell_type": "code",
      "source": [
        "omega*219474.63"
      ],
      "metadata": {
        "colab": {
          "base_uri": "https://localhost:8080/"
        },
        "id": "5m4ijE2vYYZa",
        "outputId": "e44d17f1-1e9a-4440-c7ee-c12e6476865d"
      },
      "execution_count": null,
      "outputs": [
        {
          "output_type": "execute_result",
          "data": {
            "text/plain": [
              "array([3151.06293881, 3083.69943781, 1992.05680977, 1652.11343237,\n",
              "       1369.34213752, 1336.33361884])"
            ]
          },
          "metadata": {},
          "execution_count": 106
        }
      ]
    },
    {
      "cell_type": "code",
      "source": [
        "hcoh_opt = gto.Mole(atom=hcoh_b3lyp_opt.tostring(), unit='Angstrom', basis='ccpvtz', charge=0, spin=0)\n",
        "hcoh_opt.build()\n",
        "ks_freq = dft.RKS(hcoh_opt, xc='B3LYP').run()\n",
        "hcoh_eph = eph.EPH(ks_freq)\n",
        "start_ks_eph = time.time()\n",
        "ephmat, omega = hcoh_eph.kernel()\n",
        "print(f'HF electron-phonon coupling done in {(time.time()-start_ks_eph):.3f} seconds')\n",
        "omega"
      ],
      "metadata": {
        "colab": {
          "base_uri": "https://localhost:8080/"
        },
        "id": "UYfy9_CJJaMD",
        "outputId": "630a8e95-3987-4105-fb02-2cae39de1af4"
      },
      "execution_count": null,
      "outputs": [
        {
          "output_type": "stream",
          "name": "stdout",
          "text": [
            "converged SCF energy = -114.54940743995\n",
            "HF electron-phonon coupling done in 73.438 seconds\n"
          ]
        },
        {
          "output_type": "execute_result",
          "data": {
            "text/plain": [
              "array([0.01335299, 0.013111  , 0.00828241, 0.00699951, 0.0057738 ,\n",
              "       0.00547556])"
            ]
          },
          "metadata": {},
          "execution_count": 108
        }
      ]
    },
    {
      "cell_type": "code",
      "source": [
        "omega*219474.63"
      ],
      "metadata": {
        "colab": {
          "base_uri": "https://localhost:8080/"
        },
        "id": "Sp_EzyXFKItK",
        "outputId": "49ed7923-3677-4366-a05e-5f3566f724eb"
      },
      "execution_count": null,
      "outputs": [
        {
          "output_type": "execute_result",
          "data": {
            "text/plain": [
              "array([2930.64263018, 2877.53158117, 1817.7788907 , 1536.21383822,\n",
              "       1267.20275743, 1201.74702272])"
            ]
          },
          "metadata": {},
          "execution_count": 109
        }
      ]
    },
    {
      "cell_type": "code",
      "source": [
        "hcoh_opt = gto.Mole(atom=hcoh_b3lyp_opt.tostring(), unit='Angstrom', basis='ccpvtz', charge=0, spin=0)\n",
        "hcoh_opt.build()\n",
        "hcoh_ks = dft.RKS(hcoh_opt, xc='B3LYP').run()\n",
        "hcoh_mp2_opt = mp.MP2(hcoh_ks).run()\n",
        "hcoh_ccsd_opt = cc.CCSD(hcoh_ks.to_hf()).run()\n",
        "hcoh_ccsd_opt.ccsd_t()"
      ],
      "metadata": {
        "colab": {
          "base_uri": "https://localhost:8080/"
        },
        "id": "3bikyrQJMo9S",
        "outputId": "90807326-c96f-4f77-8505-c287ca5854f6"
      },
      "execution_count": null,
      "outputs": [
        {
          "output_type": "stream",
          "name": "stdout",
          "text": [
            "converged SCF energy = -114.54940743995\n",
            "E(MP2) = -115.151385823635  E_corr = -0.601978383684932\n",
            "E(SCS-MP2) = -115.146207717614  E_corr = -0.596800277663408\n",
            "E(CCSD) = -114.3439940977523  E_corr = -0.4482897620088517\n",
            "CCSD(T) correction = -0.0192242098218655\n"
          ]
        },
        {
          "output_type": "execute_result",
          "data": {
            "text/plain": [
              "np.float64(-0.019224209821865523)"
            ]
          },
          "metadata": {},
          "execution_count": 111
        }
      ]
    },
    {
      "cell_type": "markdown",
      "source": [
        "Д/з до 03.04.2025\n",
        "\n",
        "\n",
        "1.   Рассчитать методами (ограниченными и неограниченными) MP2 и CCSD/CCSD(T) молекулу из 1 задания Д/з №2 с теми же 3 базисными наборами. Сравнить результаты расчетов и время выполнения.\n",
        "2.   Оптимизировать молекулу из 1 задания Д/з №2 любыми 3 функционалами плотности с теми же 3 базисными наборами. Сравнить результаты расчетов и время выполнения."
      ],
      "metadata": {
        "id": "13FrIbZwvnXg"
      }
    }
  ]
}