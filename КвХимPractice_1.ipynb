{
  "nbformat": 4,
  "nbformat_minor": 0,
  "metadata": {
    "colab": {
      "provenance": [],
      "include_colab_link": true
    },
    "kernelspec": {
      "name": "python3",
      "display_name": "Python 3"
    },
    "language_info": {
      "name": "python"
    }
  },
  "cells": [
    {
      "cell_type": "markdown",
      "metadata": {
        "id": "view-in-github",
        "colab_type": "text"
      },
      "source": [
        "<a href=\"https://colab.research.google.com/github/Boyakin/qChem/blob/main/%D0%9A%D0%B2%D0%A5%D0%B8%D0%BCPractice_1.ipynb\" target=\"_parent\"><img src=\"https://colab.research.google.com/assets/colab-badge.svg\" alt=\"Open In Colab\"/></a>"
      ]
    },
    {
      "cell_type": "code",
      "execution_count": null,
      "metadata": {
        "colab": {
          "base_uri": "https://localhost:8080/"
        },
        "id": "JGsZwAvt0oH0",
        "outputId": "27ca3d9c-07ac-4028-ced1-82ffdc47ca7a"
      },
      "outputs": [
        {
          "output_type": "stream",
          "name": "stdout",
          "text": [
            "Requirement already satisfied: pyscf in /usr/local/lib/python3.11/dist-packages (2.8.0)\n",
            "Requirement already satisfied: numpy!=1.16,!=1.17,>=1.13 in /usr/local/lib/python3.11/dist-packages (from pyscf) (2.0.2)\n",
            "Requirement already satisfied: scipy>=1.6.0 in /usr/local/lib/python3.11/dist-packages (from pyscf) (1.14.1)\n",
            "Requirement already satisfied: h5py>=2.7 in /usr/local/lib/python3.11/dist-packages (from pyscf) (3.12.1)\n",
            "Requirement already satisfied: setuptools in /usr/local/lib/python3.11/dist-packages (from pyscf) (75.1.0)\n"
          ]
        }
      ],
      "source": [
        "%pip install pyscf"
      ]
    },
    {
      "cell_type": "code",
      "source": [
        "import numpy as np\n",
        "from pyscf import gto, scf, ci, fci, mcscf\n",
        "import time"
      ],
      "metadata": {
        "id": "9TMfyXQc1Txu"
      },
      "execution_count": null,
      "outputs": []
    },
    {
      "cell_type": "code",
      "source": [
        "rco = 1.21\n",
        "rch = 1.11\n",
        "ahch = 120.\n",
        "\n",
        "geom_zmat = f'''\n",
        "O\n",
        "C   1   {rco}\n",
        "H   2   {rch}   1   {ahch}\n",
        "H   2   {rch}   1   {ahch}  3 180.\n",
        "'''\n",
        "\n",
        "geom_xyz = f'''\n",
        "O   0.     0.    {rco}\n",
        "C   0.     0.    0.\n",
        "H   {rch*np.sin(ahch/2)}     0.    {-rch*np.cos(ahch/2)}\n",
        "H   {-rch*np.sin(ahch/2)}     0.    {-rch*np.cos(ahch/2)}\n",
        "'''\n"
      ],
      "metadata": {
        "id": "Fzuijcpi1xLw"
      },
      "execution_count": null,
      "outputs": []
    },
    {
      "cell_type": "code",
      "source": [
        "hcoh0 = gto.Mole()\n",
        "hcoh0.atom = geom_zmat\n",
        "hcoh0.unit = 'Angstrom'\n",
        "hcoh0.basis = 'ccpvtz'\n",
        "hcoh0.symmetry = True\n",
        "hcoh0.charge = 0\n",
        "hcoh0.spin = 0 # указывается 2*S - число неспаренных электронов\n",
        "hcoh0.build()\n",
        "hcoh0.groupname"
      ],
      "metadata": {
        "colab": {
          "base_uri": "https://localhost:8080/",
          "height": 35
        },
        "id": "FuSk3I1f3u6V",
        "outputId": "1d6d1a99-e0ff-4f04-8190-c1df894ac7d1"
      },
      "execution_count": null,
      "outputs": [
        {
          "output_type": "execute_result",
          "data": {
            "text/plain": [
              "'C2v'"
            ],
            "application/vnd.google.colaboratory.intrinsic+json": {
              "type": "string"
            }
          },
          "metadata": {},
          "execution_count": 4
        }
      ]
    },
    {
      "cell_type": "markdown",
      "source": [
        "* RHF - restricted Hartree-Fock (ограниченный метод Хартри-Фока)\n",
        "* UHF - unrestricted Hartree-Fock (неограниченный метод Хартри-Фока)\n",
        "* ROHF - restricted open-shell Hartree-Fock (ограниченный метод Хартри-Фока с открытыми оболочками)\n",
        "\n",
        "\n"
      ],
      "metadata": {
        "id": "ghquXzGBkfGh"
      }
    },
    {
      "cell_type": "code",
      "source": [
        "hf_hcoh0 = scf.UHF(hcoh0)\n",
        "start_hf = time.time()\n",
        "hf_hcoh0.kernel()\n",
        "print(f'HF done in {(time.time()-start_hf):.3f} seconds')\n",
        "# hf_hcoh0.analyze()\n",
        "e0 = hf_hcoh0.e_tot"
      ],
      "metadata": {
        "colab": {
          "base_uri": "https://localhost:8080/"
        },
        "id": "W0bXYqsr6Sqh",
        "outputId": "0727fac7-fb84-4cf5-d308-47dbc61ae47e"
      },
      "execution_count": null,
      "outputs": [
        {
          "output_type": "stream",
          "name": "stdout",
          "text": [
            "converged SCF energy = -113.910581741566  <S^2> = 1.7106494e-10  2S+1 = 1\n",
            "HF done in 6.055 seconds\n"
          ]
        }
      ]
    },
    {
      "cell_type": "code",
      "source": [
        "hf_hcoh0.analyze()"
      ],
      "metadata": {
        "colab": {
          "base_uri": "https://localhost:8080/"
        },
        "id": "aF0VF_DRl-Lg",
        "outputId": "c097b843-42e1-48a5-9f18-f56b137d94f1"
      },
      "execution_count": null,
      "outputs": [
        {
          "output_type": "stream",
          "name": "stdout",
          "text": [
            "Wave-function symmetry = A1\n",
            "alpha occupancy for each irrep:     A1   A2   B1   B2\n",
            "                                     5    0    1    2\n",
            "beta  occupancy for each irrep:     A1   A2   B1   B2\n",
            "                                     5    0    1    2\n",
            "**** MO energy ****\n",
            "alpha MO #1 (A1 #1), energy= -20.5733479270622 occ= 1\n",
            "alpha MO #2 (A1 #2), energy= -11.3409947055538 occ= 1\n",
            "alpha MO #3 (A1 #3), energy= -1.40099851864209 occ= 1\n",
            "alpha MO #4 (A1 #4), energy= -0.864115075248191 occ= 1\n",
            "alpha MO #5 (B2 #1), energy= -0.694225336115896 occ= 1\n",
            "alpha MO #6 (A1 #5), energy= -0.645580314156852 occ= 1\n",
            "alpha MO #7 (B1 #1), energy= -0.532248020651721 occ= 1\n",
            "alpha MO #8 (B2 #2), energy= -0.44132370006936 occ= 1\n",
            "alpha MO #9 (B1 #2), energy= 0.118743630773506 occ= 0\n",
            "alpha MO #10 (A1 #6), energy= 0.147642084154303 occ= 0\n",
            "alpha MO #11 (B2 #3), energy= 0.203365962243223 occ= 0\n",
            "alpha MO #12 (A1 #7), energy= 0.268696473584633 occ= 0\n",
            "alpha MO #13 (A1 #8), energy= 0.426224221270586 occ= 0\n",
            "alpha MO #14 (B1 #3), energy= 0.444463793580709 occ= 0\n",
            "alpha MO #15 (B2 #4), energy= 0.466699236350954 occ= 0\n",
            "alpha MO #16 (A1 #9), energy= 0.585478358135509 occ= 0\n",
            "alpha MO #17 (B2 #5), energy= 0.625959826547334 occ= 0\n",
            "alpha MO #18 (A1 #10), energy= 0.69019928468944 occ= 0\n",
            "alpha MO #19 (A2 #1), energy= 0.700876744179645 occ= 0\n",
            "alpha MO #20 (A1 #11), energy= 0.738738080521794 occ= 0\n",
            "alpha MO #21 (B1 #4), energy= 0.868557290182589 occ= 0\n",
            "alpha MO #22 (B2 #6), energy= 0.894621232684671 occ= 0\n",
            "alpha MO #23 (B1 #5), energy= 0.951104241903812 occ= 0\n",
            "alpha MO #24 (A1 #12), energy= 1.01741116805372 occ= 0\n",
            "alpha MO #25 (B2 #7), energy= 1.04042088709728 occ= 0\n",
            "alpha MO #26 (A2 #2), energy= 1.18880177776077 occ= 0\n",
            "alpha MO #27 (B1 #6), energy= 1.19608108978348 occ= 0\n",
            "alpha MO #28 (A1 #13), energy= 1.223636188867 occ= 0\n",
            "alpha MO #29 (A1 #14), energy= 1.33380735406177 occ= 0\n",
            "alpha MO #30 (B2 #8), energy= 1.35126422590465 occ= 0\n",
            "alpha MO #31 (B2 #9), energy= 1.46465724098315 occ= 0\n",
            "alpha MO #32 (A1 #15), energy= 1.628287211357 occ= 0\n",
            "alpha MO #33 (A1 #16), energy= 1.76191580927429 occ= 0\n",
            "alpha MO #34 (A2 #3), energy= 1.95218163049311 occ= 0\n",
            "alpha MO #35 (A1 #17), energy= 1.98675212297306 occ= 0\n",
            "alpha MO #36 (B1 #7), energy= 2.16598567910029 occ= 0\n",
            "alpha MO #37 (B2 #10), energy= 2.31217788307852 occ= 0\n",
            "alpha MO #38 (A1 #18), energy= 2.32819254064472 occ= 0\n",
            "alpha MO #39 (B1 #8), energy= 2.35071918645003 occ= 0\n",
            "alpha MO #40 (A1 #19), energy= 2.50898907653315 occ= 0\n",
            "alpha MO #41 (B2 #11), energy= 2.64460910693915 occ= 0\n",
            "alpha MO #42 (A1 #20), energy= 2.84398616361232 occ= 0\n",
            "alpha MO #43 (B2 #12), energy= 2.84786118125956 occ= 0\n",
            "alpha MO #44 (A2 #4), energy= 2.92175530461873 occ= 0\n",
            "alpha MO #45 (B1 #9), energy= 3.02707580380171 occ= 0\n",
            "alpha MO #46 (B2 #13), energy= 3.11006131585087 occ= 0\n",
            "alpha MO #47 (A1 #21), energy= 3.16780286407544 occ= 0\n",
            "alpha MO #48 (B1 #10), energy= 3.22922700720154 occ= 0\n",
            "alpha MO #49 (A2 #5), energy= 3.24714537497803 occ= 0\n",
            "alpha MO #50 (A1 #22), energy= 3.4473691365655 occ= 0\n",
            "alpha MO #51 (B2 #14), energy= 3.45854878760946 occ= 0\n",
            "alpha MO #52 (B1 #11), energy= 3.50331844802849 occ= 0\n",
            "alpha MO #53 (B2 #15), energy= 3.57732405882679 occ= 0\n",
            "alpha MO #54 (A1 #23), energy= 3.60120813501829 occ= 0\n",
            "alpha MO #55 (A2 #6), energy= 3.6473131917944 occ= 0\n",
            "alpha MO #56 (A1 #24), energy= 3.72051795783039 occ= 0\n",
            "alpha MO #57 (B2 #16), energy= 3.90343147722338 occ= 0\n",
            "alpha MO #58 (B1 #12), energy= 3.98261892055877 occ= 0\n",
            "alpha MO #59 (A1 #25), energy= 4.1485581051933 occ= 0\n",
            "alpha MO #60 (B2 #17), energy= 4.15844447606928 occ= 0\n",
            "alpha MO #61 (A2 #7), energy= 4.1751970391716 occ= 0\n",
            "alpha MO #62 (B1 #13), energy= 4.24972060411222 occ= 0\n",
            "alpha MO #63 (A1 #26), energy= 4.36626858558354 occ= 0\n",
            "alpha MO #64 (B1 #14), energy= 4.49788277601715 occ= 0\n",
            "alpha MO #65 (A1 #27), energy= 4.7550166847363 occ= 0\n",
            "alpha MO #66 (B2 #18), energy= 4.80099368079366 occ= 0\n",
            "alpha MO #67 (B1 #15), energy= 4.91531161762951 occ= 0\n",
            "alpha MO #68 (B2 #19), energy= 5.02780873979739 occ= 0\n",
            "alpha MO #69 (A1 #28), energy= 5.0293861829729 occ= 0\n",
            "alpha MO #70 (A2 #8), energy= 5.04573252666973 occ= 0\n",
            "alpha MO #71 (A1 #29), energy= 5.3462022712622 occ= 0\n",
            "alpha MO #72 (B2 #20), energy= 5.44473030037891 occ= 0\n",
            "alpha MO #73 (A1 #30), energy= 5.60037700068886 occ= 0\n",
            "alpha MO #74 (B1 #16), energy= 5.6691266864608 occ= 0\n",
            "alpha MO #75 (B2 #21), energy= 5.68894156092644 occ= 0\n",
            "alpha MO #76 (B2 #22), energy= 5.98403205360212 occ= 0\n",
            "alpha MO #77 (A2 #9), energy= 6.09126864626138 occ= 0\n",
            "alpha MO #78 (A1 #31), energy= 6.2873453133901 occ= 0\n",
            "alpha MO #79 (B1 #17), energy= 6.5978324380982 occ= 0\n",
            "alpha MO #80 (A1 #32), energy= 6.61406830192425 occ= 0\n",
            "alpha MO #81 (A2 #10), energy= 6.8596583392424 occ= 0\n",
            "alpha MO #82 (A1 #33), energy= 6.8917270428719 occ= 0\n",
            "alpha MO #83 (B1 #18), energy= 7.28906481555034 occ= 0\n",
            "alpha MO #84 (B2 #23), energy= 7.39094702707389 occ= 0\n",
            "alpha MO #85 (B2 #24), energy= 7.48117744606431 occ= 0\n",
            "alpha MO #86 (A1 #34), energy= 7.51667666019364 occ= 0\n",
            "alpha MO #87 (A1 #35), energy= 10.9914112759733 occ= 0\n",
            "alpha MO #88 (A1 #36), energy= 13.3190052946767 occ= 0\n",
            "beta  MO #1 (A1 #1), energy= -20.5733472893286 occ= 1\n",
            "beta  MO #2 (A1 #2), energy= -11.3409950293852 occ= 1\n",
            "beta  MO #3 (A1 #3), energy= -1.40099720106684 occ= 1\n",
            "beta  MO #4 (A1 #4), energy= -0.864115517515605 occ= 1\n",
            "beta  MO #5 (B2 #1), energy= -0.694225297458413 occ= 1\n",
            "beta  MO #6 (A1 #5), energy= -0.645579888139791 occ= 1\n",
            "beta  MO #7 (B1 #1), energy= -0.53224520343851 occ= 1\n",
            "beta  MO #8 (B2 #2), energy= -0.44132295620036 occ= 1\n",
            "beta  MO #9 (B1 #2), energy= 0.118744101154812 occ= 0\n",
            "beta  MO #10 (A1 #6), energy= 0.147641942873306 occ= 0\n",
            "beta  MO #11 (B2 #3), energy= 0.20336589972943 occ= 0\n",
            "beta  MO #12 (A1 #7), energy= 0.268696419752579 occ= 0\n",
            "beta  MO #13 (A1 #8), energy= 0.42622386555773 occ= 0\n",
            "beta  MO #14 (B1 #3), energy= 0.44446231896471 occ= 0\n",
            "beta  MO #15 (B2 #4), energy= 0.466699248126293 occ= 0\n",
            "beta  MO #16 (A1 #9), energy= 0.585478056189641 occ= 0\n",
            "beta  MO #17 (B2 #5), energy= 0.625959714609774 occ= 0\n",
            "beta  MO #18 (A1 #10), energy= 0.690199127119605 occ= 0\n",
            "beta  MO #19 (A2 #1), energy= 0.700876167281874 occ= 0\n",
            "beta  MO #20 (A1 #11), energy= 0.738738025112184 occ= 0\n",
            "beta  MO #21 (B1 #4), energy= 0.868558899494542 occ= 0\n",
            "beta  MO #22 (B2 #6), energy= 0.894621324563258 occ= 0\n",
            "beta  MO #23 (B1 #5), energy= 0.951104031504769 occ= 0\n",
            "beta  MO #24 (A1 #12), energy= 1.01741077052223 occ= 0\n",
            "beta  MO #25 (B2 #7), energy= 1.04042091635081 occ= 0\n",
            "beta  MO #26 (A2 #2), energy= 1.1888016241352 occ= 0\n",
            "beta  MO #27 (B1 #6), energy= 1.1960810538272 occ= 0\n",
            "beta  MO #28 (A1 #13), energy= 1.22363631515315 occ= 0\n",
            "beta  MO #29 (A1 #14), energy= 1.33380745662319 occ= 0\n",
            "beta  MO #30 (B2 #8), energy= 1.35126425778802 occ= 0\n",
            "beta  MO #31 (B2 #9), energy= 1.46465715426812 occ= 0\n",
            "beta  MO #32 (A1 #15), energy= 1.62828715397219 occ= 0\n",
            "beta  MO #33 (A1 #16), energy= 1.76191634316644 occ= 0\n",
            "beta  MO #34 (A2 #3), energy= 1.95218239839204 occ= 0\n",
            "beta  MO #35 (A1 #17), energy= 1.98675233943901 occ= 0\n",
            "beta  MO #36 (B1 #7), energy= 2.16598599655193 occ= 0\n",
            "beta  MO #37 (B2 #10), energy= 2.31217792334777 occ= 0\n",
            "beta  MO #38 (A1 #18), energy= 2.32819269359476 occ= 0\n",
            "beta  MO #39 (B1 #8), energy= 2.35071820413018 occ= 0\n",
            "beta  MO #40 (A1 #19), energy= 2.50898903955806 occ= 0\n",
            "beta  MO #41 (B2 #11), energy= 2.64460883066369 occ= 0\n",
            "beta  MO #42 (A1 #20), energy= 2.84398589108053 occ= 0\n",
            "beta  MO #43 (B2 #12), energy= 2.84786103918684 occ= 0\n",
            "beta  MO #44 (A2 #4), energy= 2.92175486106267 occ= 0\n",
            "beta  MO #45 (B1 #9), energy= 3.02707537526453 occ= 0\n",
            "beta  MO #46 (B2 #13), energy= 3.11006117830558 occ= 0\n",
            "beta  MO #47 (A1 #21), energy= 3.16780213642982 occ= 0\n",
            "beta  MO #48 (B1 #10), energy= 3.22922649147916 occ= 0\n",
            "beta  MO #49 (A2 #5), energy= 3.2471448644763 occ= 0\n",
            "beta  MO #50 (A1 #22), energy= 3.44736895942274 occ= 0\n",
            "beta  MO #51 (B2 #14), energy= 3.45854878711435 occ= 0\n",
            "beta  MO #52 (B1 #11), energy= 3.50331872277992 occ= 0\n",
            "beta  MO #53 (B2 #15), energy= 3.5773240380499 occ= 0\n",
            "beta  MO #54 (A1 #23), energy= 3.60120810818888 occ= 0\n",
            "beta  MO #55 (A2 #6), energy= 3.64731313806231 occ= 0\n",
            "beta  MO #56 (A1 #24), energy= 3.72051797938962 occ= 0\n",
            "beta  MO #57 (B2 #16), energy= 3.90343140793656 occ= 0\n",
            "beta  MO #58 (B1 #12), energy= 3.9826190568111 occ= 0\n",
            "beta  MO #59 (A1 #25), energy= 4.14855817239608 occ= 0\n",
            "beta  MO #60 (B2 #17), energy= 4.15844464110492 occ= 0\n",
            "beta  MO #61 (A2 #7), energy= 4.17519707216845 occ= 0\n",
            "beta  MO #62 (B1 #13), energy= 4.24972066015954 occ= 0\n",
            "beta  MO #63 (A1 #26), energy= 4.36626866530103 occ= 0\n",
            "beta  MO #64 (B1 #14), energy= 4.49788414283988 occ= 0\n",
            "beta  MO #65 (A1 #27), energy= 4.75501669271594 occ= 0\n",
            "beta  MO #66 (B2 #18), energy= 4.8009939539434 occ= 0\n",
            "beta  MO #67 (B1 #15), energy= 4.91531154218094 occ= 0\n",
            "beta  MO #68 (B2 #19), energy= 5.02780873829436 occ= 0\n",
            "beta  MO #69 (A1 #28), energy= 5.02938631451498 occ= 0\n",
            "beta  MO #70 (A2 #8), energy= 5.04573235728839 occ= 0\n",
            "beta  MO #71 (A1 #29), energy= 5.34620225219596 occ= 0\n",
            "beta  MO #72 (B2 #20), energy= 5.44473042951561 occ= 0\n",
            "beta  MO #73 (A1 #30), energy= 5.60037731256509 occ= 0\n",
            "beta  MO #74 (B1 #16), energy= 5.66912743588844 occ= 0\n",
            "beta  MO #75 (B2 #21), energy= 5.68894225851354 occ= 0\n",
            "beta  MO #76 (B2 #22), energy= 5.98403199510956 occ= 0\n",
            "beta  MO #77 (A2 #9), energy= 6.09126911133816 occ= 0\n",
            "beta  MO #78 (A1 #31), energy= 6.28734579385016 occ= 0\n",
            "beta  MO #79 (B1 #17), energy= 6.59783317421268 occ= 0\n",
            "beta  MO #80 (A1 #32), energy= 6.61406851384593 occ= 0\n",
            "beta  MO #81 (A2 #10), energy= 6.85965976966674 occ= 0\n",
            "beta  MO #82 (A1 #33), energy= 6.89172832761953 occ= 0\n",
            "beta  MO #83 (B1 #18), energy= 7.28906578489277 occ= 0\n",
            "beta  MO #84 (B2 #23), energy= 7.3909472744138 occ= 0\n",
            "beta  MO #85 (B2 #24), energy= 7.48117757650434 occ= 0\n",
            "beta  MO #86 (A1 #34), energy= 7.51667708352033 occ= 0\n",
            "beta  MO #87 (A1 #35), energy= 10.9914115767118 occ= 0\n",
            "beta  MO #88 (A1 #36), energy= 13.3190052937849 occ= 0\n",
            " ** Mulliken pop alpha/beta on meta-lowdin orthogonal AOs **\n",
            " ** Mulliken atomic charges   ( Nelec_alpha | Nelec_beta ) **\n",
            "charge of  0O =     -0.42856  (     4.21429      4.21428 )\n",
            "charge of  1C =      0.25939  (     2.87030      2.87031 )\n",
            "charge of  2H =      0.08459  (     0.45771      0.45771 )\n",
            "charge of  3H =      0.08459  (     0.45771      0.45771 )\n",
            "Dipole moment(X, Y, Z, Debye):  2.78758, -0.00000, -0.00000\n"
          ]
        },
        {
          "output_type": "execute_result",
          "data": {
            "text/plain": [
              "(((array([ 9.99996891e-01,  8.41261519e-01,  3.71444908e-03,  1.88472977e-04,\n",
              "           7.51069969e-01,  6.53872838e-01,  9.48863616e-01,  1.03713550e-03,\n",
              "           9.76217095e-06,  3.44353315e-03,  7.14111723e-05,  2.19474261e-04,\n",
              "           5.10630200e-04,  2.26090591e-03,  3.63358183e-26,  1.55178372e-03,\n",
              "           1.11840989e-03,  4.07054180e-03,  4.09796886e-05,  4.88722791e-26,\n",
              "           7.51153428e-05,  7.86928340e-05,  1.96601962e-04,  7.54545831e-05,\n",
              "           1.02474616e-25,  1.59599407e-05,  5.23372302e-05,  2.19319326e-04,\n",
              "           3.38977657e-05,  2.39306053e-04,  9.99993937e-01,  5.01876653e-01,\n",
              "           4.71838399e-03,  3.11151653e-04,  4.50884622e-01,  3.40642008e-01,\n",
              "           5.46984899e-01,  9.17491237e-03,  1.07773720e-05,  3.62654578e-03,\n",
              "           2.91627744e-04,  5.37901047e-06,  4.97866810e-04,  2.48993915e-03,\n",
              "           4.78850630e-23,  1.73086583e-03,  3.54872648e-03,  1.47013734e-03,\n",
              "           4.42706543e-05, -1.21160234e-23,  5.67744397e-05,  2.29611458e-04,\n",
              "           2.19476700e-05,  2.02829227e-04,  2.59993866e-23,  2.14165420e-06,\n",
              "           4.00791769e-06,  7.49108877e-04,  4.38089447e-04,  2.88725942e-04,\n",
              "           4.50501494e-01,  4.08066486e-03,  1.23629087e-03,  5.09920884e-04,\n",
              "           1.58830817e-06,  7.49342965e-04,  2.04337072e-04,  9.55041332e-06,\n",
              "           2.30980694e-04,  9.43055312e-08,  4.24069602e-05,  6.07594091e-05,\n",
              "           5.38824953e-05,  2.62131834e-05,  4.50501494e-01,  4.08066486e-03,\n",
              "           1.23629087e-03,  5.09920884e-04,  1.58830817e-06,  7.49342965e-04,\n",
              "           2.04337072e-04,  9.55041332e-06,  2.30980694e-04,  9.43055312e-08,\n",
              "           4.24069602e-05,  6.07594091e-05,  5.38824953e-05,  2.62131834e-05]),\n",
              "   array([ 9.99996891e-01,  8.41261044e-01,  3.71446146e-03,  1.88473150e-04,\n",
              "           7.51069697e-01,  6.53860656e-01,  9.48863405e-01,  1.03712770e-03,\n",
              "           9.76642664e-06,  3.44355922e-03,  7.14110665e-05,  2.19472819e-04,\n",
              "           5.10635021e-04,  2.26091082e-03,  2.50886222e-26,  1.55178420e-03,\n",
              "           1.11840877e-03,  4.07053472e-03,  4.09790881e-05,  5.13906412e-27,\n",
              "           7.51157960e-05,  7.86926784e-05,  1.96600743e-04,  7.54553187e-05,\n",
              "          -1.20601949e-25,  1.59592773e-05,  5.23363500e-05,  2.19319019e-04,\n",
              "           3.38987111e-05,  2.39307413e-04,  9.99993937e-01,  5.01877784e-01,\n",
              "           4.71837603e-03,  3.11152715e-04,  4.50885263e-01,  3.40654173e-01,\n",
              "           5.46985475e-01,  9.17492506e-03,  1.07851255e-05,  3.62654992e-03,\n",
              "           2.91626432e-04,  5.37894822e-06,  4.97868307e-04,  2.48994424e-03,\n",
              "           2.03673680e-23,  1.73085225e-03,  3.54874219e-03,  1.47011637e-03,\n",
              "           4.42698867e-05, -1.31971929e-23,  5.67746282e-05,  2.29609578e-04,\n",
              "           2.19474270e-05,  2.02826806e-04, -3.54956300e-23,  2.14179106e-06,\n",
              "           4.00803675e-06,  7.49113076e-04,  4.38087266e-04,  2.88723591e-04,\n",
              "           4.50500789e-01,  4.08065912e-03,  1.23629557e-03,  5.09921608e-04,\n",
              "           1.58761959e-06,  7.49344753e-04,  2.04337416e-04,  9.55037632e-06,\n",
              "           2.30980591e-04,  9.42962108e-08,  4.24076994e-05,  6.07594172e-05,\n",
              "           5.38826788e-05,  2.62130417e-05,  4.50500789e-01,  4.08065912e-03,\n",
              "           1.23629557e-03,  5.09921608e-04,  1.58761959e-06,  7.49344753e-04,\n",
              "           2.04337416e-04,  9.55037632e-06,  2.30980591e-04,  9.42962108e-08,\n",
              "           4.24076994e-05,  6.07594172e-05,  5.38826788e-05,  2.62130417e-05])),\n",
              "  array([-0.42856491,  0.25939361,  0.08458565,  0.08458565])),\n",
              " array([ 2.78757865e+00, -1.44338615e-17, -2.18091399e-15]))"
            ]
          },
          "metadata": {},
          "execution_count": 6
        }
      ]
    },
    {
      "cell_type": "code",
      "source": [
        "hcohp = gto.Mole() # создаем объект молекулы\n",
        "hcohp.atom = geom_zmat # задаем геометрию\n",
        "hcohp.unit = 'Angstrom' # задаем единицы измерения\n",
        "hcohp.basis = 'ccpvdz' # указываем базисный набор\n",
        "hcohp.symmetry = True # разрешаем использование симметрии\n",
        "hcohp.charge = 1\n",
        "hcohp.spin = 1\n",
        "hcohp.build() # строим молекулу\n",
        "\n",
        "hf_hcohp = scf.UHF(hcohp) # создаем объект \"расчета\" молекулы\n",
        "hf_hcohp.kernel() # запускаем расчет\n",
        "ep = hf_hcohp.e_tot\n",
        "ep-e0"
      ],
      "metadata": {
        "colab": {
          "base_uri": "https://localhost:8080/"
        },
        "id": "IzNBmKZI_tVn",
        "outputId": "120109f2-bfc0-448d-b52c-a213bac13aff"
      },
      "execution_count": null,
      "outputs": [
        {
          "output_type": "stream",
          "name": "stdout",
          "text": [
            "converged SCF energy = -113.533811219694  <S^2> = 0.78646198  2S+1 = 2.0361355\n"
          ]
        },
        {
          "output_type": "execute_result",
          "data": {
            "text/plain": [
              "np.float64(0.37677052187245863)"
            ]
          },
          "metadata": {},
          "execution_count": 7
        }
      ]
    },
    {
      "cell_type": "code",
      "source": [
        "nn = gto.Mole(atom=f'N; N 1 1.09', basis='ccpvtz', spin=0, charge=0, unit='Angstrom')\n",
        "nn.symmetry = 'Dooh'\n",
        "nn.build()\n",
        "hf = scf.RHF(nn)\n",
        "start_hf = time.time()\n",
        "hf.kernel()\n",
        "hf_time = time.time() - start_hf\n",
        "hf.analyze()"
      ],
      "metadata": {
        "colab": {
          "base_uri": "https://localhost:8080/"
        },
        "id": "-ZjOJJjNHfrs",
        "outputId": "36bf6c48-bd85-46af-b44b-e532d9f5f92e"
      },
      "execution_count": null,
      "outputs": [
        {
          "output_type": "stream",
          "name": "stdout",
          "text": [
            "converged SCF energy = -108.984799389699\n",
            "Wave-function symmetry id = 0\n",
            "occupancy for each irrep:    A1g E1gx E1gy  A1u E1uy E1ux E2gx E2gy E3gx E3gy E2uy E2ux E3uy E3ux\n",
            "                               3    0    0    2    1    1    0    0    0    0    0    0    0    0\n",
            "**** MO energy ****\n",
            "MO #1 (A1g #1), energy= -15.678899083605 occ= 2\n",
            "MO #2 (A1u #1), energy= -15.6751945490578 occ= 2\n",
            "MO #3 (A1g #2), energy= -1.47524142696735 occ= 2\n",
            "MO #4 (A1u #2), energy= -0.774931176978576 occ= 2\n",
            "MO #5 (A1g #3), energy= -0.633059313057439 occ= 2\n",
            "MO #6 (E1uy #1), energy= -0.615342704278363 occ= 2\n",
            "MO #7 (E1ux #1), energy= -0.615342704278363 occ= 2\n",
            "MO #8 (E1gx #1), energy= 0.165732750349518 occ= 0\n",
            "MO #9 (E1gy #1), energy= 0.165732750349518 occ= 0\n",
            "MO #10 (A1u #3), energy= 0.426258249197938 occ= 0\n",
            "MO #11 (A1g #4), energy= 0.560769681451597 occ= 0\n",
            "MO #12 (E1uy #2), energy= 0.561241259227503 occ= 0\n",
            "MO #13 (E1ux #2), energy= 0.561241259227503 occ= 0\n",
            "MO #14 (A1g #5), energy= 0.673196851160052 occ= 0\n",
            "MO #15 (E1gx #2), energy= 0.733339329138904 occ= 0\n",
            "MO #16 (E1gy #2), energy= 0.733339329138904 occ= 0\n",
            "MO #17 (A1u #4), energy= 0.929348251553661 occ= 0\n",
            "MO #18 (E2gx #1), energy= 1.04790666959558 occ= 0\n",
            "MO #19 (E2gy #1), energy= 1.04790666959558 occ= 0\n",
            "MO #20 (A1u #5), energy= 1.10052687936378 occ= 0\n",
            "MO #21 (E1uy #3), energy= 1.34817902362261 occ= 0\n",
            "MO #22 (E1ux #3), energy= 1.34817902362261 occ= 0\n",
            "MO #23 (E2uy #1), energy= 1.51589572909015 occ= 0\n",
            "MO #24 (E2ux #1), energy= 1.51589572909015 occ= 0\n",
            "MO #25 (A1g #6), energy= 1.93115361311611 occ= 0\n",
            "MO #26 (E1gx #3), energy= 1.94253776748612 occ= 0\n",
            "MO #27 (E1gy #3), energy= 1.94253776748612 occ= 0\n",
            "MO #28 (A1u #6), energy= 2.26716985676166 occ= 0\n",
            "MO #29 (E1uy #4), energy= 3.16522725728508 occ= 0\n",
            "MO #30 (E1ux #4), energy= 3.16522725728508 occ= 0\n",
            "MO #31 (A1g #7), energy= 3.30750642129251 occ= 0\n",
            "MO #32 (E1gx #4), energy= 3.51710874398589 occ= 0\n",
            "MO #33 (E1gy #4), energy= 3.51710874398589 occ= 0\n",
            "MO #34 (A1u #7), energy= 3.75115240844124 occ= 0\n",
            "MO #35 (E2gx #2), energy= 3.8314955806081 occ= 0\n",
            "MO #36 (E2gy #2), energy= 3.8314955806081 occ= 0\n",
            "MO #37 (E3uy #1), energy= 3.95434411203224 occ= 0\n",
            "MO #38 (E3ux #1), energy= 3.95434411203224 occ= 0\n",
            "MO #39 (E1uy #5), energy= 3.99519360354845 occ= 0\n",
            "MO #40 (E1ux #5), energy= 3.99519360354845 occ= 0\n",
            "MO #41 (A1g #8), energy= 4.40201098717693 occ= 0\n",
            "MO #42 (E3gx #1), energy= 4.45392588167175 occ= 0\n",
            "MO #43 (E3gy #1), energy= 4.45392588167175 occ= 0\n",
            "MO #44 (E2gx #3), energy= 4.77379248426404 occ= 0\n",
            "MO #45 (E2gy #3), energy= 4.77379248426404 occ= 0\n",
            "MO #46 (E1gx #5), energy= 4.87554254457561 occ= 0\n",
            "MO #47 (E1gy #5), energy= 4.87554254457561 occ= 0\n",
            "MO #48 (E2uy #2), energy= 4.90947421221329 occ= 0\n",
            "MO #49 (E2ux #2), energy= 4.90947421221329 occ= 0\n",
            "MO #50 (A1u #8), energy= 5.04646069727878 occ= 0\n",
            "MO #51 (E2uy #3), energy= 5.32704937007431 occ= 0\n",
            "MO #52 (E2ux #3), energy= 5.32704937007431 occ= 0\n",
            "MO #53 (E1uy #6), energy= 5.43151233984407 occ= 0\n",
            "MO #54 (E1ux #6), energy= 5.43151233984407 occ= 0\n",
            "MO #55 (A1g #9), energy= 5.54689842780479 occ= 0\n",
            "MO #56 (A1u #9), energy= 6.20889311190609 occ= 0\n",
            "MO #57 (E1gx #6), energy= 6.8953626485479 occ= 0\n",
            "MO #58 (E1gy #6), energy= 6.8953626485479 occ= 0\n",
            "MO #59 (A1g #10), energy= 7.07392166131946 occ= 0\n",
            "MO #60 (A1u #10), energy= 17.0026181254305 occ= 0\n",
            " ** Mulliken atomic charges  **\n",
            "charge of    0N =      0.00000\n",
            "charge of    1N =      0.00000\n",
            "Dipole moment(X, Y, Z, Debye):  0.00000, -0.00000,  0.00000\n"
          ]
        },
        {
          "output_type": "execute_result",
          "data": {
            "text/plain": [
              "((array([1.99998711e+00, 1.58303837e+00, 2.03240508e-02, 1.04461571e-04,\n",
              "         1.37499743e+00, 9.92696161e-01, 9.92696161e-01, 7.05101373e-03,\n",
              "         9.25056219e-05, 9.25056219e-05, 3.93968074e-05, 1.18286612e-04,\n",
              "         1.18286612e-04, 6.77520377e-03, 2.87743821e-34, 3.16864586e-03,\n",
              "         6.77520377e-03, 9.50593758e-03, 3.03936096e-06, 1.71598611e-33,\n",
              "         2.05369700e-05, 3.03936096e-06, 6.16109101e-05, 2.95128635e-04,\n",
              "         3.50904544e-34, 1.96752423e-05, 1.18051454e-04, 6.38037885e-04,\n",
              "         1.96752423e-04, 1.06339647e-03, 1.99998711e+00, 1.58303837e+00,\n",
              "         2.03240508e-02, 1.04461571e-04, 1.37499743e+00, 9.92696161e-01,\n",
              "         9.92696161e-01, 7.05101373e-03, 9.25056219e-05, 9.25056219e-05,\n",
              "         3.93968074e-05, 1.18286612e-04, 1.18286612e-04, 6.77520377e-03,\n",
              "         5.46230416e-34, 3.16864586e-03, 6.77520377e-03, 9.50593758e-03,\n",
              "         3.03936096e-06, 1.75742180e-34, 2.05369700e-05, 3.03936096e-06,\n",
              "         6.16109101e-05, 2.95128635e-04, 3.03317970e-34, 1.96752423e-05,\n",
              "         1.18051454e-04, 6.38037885e-04, 1.96752423e-04, 1.06339647e-03]),\n",
              "  array([1.77635684e-15, 3.55271368e-15])),\n",
              " array([ 9.03009726e-15, -2.79076005e-50,  7.01453353e-32]))"
            ]
          },
          "metadata": {},
          "execution_count": 8
        }
      ]
    },
    {
      "cell_type": "code",
      "source": [
        "cisd = ci.CISD(hf)\n",
        "start_cisd = time.time()\n",
        "cisd.kernel()\n",
        "cisd_time = time.time() - start_cisd"
      ],
      "metadata": {
        "colab": {
          "base_uri": "https://localhost:8080/"
        },
        "id": "jdltknuyJnQI",
        "outputId": "a5b1e4c1-a72a-484b-aa5a-1cb7c6bf8f7d"
      },
      "execution_count": null,
      "outputs": [
        {
          "output_type": "stream",
          "name": "stdout",
          "text": [
            "E(RCISD) = -109.3532748097458  E_corr = -0.3684754200465292\n"
          ]
        }
      ]
    },
    {
      "cell_type": "code",
      "source": [
        "print(f'HF done in {(hf_time):.3f} seconds')\n",
        "print(f'CISD done in {(cisd_time):.3f} seconds')"
      ],
      "metadata": {
        "colab": {
          "base_uri": "https://localhost:8080/"
        },
        "id": "T188NJBfKAPM",
        "outputId": "6c85c2e3-03eb-4be4-9277-53ac256b5dbd"
      },
      "execution_count": null,
      "outputs": [
        {
          "output_type": "stream",
          "name": "stdout",
          "text": [
            "HF done in 0.481 seconds\n",
            "CISD done in 2.070 seconds\n"
          ]
        }
      ]
    },
    {
      "cell_type": "code",
      "source": [
        "casscf_10_8 = mcscf.CASSCF(hf, 8, (5,5)) # 1 цифра - кол-во активных орбиталей, 2 цифра - кол-во электронов\n",
        "start_casscf_10_8 = time.time()\n",
        "casscf_10_8.kernel()\n",
        "casscf_10_8_time = time.time() - start_casscf_10_8"
      ],
      "metadata": {
        "colab": {
          "base_uri": "https://localhost:8080/"
        },
        "id": "InXsT5TuLLKJ",
        "outputId": "82401226-b755-4e6c-c4da-668e87c47e59"
      },
      "execution_count": null,
      "outputs": [
        {
          "output_type": "stream",
          "name": "stdout",
          "text": [
            "CASSCF energy = -109.131253014742\n",
            "CASCI E = -109.131253014742  E(CI) = -31.8686745868370  S^2 = 0.0000000\n"
          ]
        }
      ]
    },
    {
      "cell_type": "code",
      "source": [
        "casscf_6_6 = mcscf.CASSCF(hf, 6, (3,3)) # 1 цифра - кол-во активных орбиталей, 2 цифра - кол-во электронов\n",
        "start_casscf_6_6 = time.time()\n",
        "casscf_6_6.kernel()\n",
        "casscf_6_6_time = time.time() - start_casscf_6_6"
      ],
      "metadata": {
        "colab": {
          "base_uri": "https://localhost:8080/"
        },
        "id": "V-W6mULaQw1Z",
        "outputId": "37e9ba99-9120-439f-cde0-12e49d4180f9"
      },
      "execution_count": null,
      "outputs": [
        {
          "output_type": "stream",
          "name": "stdout",
          "text": [
            "CASSCF energy = -109.118931237720\n",
            "CASCI E = -109.118931237720  E(CI) = -13.7448539409922  S^2 = 0.0000000\n"
          ]
        }
      ]
    },
    {
      "cell_type": "code",
      "source": [
        "print(f'CASSCF done in {(casscf_10_8_time):.3f} seconds')\n",
        "print(f'CASSCF done in {(casscf_6_6_time):.3f} seconds')"
      ],
      "metadata": {
        "colab": {
          "base_uri": "https://localhost:8080/"
        },
        "id": "BbOerM2UQytt",
        "outputId": "de995a02-691e-42dd-d986-ba6162447695"
      },
      "execution_count": null,
      "outputs": [
        {
          "output_type": "stream",
          "name": "stdout",
          "text": [
            "CASSCF done in 3.910 seconds\n",
            "CASSCF done in 5.390 seconds\n"
          ]
        }
      ]
    },
    {
      "cell_type": "code",
      "source": [
        "casci_10_8 = mcscf.CASCI(hf, 8, 10) # 1 цифра - кол-во активных орбиталей, 2 цифра - кол-во электронов\n",
        "start_casci_10_8 = time.time()\n",
        "casci_10_8.kernel()\n",
        "casci_10_8_time = time.time() - start_casci_10_8"
      ],
      "metadata": {
        "colab": {
          "base_uri": "https://localhost:8080/"
        },
        "id": "xqoAtlKoRUkf",
        "outputId": "04136a76-df67-4724-9469-860762ee2a9a"
      },
      "execution_count": null,
      "outputs": [
        {
          "output_type": "stream",
          "name": "stdout",
          "text": [
            "CASCI E = -109.050122934549  E(CI) = -31.7203195307507  S^2 = 0.0000000\n"
          ]
        }
      ]
    },
    {
      "cell_type": "code",
      "source": [
        "print(f'CASCI done in {(casci_10_8_time):.3f} seconds')"
      ],
      "metadata": {
        "colab": {
          "base_uri": "https://localhost:8080/"
        },
        "id": "z8fEPstkSP2e",
        "outputId": "1fa72bb0-fbfe-45dd-ff86-6dfdc55aaffe"
      },
      "execution_count": null,
      "outputs": [
        {
          "output_type": "stream",
          "name": "stdout",
          "text": [
            "CASCI done in 0.114 seconds\n"
          ]
        }
      ]
    },
    {
      "cell_type": "markdown",
      "source": [
        "Д/з до 27.03.2025\n",
        "\n",
        "\n",
        "1.   Рассчитать методом (ограниченным и неограниченным) Хартри-Фока любую небольшую молекулу (до 10 атомов) любыми 3 базисными наборами. Сравнить результаты расчетов и время выполнения\n",
        "2.   Используя любой из 3 базисных наборов из предыдущего пункта, постройте кривую потенциальной энергии (КПЭ) для любой двухатомной молекулы для 4 методов: HF, CISD, CASSCF и CASCI."
      ],
      "metadata": {
        "id": "13FrIbZwvnXg"
      }
    }
  ]
}