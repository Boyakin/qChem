{
  "nbformat": 4,
  "nbformat_minor": 0,
  "metadata": {
    "colab": {
      "provenance": [],
      "gpuType": "T4",
      "include_colab_link": true
    },
    "kernelspec": {
      "name": "python3",
      "display_name": "Python 3"
    },
    "language_info": {
      "name": "python"
    },
    "accelerator": "GPU"
  },
  "cells": [
    {
      "cell_type": "markdown",
      "metadata": {
        "id": "view-in-github",
        "colab_type": "text"
      },
      "source": [
        "<a href=\"https://colab.research.google.com/github/Boyakin/qChem/blob/main/%D0%9A%D0%B2%D0%A5%D0%B8%D0%BCPractice_5_GPU.ipynb\" target=\"_parent\"><img src=\"https://colab.research.google.com/assets/colab-badge.svg\" alt=\"Open In Colab\"/></a>"
      ]
    },
    {
      "cell_type": "code",
      "execution_count": null,
      "metadata": {
        "colab": {
          "base_uri": "https://localhost:8080/"
        },
        "id": "5uKl2JId56zg",
        "outputId": "8c0c2e7a-097a-46a2-96a5-f13df7301da4"
      },
      "outputs": [
        {
          "output_type": "stream",
          "name": "stdout",
          "text": [
            "Collecting pyscf\n",
            "  Downloading pyscf-2.8.0-py3-none-manylinux_2_17_x86_64.manylinux2014_x86_64.whl.metadata (6.4 kB)\n",
            "Collecting geometric\n",
            "  Downloading geometric-1.1.tar.gz (386 kB)\n",
            "\u001b[2K     \u001b[90m━━━━━━━━━━━━━━━━━━━━━━━━━━━━━━━━━━━━━━\u001b[0m \u001b[32m386.0/386.0 kB\u001b[0m \u001b[31m16.0 MB/s\u001b[0m eta \u001b[36m0:00:00\u001b[0m\n",
            "\u001b[?25h  Preparing metadata (setup.py) ... \u001b[?25l\u001b[?25hdone\n",
            "Collecting gpu4pyscf-cuda12x\n",
            "  Downloading gpu4pyscf_cuda12x-1.4.0-py3-none-manylinux_2_17_x86_64.manylinux2014_x86_64.whl.metadata (338 bytes)\n",
            "Collecting cutensor-cu12\n",
            "  Downloading cutensor_cu12-2.2.0-py3-none-manylinux2014_x86_64.whl.metadata (2.2 kB)\n",
            "Requirement already satisfied: numpy!=1.16,!=1.17,>=1.13 in /usr/local/lib/python3.11/dist-packages (from pyscf) (2.0.2)\n",
            "Requirement already satisfied: scipy>=1.6.0 in /usr/local/lib/python3.11/dist-packages (from pyscf) (1.14.1)\n",
            "Requirement already satisfied: h5py>=2.7 in /usr/local/lib/python3.11/dist-packages (from pyscf) (3.13.0)\n",
            "Requirement already satisfied: setuptools in /usr/local/lib/python3.11/dist-packages (from pyscf) (75.2.0)\n",
            "Requirement already satisfied: networkx in /usr/local/lib/python3.11/dist-packages (from geometric) (3.4.2)\n",
            "Requirement already satisfied: six in /usr/local/lib/python3.11/dist-packages (from geometric) (1.17.0)\n",
            "Collecting pyscf-dispersion (from gpu4pyscf-cuda12x)\n",
            "  Downloading pyscf_dispersion-1.3.0-py3-none-manylinux_2_17_x86_64.manylinux2014_x86_64.whl.metadata (1.7 kB)\n",
            "Requirement already satisfied: cupy-cuda12x!=13.4.0,>=13.0 in /usr/local/lib/python3.11/dist-packages (from gpu4pyscf-cuda12x) (13.3.0)\n",
            "Collecting gpu4pyscf-libxc-cuda12x==0.5 (from gpu4pyscf-cuda12x)\n",
            "  Downloading gpu4pyscf_libxc_cuda12x-0.5-py3-none-manylinux_2_17_x86_64.manylinux2014_x86_64.whl.metadata (169 bytes)\n",
            "Requirement already satisfied: fastrlock>=0.5 in /usr/local/lib/python3.11/dist-packages (from cupy-cuda12x!=13.4.0,>=13.0->gpu4pyscf-cuda12x) (0.8.3)\n",
            "Downloading pyscf-2.8.0-py3-none-manylinux_2_17_x86_64.manylinux2014_x86_64.whl (50.9 MB)\n",
            "\u001b[2K   \u001b[90m━━━━━━━━━━━━━━━━━━━━━━━━━━━━━━━━━━━━━━━━\u001b[0m \u001b[32m50.9/50.9 MB\u001b[0m \u001b[31m4.9 MB/s\u001b[0m eta \u001b[36m0:00:00\u001b[0m\n",
            "\u001b[?25hDownloading gpu4pyscf_cuda12x-1.4.0-py3-none-manylinux_2_17_x86_64.manylinux2014_x86_64.whl (112.8 MB)\n",
            "\u001b[2K   \u001b[90m━━━━━━━━━━━━━━━━━━━━━━━━━━━━━━━━━━━━━━━━\u001b[0m \u001b[32m112.8/112.8 MB\u001b[0m \u001b[31m4.4 MB/s\u001b[0m eta \u001b[36m0:00:00\u001b[0m\n",
            "\u001b[?25hDownloading gpu4pyscf_libxc_cuda12x-0.5-py3-none-manylinux_2_17_x86_64.manylinux2014_x86_64.whl (164.1 MB)\n",
            "\u001b[2K   \u001b[90m━━━━━━━━━━━━━━━━━━━━━━━━━━━━━━━━━━━━━━━━\u001b[0m \u001b[32m164.1/164.1 MB\u001b[0m \u001b[31m4.8 MB/s\u001b[0m eta \u001b[36m0:00:00\u001b[0m\n",
            "\u001b[?25hDownloading cutensor_cu12-2.2.0-py3-none-manylinux2014_x86_64.whl (202.3 MB)\n",
            "\u001b[2K   \u001b[90m━━━━━━━━━━━━━━━━━━━━━━━━━━━━━━━━━━━━━━━━\u001b[0m \u001b[32m202.3/202.3 MB\u001b[0m \u001b[31m6.1 MB/s\u001b[0m eta \u001b[36m0:00:00\u001b[0m\n",
            "\u001b[?25hDownloading pyscf_dispersion-1.3.0-py3-none-manylinux_2_17_x86_64.manylinux2014_x86_64.whl (12.4 MB)\n",
            "\u001b[2K   \u001b[90m━━━━━━━━━━━━━━━━━━━━━━━━━━━━━━━━━━━━━━━━\u001b[0m \u001b[32m12.4/12.4 MB\u001b[0m \u001b[31m83.6 MB/s\u001b[0m eta \u001b[36m0:00:00\u001b[0m\n",
            "\u001b[?25hBuilding wheels for collected packages: geometric\n",
            "  Building wheel for geometric (setup.py) ... \u001b[?25l\u001b[?25hdone\n",
            "  Created wheel for geometric: filename=geometric-1.1-py3-none-any.whl size=402087 sha256=5c890c9c864fe46ea4aad2e0ae8dc8f335ac954370eb12f929be211f901b2932\n",
            "  Stored in directory: /root/.cache/pip/wheels/c5/77/0c/96a54539fe0560749fdbe283f92582d09bddb212856407a4cb\n",
            "Successfully built geometric\n",
            "Installing collected packages: gpu4pyscf-libxc-cuda12x, cutensor-cu12, pyscf, geometric, pyscf-dispersion, gpu4pyscf-cuda12x\n",
            "Successfully installed cutensor-cu12-2.2.0 geometric-1.1 gpu4pyscf-cuda12x-1.4.0 gpu4pyscf-libxc-cuda12x-0.5 pyscf-2.8.0 pyscf-dispersion-1.3.0\n"
          ]
        }
      ],
      "source": [
        "!pip install pyscf geometric gpu4pyscf-cuda12x cutensor-cu12"
      ]
    },
    {
      "cell_type": "code",
      "source": [
        "import numpy as np\n",
        "from pyscf import gto, scf, fci, ci, mcscf, mp, cc, dft, tddft\n",
        "from pyscf.hessian import thermo\n",
        "from pyscf.geomopt.geometric_solver import optimize\n",
        "import time"
      ],
      "metadata": {
        "id": "nNlTF_d97d_f"
      },
      "execution_count": null,
      "outputs": []
    },
    {
      "cell_type": "code",
      "source": [
        "gradients = []\n",
        "def callback(envs):\n",
        "    gradients.append(envs['gradients'])\n",
        "\n",
        "\n",
        "rco = 1.21\n",
        "rch = 1.11\n",
        "ahch = 120.\n",
        "\n",
        "geom_zmat = f'''\n",
        "O\n",
        "C   1   {rco}\n",
        "H   2   {rch}   1   {ahch}\n",
        "H   2   {rch}   1   {ahch}  3 180.\n",
        "'''\n",
        "\n",
        "hcoh = gto.Mole(atom=geom_zmat, unit='Angstrom', basis='augccpvqz', charge=0, spin=0, symmetry=False)\n",
        "hcoh.build()\n",
        "func = 'MN15_L'\n",
        "hcoh_calc = dft.RKS(hcoh, xc=func).to_gpu().run()\n",
        "hcoh_opt_geomtric = optimize(hcoh_calc, callback=callback)"
      ],
      "metadata": {
        "id": "ny55Ey5W7v9_",
        "colab": {
          "base_uri": "https://localhost:8080/"
        },
        "outputId": "5588510b-bad2-4973-d13a-a7cdabae54ac"
      },
      "execution_count": null,
      "outputs": [
        {
          "output_type": "stream",
          "name": "stderr",
          "text": [
            "/usr/local/lib/python3.11/dist-packages/gpu4pyscf/lib/cutensor.py:136: UserWarning: using cupy as the tensor contraction engine.\n",
            "  warnings.warn(f'using {contract_engine} as the tensor contraction engine.')\n"
          ]
        },
        {
          "output_type": "stream",
          "name": "stdout",
          "text": [
            "converged SCF energy = -114.449956323914\n"
          ]
        },
        {
          "output_type": "stream",
          "name": "stderr",
          "text": [
            "geometric-optimize called with the following command line:\n",
            "/usr/local/lib/python3.11/dist-packages/colab_kernel_launcher.py -f /root/.local/share/jupyter/runtime/kernel-7fbde24d-f3a1-4445-916c-14332d94c92d.json\n",
            "\n",
            "                                        \u001b[91m())))))))))))))))/\u001b[0m                     \n",
            "                                    \u001b[91m())))))))))))))))))))))))),\u001b[0m                \n",
            "                                \u001b[91m*)))))))))))))))))))))))))))))))))\u001b[0m             \n",
            "                        \u001b[94m#,\u001b[0m    \u001b[91m()))))))))/\u001b[0m                \u001b[91m.)))))))))),\u001b[0m          \n",
            "                      \u001b[94m#%%%%,\u001b[0m  \u001b[91m())))))\u001b[0m                        \u001b[91m.))))))))*\u001b[0m        \n",
            "                      \u001b[94m*%%%%%%,\u001b[0m  \u001b[91m))\u001b[0m              \u001b[93m..\u001b[0m              \u001b[91m,))))))).\u001b[0m      \n",
            "                        \u001b[94m*%%%%%%,\u001b[0m         \u001b[93m***************/.\u001b[0m        \u001b[91m.)))))))\u001b[0m     \n",
            "                \u001b[94m#%%/\u001b[0m      \u001b[94m(%%%%%%,\u001b[0m    \u001b[93m/*********************.\u001b[0m       \u001b[91m)))))))\u001b[0m    \n",
            "              \u001b[94m.%%%%%%#\u001b[0m      \u001b[94m*%%%%%%,\u001b[0m  \u001b[93m*******/,\u001b[0m     \u001b[93m**********,\u001b[0m      \u001b[91m.))))))\u001b[0m   \n",
            "                \u001b[94m.%%%%%%/\u001b[0m      \u001b[94m*%%%%%%,\u001b[0m  \u001b[93m**\u001b[0m              \u001b[93m********\u001b[0m      \u001b[91m.))))))\u001b[0m  \n",
            "          \u001b[94m##\u001b[0m      \u001b[94m.%%%%%%/\u001b[0m      \u001b[94m(%%%%%%,\u001b[0m                  \u001b[93m,******\u001b[0m      \u001b[91m/)))))\u001b[0m  \n",
            "        \u001b[94m%%%%%%\u001b[0m      \u001b[94m.%%%%%%#\u001b[0m      \u001b[94m*%%%%%%,\u001b[0m    \u001b[92m,/////.\u001b[0m       \u001b[93m******\u001b[0m      \u001b[91m))))))\u001b[0m \n",
            "      \u001b[94m#%\u001b[0m      \u001b[94m%%\u001b[0m      \u001b[94m.%%%%%%/\u001b[0m      \u001b[94m*%%%%%%,\u001b[0m  \u001b[92m////////,\u001b[0m      \u001b[93m*****/\u001b[0m     \u001b[91m,)))))\u001b[0m \n",
            "    \u001b[94m#%%\u001b[0m  \u001b[94m%%%\u001b[0m  \u001b[94m%%%#\u001b[0m      \u001b[94m.%%%%%%/\u001b[0m      \u001b[94m(%%%%%%,\u001b[0m  \u001b[92m///////.\u001b[0m     \u001b[93m/*****\u001b[0m      \u001b[91m))))).\u001b[0m\n",
            "  \u001b[94m#%%%%.\u001b[0m      \u001b[94m%%%%%#\u001b[0m      \u001b[94m/%%%%%%*\u001b[0m      \u001b[94m#%%%%%%\u001b[0m   \u001b[92m/////)\u001b[0m     \u001b[93m******\u001b[0m      \u001b[91m))))),\u001b[0m\n",
            "    \u001b[94m#%%%%##%\u001b[0m  \u001b[94m%%%#\u001b[0m      \u001b[94m.%%%%%%/\u001b[0m      \u001b[94m(%%%%%%,\u001b[0m  \u001b[92m///////.\u001b[0m     \u001b[93m/*****\u001b[0m      \u001b[91m))))).\u001b[0m\n",
            "      \u001b[94m##\u001b[0m     \u001b[94m%%%\u001b[0m      \u001b[94m.%%%%%%/\u001b[0m      \u001b[94m*%%%%%%,\u001b[0m  \u001b[92m////////.\u001b[0m      \u001b[93m*****/\u001b[0m     \u001b[91m,)))))\u001b[0m \n",
            "        \u001b[94m#%%%%#\u001b[0m      \u001b[94m/%%%%%%/\u001b[0m      \u001b[94m(%%%%%%\u001b[0m      \u001b[92m/)/)//\u001b[0m       \u001b[93m******\u001b[0m      \u001b[91m))))))\u001b[0m \n",
            "          \u001b[94m##\u001b[0m      \u001b[94m.%%%%%%/\u001b[0m      \u001b[94m(%%%%%%,\u001b[0m                  \u001b[93m*******\u001b[0m      \u001b[91m))))))\u001b[0m  \n",
            "                \u001b[94m.%%%%%%/\u001b[0m      \u001b[94m*%%%%%%,\u001b[0m  \u001b[93m**.\u001b[0m             \u001b[93m/*******\u001b[0m      \u001b[91m.))))))\u001b[0m  \n",
            "              \u001b[94m*%%%%%%/\u001b[0m      \u001b[94m(%%%%%%\u001b[0m   \u001b[93m********/*..,*/*********\u001b[0m       \u001b[91m*))))))\u001b[0m   \n",
            "                \u001b[94m#%%/\u001b[0m      \u001b[94m(%%%%%%,\u001b[0m    \u001b[93m*********************/\u001b[0m        \u001b[91m)))))))\u001b[0m    \n",
            "                        \u001b[94m*%%%%%%,\u001b[0m         \u001b[93m,**************/\u001b[0m         \u001b[91m,))))))/\u001b[0m     \n",
            "                      \u001b[94m(%%%%%%\u001b[0m   \u001b[91m()\u001b[0m                              \u001b[91m))))))))\u001b[0m       \n",
            "                      \u001b[94m#%%%%,\u001b[0m  \u001b[91m())))))\u001b[0m                        \u001b[91m,)))))))),\u001b[0m        \n",
            "                        \u001b[94m#,\u001b[0m    \u001b[91m())))))))))\u001b[0m                \u001b[91m,)))))))))).\u001b[0m          \n",
            "                                 \u001b[91m()))))))))))))))))))))))))))))))/\u001b[0m             \n",
            "                                    \u001b[91m())))))))))))))))))))))))).\u001b[0m                \n",
            "                                         \u001b[91m())))))))))))))),\u001b[0m                     \n",
            "\n",
            "-=# \u001b[1;94m geomeTRIC started. Version: 1.1 \u001b[0m #=-\n",
            "Current date and time: 2025-04-17 08:01:31\n",
            "#========================================================#\n",
            "#| \u001b[92m    Arguments passed to driver run_optimizer():     \u001b[0m |#\n",
            "#========================================================#\n",
            "customengine              <pyscf.geomopt.geometric_solver.PySCFEngine object at 0x79deae1de890> \n",
            "input                     /tmp/tmp9zhbul7l/8da81731-abc6-4b17-b7f9-cc46e6d274d1 \n",
            "logIni                    /usr/local/lib/python3.11/dist-packages/pyscf/geomopt/log.ini \n",
            "----------------------------------------------------------\n",
            "Custom engine selected.\n",
            "Bonds will be generated from interatomic distances less than 1.20 times sum of covalent radii\n",
            "12 internal coordinates being used (instead of 12 Cartesians)\n",
            "Internal coordinate system (atoms numbered from 1):\n",
            "Distance 1-2\n",
            "Distance 2-3\n",
            "Distance 2-4\n",
            "Angle 1-2-4\n",
            "Angle 3-2-4\n",
            "Out-of-Plane 2-1-3-4\n",
            "Translation-X 1-4\n",
            "Translation-Y 1-4\n",
            "Translation-Z 1-4\n",
            "Rotation-A 1-4\n",
            "Rotation-B 1-4\n",
            "Rotation-C 1-4\n",
            "<class 'geometric.internal.Distance'> : 3\n",
            "<class 'geometric.internal.Angle'> : 2\n",
            "<class 'geometric.internal.OutOfPlane'> : 1\n",
            "<class 'geometric.internal.TranslationX'> : 1\n",
            "<class 'geometric.internal.TranslationY'> : 1\n",
            "<class 'geometric.internal.TranslationZ'> : 1\n",
            "<class 'geometric.internal.RotationA'> : 1\n",
            "<class 'geometric.internal.RotationB'> : 1\n",
            "<class 'geometric.internal.RotationC'> : 1\n",
            "> ===== Optimization Info: ====\n",
            "> Job type: Energy minimization\n",
            "> Maximum number of optimization cycles: 300\n",
            "> Initial / maximum trust radius (Angstrom): 0.100 / 0.300\n",
            "> Convergence Criteria:\n",
            "> Will converge when all 5 criteria are reached:\n",
            ">  |Delta-E| < 1.00e-06\n",
            ">  RMS-Grad  < 3.00e-04\n",
            ">  Max-Grad  < 4.50e-04\n",
            ">  RMS-Disp  < 1.20e-03\n",
            ">  Max-Disp  < 1.80e-03\n",
            "> === End Optimization Info ===\n"
          ]
        },
        {
          "output_type": "stream",
          "name": "stdout",
          "text": [
            "\n",
            "Geometry optimization cycle 1\n",
            "Cartesian coordinates (Angstrom)\n",
            " Atom        New coordinates             dX        dY        dZ\n",
            "   O   0.000000   0.000000   0.000000    0.000000  0.000000  0.000000\n",
            "   C   1.210000   0.000000   0.000000    0.000000  0.000000  0.000000\n",
            "   H   1.765000   0.000000   0.961288    0.000000  0.000000  0.000000\n",
            "   H   1.765000  -0.000000  -0.961288    0.000000  0.000000  0.000000\n",
            "converged SCF energy = -114.449956323915\n",
            "--------------- RKS_Scanner gradients ---------------\n",
            "         x                y                z\n",
            "0 O    -0.0086193409    -0.0000000000    -0.0000000000\n",
            "1 C     0.0242941354    -0.0000000000    -0.0000000000\n",
            "2 H    -0.0078646484    -0.0000000000    -0.0013917152\n",
            "3 H    -0.0078646484     0.0000000000     0.0013917152\n",
            "----------------------------------------------\n",
            "cycle 1: E = -114.449956324  dE = -114.45  norm(grad) = 0.0281439\n"
          ]
        },
        {
          "output_type": "stream",
          "name": "stderr",
          "text": [
            "Step    0 : Gradient = 1.407e-02/2.429e-02 (rms/max) Energy = -114.4499563239\n",
            "Hessian Eigenvalues: 4.50000e-02 5.00000e-02 5.00000e-02 ... 3.26000e-01 3.26000e-01 9.99547e-01\n"
          ]
        },
        {
          "output_type": "stream",
          "name": "stdout",
          "text": [
            "\n",
            "Geometry optimization cycle 2\n",
            "Cartesian coordinates (Angstrom)\n",
            " Atom        New coordinates             dX        dY        dZ\n",
            "   O  -0.016908   0.000000  -0.018718   -0.016908  0.000000 -0.018718\n",
            "   C   1.188144   0.000000   0.012017   -0.021856  0.000000  0.012017\n",
            "   H   1.799250   0.000000   0.948612    0.034250  0.000000 -0.012676\n",
            "   H   1.771821   0.000000  -0.941911    0.006821  0.000000  0.019377\n",
            "converged SCF energy = -114.450278154946\n",
            "--------------- RKS_Scanner gradients ---------------\n",
            "         x                y                z\n",
            "0 O    -0.0066287354    -0.0000000000    -0.0067984673\n",
            "1 C     0.0071484184     0.0000000000     0.0096459820\n",
            "2 H     0.0030339722    -0.0000000000    -0.0031345811\n",
            "3 H    -0.0035866985    -0.0000000000     0.0003020881\n",
            "----------------------------------------------\n",
            "cycle 2: E = -114.450278155  dE = -0.000321831  norm(grad) = 0.0163184\n"
          ]
        },
        {
          "output_type": "stream",
          "name": "stderr",
          "text": [
            "Step    1 : Displace = \u001b[0m2.744e-02\u001b[0m/\u001b[0m3.598e-02\u001b[0m (rms/max) Trust = 1.000e-01 (=) Grad = \u001b[0m8.159e-03\u001b[0m/\u001b[0m1.201e-02\u001b[0m (rms/max) E (change) = -114.4502781549 (\u001b[0m-3.218e-04\u001b[0m) Quality = \u001b[0m0.511\u001b[0m\n",
            "Hessian Eigenvalues: 4.50000e-02 4.99937e-02 5.00000e-02 ... 3.25391e-01 4.58600e-01 9.52010e-01\n"
          ]
        },
        {
          "output_type": "stream",
          "name": "stdout",
          "text": [
            "\n",
            "Geometry optimization cycle 3\n",
            "Cartesian coordinates (Angstrom)\n",
            " Atom        New coordinates             dX        dY        dZ\n",
            "   O  -0.017095   0.000000   0.008481   -0.000187  0.000000  0.027198\n",
            "   C   1.183072   0.000000  -0.005278   -0.005072 -0.000000 -0.017296\n",
            "   H   1.782754   0.000000   0.945932   -0.016496  0.000000 -0.002680\n",
            "   H   1.795925   0.000000  -0.949562    0.024104  0.000000 -0.007650\n",
            "converged SCF energy = -114.450523767599\n",
            "--------------- RKS_Scanner gradients ---------------\n",
            "         x                y                z\n",
            "0 O     0.0003265400    -0.0000000000     0.0030116167\n",
            "1 C    -0.0044996480    -0.0000000000    -0.0037617843\n",
            "2 H     0.0003855856     0.0000000000     0.0011517585\n",
            "3 H     0.0037632771     0.0000000000    -0.0004080990\n",
            "----------------------------------------------\n",
            "cycle 3: E = -114.450523768  dE = -0.000245613  norm(grad) = 0.00770573\n"
          ]
        },
        {
          "output_type": "stream",
          "name": "stderr",
          "text": [
            "Step    2 : Displace = \u001b[0m2.226e-02\u001b[0m/\u001b[0m2.717e-02\u001b[0m (rms/max) Trust = 1.000e-01 (=) Grad = \u001b[0m3.853e-03\u001b[0m/\u001b[0m5.865e-03\u001b[0m (rms/max) E (change) = -114.4505237676 (\u001b[0m-2.456e-04\u001b[0m) Quality = \u001b[0m0.507\u001b[0m\n",
            "Hessian Eigenvalues: 4.50000e-02 4.99933e-02 5.00000e-02 ... 3.24732e-01 5.14694e-01 9.35377e-01\n"
          ]
        },
        {
          "output_type": "stream",
          "name": "stdout",
          "text": [
            "\n",
            "Geometry optimization cycle 4\n",
            "Cartesian coordinates (Angstrom)\n",
            " Atom        New coordinates             dX        dY        dZ\n",
            "   O  -0.012788   0.000000   0.000036    0.004307  0.000000 -0.008444\n",
            "   C   1.188531   0.000000  -0.000160    0.005459  0.000000  0.005118\n",
            "   H   1.784407   0.000000   0.949694    0.001653 -0.000000  0.003762\n",
            "   H   1.784693   0.000000  -0.949828   -0.011233 -0.000000 -0.000266\n",
            "converged SCF energy = -114.450621606196\n",
            "--------------- RKS_Scanner gradients ---------------\n",
            "         x                y                z\n",
            "0 O    -0.0000676788    -0.0000000000     0.0000528184\n",
            "1 C     0.0002810334     0.0000000000    -0.0000774977\n",
            "2 H    -0.0001499003     0.0000000000     0.0000366904\n",
            "3 H    -0.0000985358    -0.0000000000    -0.0000121702\n",
            "----------------------------------------------\n",
            "cycle 4: E = -114.450621606  dE = -9.78386e-05  norm(grad) = 0.000355006\n"
          ]
        },
        {
          "output_type": "stream",
          "name": "stderr",
          "text": [
            "Step    3 : Displace = \u001b[0m8.500e-03\u001b[0m/\u001b[0m1.128e-02\u001b[0m (rms/max) Trust = 1.000e-01 (=) Grad = \u001b[92m1.775e-04\u001b[0m/\u001b[92m2.915e-04\u001b[0m (rms/max) E (change) = -114.4506216062 (\u001b[0m-9.784e-05\u001b[0m) Quality = \u001b[0m0.987\u001b[0m\n",
            "Hessian Eigenvalues: 4.50000e-02 4.99924e-02 5.00000e-02 ... 3.24770e-01 4.96453e-01 9.35452e-01\n"
          ]
        },
        {
          "output_type": "stream",
          "name": "stdout",
          "text": [
            "\n",
            "Geometry optimization cycle 5\n",
            "Cartesian coordinates (Angstrom)\n",
            " Atom        New coordinates             dX        dY        dZ\n",
            "   O  -0.012715   0.000000  -0.000137    0.000072  0.000000 -0.000173\n",
            "   C   1.188521  -0.000000  -0.000047   -0.000009 -0.000000  0.000113\n",
            "   H   1.785241  -0.000000   0.949406    0.000834 -0.000000 -0.000287\n",
            "   H   1.785282   0.000000  -0.949481    0.000589  0.000000  0.000347\n",
            "converged SCF energy = -114.450621780286\n",
            "--------------- RKS_Scanner gradients ---------------\n",
            "         x                y                z\n",
            "0 O    -0.0000235009     0.0000000000    -0.0000091309\n",
            "1 C    -0.0000123365    -0.0000000000     0.0000154214\n",
            "2 H     0.0000045887     0.0000000000    -0.0000079587\n",
            "3 H    -0.0000029878     0.0000000000     0.0000016779\n",
            "----------------------------------------------\n",
            "cycle 5: E = -114.45062178  dE = -1.7409e-07  norm(grad) = 3.34935e-05\n"
          ]
        },
        {
          "output_type": "stream",
          "name": "stderr",
          "text": [
            "Step    4 : Displace = \u001b[92m4.307e-04\u001b[0m/\u001b[92m5.477e-04\u001b[0m (rms/max) Trust = 1.414e-01 (\u001b[92m+\u001b[0m) Grad = \u001b[92m1.675e-05\u001b[0m/\u001b[92m2.521e-05\u001b[0m (rms/max) E (change) = -114.4506217803 (\u001b[92m-1.741e-07\u001b[0m) Quality = \u001b[0m0.825\u001b[0m\n",
            "Hessian Eigenvalues: 4.50000e-02 4.99924e-02 5.00000e-02 ... 3.24770e-01 4.96453e-01 9.35452e-01\n",
            "Converged! =D\n",
            "\n",
            "    #==========================================================================#\n",
            "    #| If this code has benefited your research, please support us by citing: |#\n",
            "    #|                                                                        |#\n",
            "    #| Wang, L.-P.; Song, C.C. (2016) \"Geometry optimization made simple with |#\n",
            "    #| translation and rotation coordinates\", J. Chem, Phys. 144, 214108.     |#\n",
            "    #| http://dx.doi.org/10.1063/1.4952956                                    |#\n",
            "    #==========================================================================#\n",
            "    Time elapsed since start of run_optimizer: 351.448 seconds\n"
          ]
        }
      ]
    },
    {
      "cell_type": "code",
      "source": [
        "hcoh.set(atom=hcoh_opt_geomtric.tostring())\n",
        "hcoh.build()\n",
        "hcoh_opt = dft.RKS(hcoh, xc=func).to_gpu().run()\n",
        "td = hcoh_opt.TDDFT().set(nstates=5)\n",
        "assert td.device == 'gpu'\n",
        "e_tddft = td.kernel()[0]"
      ],
      "metadata": {
        "colab": {
          "base_uri": "https://localhost:8080/"
        },
        "id": "k21B4GiKx2AK",
        "outputId": "e4653337-98c2-4464-b0d5-c04a8036b0d2"
      },
      "execution_count": null,
      "outputs": [
        {
          "output_type": "stream",
          "name": "stdout",
          "text": [
            "converged SCF energy = -114.450621780205\n",
            "Excited State energies (eV)\n",
            "[4.66854957 6.29673354 7.00602524 7.2647969  7.64247357]\n"
          ]
        }
      ]
    },
    {
      "cell_type": "code",
      "source": [
        "td.analyze(verbose=4)"
      ],
      "metadata": {
        "colab": {
          "base_uri": "https://localhost:8080/"
        },
        "id": "BAu7O61Nza_T",
        "outputId": "85dec11a-f37b-4f61-da58-6d1c19357840"
      },
      "execution_count": null,
      "outputs": [
        {
          "output_type": "stream",
          "name": "stdout",
          "text": [
            "\n",
            "** Singlet excitation energies and oscillator strengths **\n",
            "Excited State   1:      4.66855 eV    265.57 nm  f=0.0000\n",
            "       8 -> 9         0.70699\n",
            "Excited State   2:      6.29673 eV    196.90 nm  f=0.0308\n",
            "       8 -> 10        0.70688\n",
            "Excited State   3:      7.00603 eV    176.97 nm  f=0.0298\n",
            "       8 -> 11       -0.70651\n",
            "Excited State   4:      7.26480 eV    170.66 nm  f=0.0192\n",
            "       8 -> 12        0.70624\n",
            "Excited State   5:      7.64247 eV    162.23 nm  f=0.0000\n",
            "       8 -> 13        0.70704\n",
            "\n",
            "** Transition electric dipole moments (AU) **\n",
            "state          X           Y           Z        Dip. S.      Osc.\n",
            "  1        -0.0000      0.0000     -0.0000      0.0000      0.0000\n",
            "  2        -0.0000      0.0000      0.4472      0.1999      0.0308\n",
            "  3        -0.4165      0.0000     -0.0000      0.1734      0.0298\n",
            "  4         0.0000     -0.0000     -0.3284      0.1078      0.0192\n",
            "  5         0.0000     -0.0000      0.0000      0.0000      0.0000\n",
            "\n",
            "** Transition velocity dipole moments (imaginary part, AU) **\n",
            "state          X           Y           Z        Dip. S.      Osc.\n",
            "  1        -0.0000      0.0000     -0.0000      0.0000      0.0000\n",
            "  2        -0.0000      0.0000      0.0948      0.0090      0.0259\n",
            "  3        -0.0987      0.0000     -0.0000      0.0097      0.0252\n",
            "  4         0.0000     -0.0000     -0.0784      0.0062      0.0154\n",
            "  5         0.0000     -0.0000      0.0000      0.0000      0.0000\n",
            "\n",
            "** Transition magnetic dipole moments (imaginary part, AU) **\n",
            "state          X           Y           Z\n",
            "  1        -1.1974      0.0000     -0.0001\n",
            "  2        -0.0000      0.3171      0.0000\n",
            "  3        -0.0000      0.0000     -0.0000\n",
            "  4         0.0000      0.5199     -0.0000\n",
            "  5        -0.1197      0.0000     -0.0000\n"
          ]
        },
        {
          "output_type": "execute_result",
          "data": {
            "text/plain": [
              "<gpu4pyscf.tdscf.rks.CasidaTDDFT at 0x79deb01c62d0>"
            ]
          },
          "metadata": {},
          "execution_count": 6
        }
      ]
    }
  ]
}